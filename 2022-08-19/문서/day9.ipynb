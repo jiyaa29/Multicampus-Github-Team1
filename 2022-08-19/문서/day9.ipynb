{
 "cells": [
  {
   "cell_type": "markdown",
   "id": "3241c6b8",
   "metadata": {},
   "source": [
    "# 복습\n",
    "<br>\n",
    "\n",
    "함수와 객체지향 프로그램 구현 차이\n",
    "\n",
    "버튼을 누르면 동물이 출현하고 춤을추고... 장난감 프로그램 구현\n",
    "\n",
    "---\n",
    "\n",
    "함수 중심은 \n",
    "```python\n",
    "dance(버튼번호) {if 버튼 == 1 강아지가 회전하면서 춤을 추고 멜로디 1}\n",
    "                elif 버튼 == 2 ......\n",
    "                ..... \n",
    "                }\n",
    "play(버튼번호) {if 버튼 == 1 강아지 왈츠 play}\n",
    "               elif 버튼 == 2 고양이 음악\n",
    "               .....\n",
    "               }\n",
    "...\n",
    "```\n",
    "객체 지향은\n",
    "```python\n",
    "class 버튼 1 {\n",
    "              속성 1 = 강아지\n",
    "              속성 2 = 강아지 왈츠\n",
    "              dance(){\n",
    "                      속성1이 회전하면서 춤을 춘다\n",
    "                      }\n",
    "              play() {\n",
    "                      속성2를 play start 한다\n",
    "                      }\n",
    "            }\n",
    "\n",
    "class 버튼 2 {\n",
    "              .....\n",
    "             }\n",
    "```\n",
    "\n",
    "함수는 변경이 발생하면 코드가 전체적으로 수정될 수 있고, 전체적으로 테스트를 해야 함\n",
    "\n",
    "기능이 추가(확장)되면 코드가 전체적으로 수정될 수 있고, 전체적으로 테스트를 해야 함\n",
    "\n",
    "---\n",
    "\n",
    "객체지향은 변경이 발생하면 변경해야할 클래스만 수정하면 댐, 변경된 클래스만 테스트하면 댐\n",
    "\n",
    "기능이 추가(확장)되면 이미 만들어진 클래스에 대한 변경은 없고, 클래스 단위로 정의해서 추가하기\n"
   ]
  },
  {
   "cell_type": "markdown",
   "id": "ec035f4b",
   "metadata": {},
   "source": [
    "클래스 : 속성과 기능(동작) 메서드, 속성을 초기화하는 메서드로 구성\n",
    "\n",
    "클래스의 목적은 객체를 생성하는 설계도, 객체를 메모리 생성하기 위해서 클래스를 정의\n",
    "\n",
    "명시적 상속을 선언하지 않으면 object를 상속받음\n",
    "\n",
    "python의 모든 클래스는 object를 상속받음\n",
    "\n",
    "object는 모든 python의 객체가 갖춰야하는 속성과 메서드가 정의되어 있음\n",
    "\n",
    "```python\n",
    "class 클래스이름(부모클래스):\n",
    "    \n",
    "    \n",
    "    클래스변수 \n",
    "    \n",
    "    \n",
    "    def __new__(cls, *arg, **kwargs):             # 여기서 객체가 생성\n",
    "     \n",
    "        \n",
    "        \n",
    "    def __init__(self, 초기화되어야할 parameters):         # 초기값, 초기화?\n",
    "        self.인스턴스변수 = 초기값 # ex 객체 = 클래스이름('korea',2020,'seoul')\n",
    "     \n",
    "        \n",
    "        \n",
    "    def play_music(self,..):                       # 객체.playMusic(..)\n",
    "        blabla                       # 객체의 속성을 처리, 기능 수행\n",
    "        \n",
    "        \n",
    "        \n",
    "    @staticmethod                \n",
    "    def staticAction(parameters):  # 객체 속성을 처리, 기능 X, 독립적기능 수행\n",
    "        blabla        # 객체.staticAction(..) or 클래스이름.staticAction(..)\n",
    "        \n",
    "        \n",
    "        \n",
    "    @classmethod\n",
    "    def classAction(cls, ..):        # 위에 클래스변수를 처리하기 위한 메서드\n",
    "        cls.클래스변수\n",
    "        \n",
    "\n",
    "        \n",
    "```\n",
    "클래스 변수의 주인은 클래스, 인스턴스변수의 주인은 객체\n",
    "\n",
    "---"
   ]
  },
  {
   "cell_type": "markdown",
   "id": "bc61cac1",
   "metadata": {},
   "source": [
    "### 클래스 메소드\n",
    "<br>\n",
    "\n"
   ]
  },
  {
   "cell_type": "code",
   "execution_count": 4,
   "id": "9e8513a8",
   "metadata": {},
   "outputs": [
    {
     "name": "stdout",
     "output_type": "stream",
     "text": [
      "1\n",
      "2\n",
      "3\n",
      "3\n",
      "3\n"
     ]
    }
   ],
   "source": [
    "class InstanceCounter :\n",
    "    count=0                            # 클래스 변수, 클래스로부터 생성되는 객체 개수 저장할 변수\n",
    "    \n",
    "    def __init__(self):\n",
    "        InstanceCounter.count += 1     # 클래스 이름으로 클래스변수 참조 및 변경\n",
    "    \n",
    "        \n",
    "    @classmethod\n",
    "    def print_instance_count(cls):     # 클래스 변수를 참조, 출력하는 메서드\n",
    "        print(cls.count)\n",
    "        \n",
    "        \n",
    "        \n",
    "a = InstanceCounter()                   # 객체 생성\n",
    "InstanceCounter.print_instance_count()  # InstanceCounter클래스로부터 생성된 객체수 출력\n",
    "\n",
    "b = InstanceCounter()                   # 객체 생성\n",
    "InstanceCounter.print_instance_count()  # InstanceCounter클래스로부터 생성된 객체수 출력\n",
    "\n",
    "c = InstanceCounter()                   # 객체 생성\n",
    "c.print_instance_count()                # InstanceCounter클래스로부터 생성된 객체수 출력\n",
    "a.print_instance_count()\n",
    "b.print_instance_count()"
   ]
  },
  {
   "cell_type": "markdown",
   "id": "4596635b",
   "metadata": {},
   "source": [
    "## Private member\n",
    "<br>\n",
    "\n",
    "클래스 안에서만 접근이 가능한 멤버\n",
    "\n",
    "접두사는 언더바 2개, 접미사는 1개 (2개면 public member로 간주함)"
   ]
  },
  {
   "cell_type": "code",
   "execution_count": 3,
   "id": "a2d3211f",
   "metadata": {},
   "outputs": [
    {
     "name": "stdout",
     "output_type": "stream",
     "text": [
      "Public\n",
      "Private\n",
      "Public\n"
     ]
    },
    {
     "ename": "AttributeError",
     "evalue": "'HashPrivate' object has no attribute '__private'",
     "output_type": "error",
     "traceback": [
      "\u001b[1;31m---------------------------------------------------------------------------\u001b[0m",
      "\u001b[1;31mAttributeError\u001b[0m                            Traceback (most recent call last)",
      "\u001b[1;32m~\\AppData\\Local\\Temp/ipykernel_12212/1406376685.py\u001b[0m in \u001b[0;36m<module>\u001b[1;34m\u001b[0m\n\u001b[0;32m     13\u001b[0m \u001b[1;33m\u001b[0m\u001b[0m\n\u001b[0;32m     14\u001b[0m \u001b[0mprint\u001b[0m\u001b[1;33m(\u001b[0m\u001b[0mobj\u001b[0m\u001b[1;33m.\u001b[0m\u001b[0mpublic\u001b[0m\u001b[1;33m)\u001b[0m                        \u001b[1;31m# 객체의 메서드 내부가 아닌 외부에서 멤버변수 참조\u001b[0m\u001b[1;33m\u001b[0m\u001b[1;33m\u001b[0m\u001b[0m\n\u001b[1;32m---> 15\u001b[1;33m \u001b[0mprint\u001b[0m\u001b[1;33m(\u001b[0m\u001b[0mobj\u001b[0m\u001b[1;33m.\u001b[0m\u001b[0m__private\u001b[0m\u001b[1;33m)\u001b[0m\u001b[1;33m\u001b[0m\u001b[1;33m\u001b[0m\u001b[0m\n\u001b[0m\u001b[0;32m     16\u001b[0m \u001b[1;33m\u001b[0m\u001b[0m\n\u001b[0;32m     17\u001b[0m \u001b[1;33m\u001b[0m\u001b[0m\n",
      "\u001b[1;31mAttributeError\u001b[0m: 'HashPrivate' object has no attribute '__private'"
     ]
    }
   ],
   "source": [
    "class HashPrivate:\n",
    "    def __init__(self):                 # 객체 생성후에 멤버변수(인스턴스 변수)초기화\n",
    "        self.public = \"Public\"\n",
    "        self.__private = \"Private\"\n",
    "        \n",
    "    def print_from_internal(self):      # 일반 메서드, 객체의 멤버변수 출력\n",
    "        print(self.public)\n",
    "        print(self.__private)\n",
    "        \n",
    "\n",
    "obj = HashPrivate()                      # 객체 생성\n",
    "obj.print_from_internal()\n",
    "\n",
    "print(obj.public)                        # 객체의 메서드 내부가 아닌 외부에서 멤버변수 참조\n",
    "print(obj.__private)\n",
    "\n",
    "\n",
    "\n",
    "# 결과보면 위에거는 출력이 되지만 아래거는 private이라 참조 불가능, 오류"
   ]
  },
  {
   "cell_type": "markdown",
   "id": "9f5a25cb",
   "metadata": {},
   "source": [
    "# 상속\n",
    "<br>\n",
    "\n",
    "• 코드의 재사용성 향상\n",
    "\n",
    "• 상속할 부모 클래스를 명시하지 않은 채 정의된 클래스는 object로부터 상속받습니다.\n",
    "\n",
    "```python\n",
    "class 기반 클래스:\n",
    "    # 멤버 정의\n",
    "    \n",
    "class 파생 클래스(기반 클래스):\n",
    "    # 아무 멤버를 정의하지 않아도 기반 클래스의 모든 것을 물려받아 갖게 됩니다. \n",
    "    # 단, 프라이빗 멤버는 제외됩니다.\n",
    "```\n",
    "\n"
   ]
  },
  {
   "cell_type": "code",
   "execution_count": 23,
   "id": "20c69a5a",
   "metadata": {},
   "outputs": [
    {
     "name": "stdout",
     "output_type": "stream",
     "text": [
      "A.__init__() called\n",
      "B.__init__()\n",
      "Made in A\n",
      "A.action called\n"
     ]
    }
   ],
   "source": [
    "class A :                                # object를 자동으로 상속받음, B의 부모 클래스(Super, base)\n",
    "    \n",
    "    def __init__(self):                  # 생성된 객체의 초기화\n",
    "        print(\"A.__init__() called\")     # 메서드가 호출됬다는걸 확인하기 위해서 출력해보기\n",
    "        self.message = \"Made in A\"       # 인스턴스 변수 정의 및 초기화\n",
    "\n",
    "        \n",
    "    def action(self):                    # 걍 이 메서드를 호출할 수 있는지 확인차 만듬 \n",
    "        print(\"A.action called\")\n",
    "    \n",
    "        \n",
    "class B(A) :                             # B는 A의 자식 클래스(Child, Sub, Drived)\n",
    "    \n",
    "    def __init__(self):                  # 생성된 객체의 초기화\n",
    "        A.__init__(self)                     # 부모클래스의 초기화메서드 호출했으므로 message 속성을 상속 받음\n",
    "        print(\"B.__init__()\")            # 메서드가 호출됬다는걸 확인하기 위해서 출력해보기\n",
    "\n",
    "        \n",
    "    \n",
    "obj = B()                                # 객체 생성 \n",
    "print(obj.message)                       # 상속받은 message 멤버 변수 참조\n",
    "\n",
    "obj.action()                             # 상속받은 메서드 호출 가능? \n"
   ]
  },
  {
   "cell_type": "code",
   "execution_count": 32,
   "id": "0d9b66f4",
   "metadata": {},
   "outputs": [
    {
     "name": "stdout",
     "output_type": "stream",
     "text": [
      "A.__init__() called\n",
      "C.__init__() called\n",
      "Made in A\n",
      "C.action called\n"
     ]
    }
   ],
   "source": [
    "class C(A) :                             # C는 A의 자식 클래스(Child, Sub, Drived)\n",
    "    \n",
    "    def __init__(self):                  # 생성된 객체의 초기화\n",
    "        A.__init__(self)\n",
    "        print(\"C.__init__() called\")     # 부모클래스의 초기화메서드 호출했으므로 message속성 상속받음\n",
    "\n",
    "        \n",
    "    def action(self):                    # 부모 A 로부터 상속받은 메서드를 override 재정의\n",
    "        print(\"C.action called\")\n",
    "        \n",
    "        \n",
    "    def __str__(self):                   # 부모 object 로부터 상속받은 메서드를 override 재정의\n",
    "        return \"C로부터 생성된 객체\"\n",
    "        \n",
    "        \n",
    "        \n",
    "obj2 = C()\n",
    "print(obj2.message)\n",
    "\n",
    "obj2.action()"
   ]
  },
  {
   "cell_type": "code",
   "execution_count": 33,
   "id": "e1e36854",
   "metadata": {},
   "outputs": [
    {
     "name": "stdout",
     "output_type": "stream",
     "text": [
      "<__main__.B object at 0x00000264846F08E0>\n",
      "<__main__.B object at 0x00000264846F08E0>\n",
      "C로부터 생성된 객체\n",
      "C로부터 생성된 객체\n"
     ]
    }
   ],
   "source": [
    "print(obj)\n",
    "print(obj.__str__())\n",
    "print(obj2)\n",
    "print(obj2.__str__())"
   ]
  },
  {
   "cell_type": "markdown",
   "id": "ff04f9a1",
   "metadata": {},
   "source": [
    "• super()는 부모 클래스의 객체 역할을 하는 프록시(Proxy)를 반환하는 내장 함수입니다.\n",
    "\n",
    "• super() 함수의 반환값을 상위 클래스의 객체로 간주하고 코딩을 해도 됩니다.\n",
    "\n",
    "• 기반 클래스가 다른 클래스로 교체되거나 수정되어도 파생 클래스가 받는 영향을 최소화할 수 있습니다.\n",
    "\n",
    "• 객체 내의 어떤 메소드에서든 부모 클래스에 정의되어 있는 버전의 메소드를 호출하고 싶으면 super()를 이용"
   ]
  },
  {
   "cell_type": "code",
   "execution_count": 37,
   "id": "5d55f719",
   "metadata": {},
   "outputs": [
    {
     "name": "stdout",
     "output_type": "stream",
     "text": [
      "A.__init__() called\n",
      "D.__init__() called\n",
      "Made in A\n",
      "D.action called\n",
      "A.action called\n"
     ]
    }
   ],
   "source": [
    "class D(A) :                             \n",
    "    \n",
    "    def __init__(self):                  \n",
    "        super().__init__()               # super() 쓸때는 self 안 넘겨줌\n",
    "        print(\"D.__init__() called\")     \n",
    "\n",
    "        \n",
    "    def action(self):                    \n",
    "        print(\"D.action called\")\n",
    "        super().action()                   # 부모로부터 상속받은 action() 호출\n",
    "        \n",
    "obj3 = D()\n",
    "print(obj3.message)\n",
    "\n",
    "obj3.action()"
   ]
  },
  {
   "cell_type": "markdown",
   "id": "e9dbdb2c",
   "metadata": {},
   "source": [
    "## 다중 상속\n",
    "<br>\n",
    "\n",
    "python에서는 다중 상속도 가능\n",
    "\n",
    "```python\n",
    "class A:\n",
    "    pass\n",
    "\n",
    "class B:\n",
    "    pass\n",
    "\n",
    "class C:\n",
    "    pass\n",
    "\n",
    "class D(A,B,C):\n",
    "    pass\n",
    "```"
   ]
  },
  {
   "cell_type": "code",
   "execution_count": 2,
   "id": "9838f582",
   "metadata": {},
   "outputs": [
    {
     "name": "stdout",
     "output_type": "stream",
     "text": [
      "D.__init__() called\n",
      "B.action called\n"
     ]
    }
   ],
   "source": [
    "class A :                               \n",
    "    \n",
    "    def __init__(self):                 \n",
    "        print(\"A.__init__() called\")     \n",
    "    \n",
    "\n",
    "    def action(self):                    \n",
    "        print(\"A.action called\")\n",
    " \n",
    "\n",
    "class B :                                \n",
    "    \n",
    "    def __init__(self):                  \n",
    "        print(\"B.__init__() called\")     \n",
    "    \n",
    "\n",
    "    def action(self):                     \n",
    "        print(\"B.action called\")\n",
    "    \n",
    "    \n",
    "    \n",
    "class C :                                \n",
    "    \n",
    "    def __init__(self):                  \n",
    "        print(\"C.__init__() called\")     \n",
    "    \n",
    "\n",
    "    def action(self):                     \n",
    "        print(\"C.action called\")\n",
    "        \n",
    "\n",
    "    \n",
    "class D (B,C,A):                        \n",
    "    def __init__(self):                 \n",
    "        print(\"D.__init__() called\")  \n",
    "        \n",
    "        \n",
    "    \n",
    "d = D()\n",
    "d.action()                    # 각 클래스들에 이름이 같은 메서드가 있다면, 맨 앞의 클래스를 상속받음"
   ]
  },
  {
   "cell_type": "markdown",
   "id": "46e263c8",
   "metadata": {},
   "source": [
    "## 오버라이딩\n",
    "<br>\n",
    "\n",
    "다중 상속을 처리할 때 부모 클래스의 목록에서 가장 앞에 있는 클래스의 메소드를 물려줌"
   ]
  },
  {
   "cell_type": "code",
   "execution_count": 163,
   "id": "9f01964b",
   "metadata": {},
   "outputs": [],
   "source": [
    "# 노트북 실습\n",
    "\n",
    "class Note(object):\n",
    "    \n",
    "    \n",
    "    def __init__(self, contents = None):  \n",
    "        self.contents = contents\n",
    "\n",
    "        \n",
    "    def write_contents(self, contents):\n",
    "        self.contents = contents\n",
    "\n",
    "        \n",
    "    def remove_all(self):\n",
    "        self.contents = \"\"\n",
    "\n",
    "        \n",
    "    def __str__(self):\n",
    "        return self.contents\n",
    "\n",
    "\n",
    "class Notebook(object):\n",
    "    \n",
    "    def __init__(self, title):  \n",
    "        self.title = title\n",
    "        self.page_number = 1  #\n",
    "        self.notes = {}   #page 는 키로 note 객체는 value로 저장        \n",
    "          \n",
    "            \n",
    "    def add_note(self, note, page_num=0):  #page_number 는 note 객체를 저장할 key\n",
    "        if len(self.notes.keys()) < 301:   #저장된 note개수를 체크\n",
    "            if page_num==0 :\n",
    "                self.notes[self.page_number]=note\n",
    "                self.page_number +=1   \n",
    "                print(\"노트를 notebook에 추가했습니다.\")\n",
    "            else :\n",
    "                if page_num not in self.notes.keys() :\n",
    "                    self.notes[page_num] = note   \n",
    "                    print(\"노트를 notebook에 추가했습니다.\")\n",
    "                else  :\n",
    "                    print(\"해당 페이지에는 이미 노트가 존재합니다.\")\n",
    "        else :\n",
    "             print(\"더 이상 노트를 추가하지 못합니다.\")\n",
    "\n",
    "    \n",
    "    \n",
    "    def remove_note(self, page_num):  #key로 전달된 페이지번호에 저장된 note 객체 삭제\n",
    "        if page_num in self.notes.keys() :\n",
    "            del self.notes[page_num]\n",
    "            print(page_num,\"에 노트가 삭제되었습니다.\")\n",
    "        else :\n",
    "            print(page_num, \"에 노트가 존재하지 않습니다.\")\n",
    "\n",
    "            \n",
    "    def get_number_of_all_pages(self):   # notebook에 저장된  note 객체 개수 반환 (저장된 notes의 페이지수 반환)\n",
    "        return len(self.notes.keys())\n",
    "\n",
    "\n",
    "    def get_note_of_page(self, page):\n",
    "        if page in self.notes.keys() :\n",
    "            return self.notes[page]\n",
    "        else:\n",
    "            print(page,\"에 저장된 note가 존재하지 않습니다.\")"
   ]
  },
  {
   "cell_type": "code",
   "execution_count": 164,
   "id": "1115effc",
   "metadata": {},
   "outputs": [
    {
     "name": "stdout",
     "output_type": "stream",
     "text": [
      "노트를 notebook에 추가했습니다.\n",
      "dict_keys([1])\n",
      "저장된 페이지 수 1\n",
      "노트를 notebook에 추가했습니다.\n",
      "dict_keys([1, 2])\n",
      "저장된 페이지 수 2\n"
     ]
    }
   ],
   "source": [
    "good_sentence = \"\"\"삶이 있는 한 희망은 있다. - 키케로 \"\"\"\n",
    "note_1 = Note(good_sentence)\n",
    "\n",
    "good_sentence = \"\"\"하루에 3시간을 걸으면 7년 후에 지구를 한 바퀴 돌 수 있다. - 사무엘 존슨\"\"\"\n",
    "note_2 = Note()\n",
    "note_2.write_contents(good_sentence)\n",
    "\n",
    "good_sentence = \"\"\"오랫동안 꿈을 그리는 사람은 마침내 그 꿈을 닮아간다.\"\"\"\n",
    "note_3 = Note(good_sentence)\n",
    "\n",
    "\n",
    "notebook = Notebook(\"명언 노트\")\n",
    "notebook.add_note(note_1)\n",
    "print(notebook.notes.keys())\n",
    "print('저장된 페이지 수' , notebook.get_number_of_all_pages())\n",
    "notebook.add_note(note_2)\n",
    "print(notebook.notes.keys())\n",
    "print('저장된 페이지 수' , notebook.get_number_of_all_pages())"
   ]
  },
  {
   "cell_type": "code",
   "execution_count": 165,
   "id": "2289716e",
   "metadata": {},
   "outputs": [
    {
     "name": "stdout",
     "output_type": "stream",
     "text": [
      "해당 페이지에는 이미 노트가 존재합니다.\n",
      "dict_keys([1, 2])\n",
      "저장된 페이지 수 2\n"
     ]
    }
   ],
   "source": [
    "notebook.add_note(note_3, 2)\n",
    "print(notebook.notes.keys())\n",
    "print('저장된 페이지 수' , notebook.get_number_of_all_pages())"
   ]
  },
  {
   "cell_type": "code",
   "execution_count": 166,
   "id": "5103e508",
   "metadata": {},
   "outputs": [
    {
     "name": "stdout",
     "output_type": "stream",
     "text": [
      "노트를 notebook에 추가했습니다.\n",
      "저장된 페이지 수 3\n",
      "dict_keys([1, 2, 10])\n"
     ]
    }
   ],
   "source": [
    "notebook.add_note(note_3, 10)\n",
    "print('저장된 페이지 수' , notebook.get_number_of_all_pages())\n",
    "print(notebook.notes.keys())"
   ]
  },
  {
   "cell_type": "code",
   "execution_count": 167,
   "id": "bad756a3",
   "metadata": {},
   "outputs": [
    {
     "name": "stdout",
     "output_type": "stream",
     "text": [
      "해당 페이지에는 이미 노트가 존재합니다.\n",
      "저장된 페이지 수 3\n",
      "dict_keys([1, 2, 10])\n"
     ]
    }
   ],
   "source": [
    "good_sentence = \"\"\"생각은 창조하는 힘이 있다. \"\"\"\n",
    "note_4 = Note(good_sentence)\n",
    "notebook.add_note(note_4, 10)\n",
    "print('저장된 페이지 수' , notebook.get_number_of_all_pages())\n",
    "print(notebook.notes.keys())"
   ]
  },
  {
   "cell_type": "code",
   "execution_count": 168,
   "id": "5374a736",
   "metadata": {},
   "outputs": [
    {
     "name": "stdout",
     "output_type": "stream",
     "text": [
      "노트를 notebook에 추가했습니다.\n",
      "저장된 페이지 수 4\n",
      "dict_keys([1, 2, 10, 11])\n"
     ]
    }
   ],
   "source": [
    "notebook.add_note(note_4, 11)\n",
    "print('저장된 페이지 수' , notebook.get_number_of_all_pages())\n",
    "print(notebook.notes.keys())"
   ]
  },
  {
   "cell_type": "code",
   "execution_count": 169,
   "id": "597b30b6",
   "metadata": {},
   "outputs": [
    {
     "name": "stdout",
     "output_type": "stream",
     "text": [
      "노트를 notebook에 추가했습니다.\n",
      "5\n",
      "dict_keys([1, 2, 10, 11, 3])\n"
     ]
    }
   ],
   "source": [
    "good_sentence = \"\"\"우리는 스스로 선택하고 품어온 생각 그대로 자신을 만든다. \"\"\"\n",
    "note_5 = Note(good_sentence)\n",
    "notebook.add_note(note_5 )\n",
    "print(notebook.get_number_of_all_pages())\n",
    "print(notebook.notes.keys())"
   ]
  },
  {
   "cell_type": "code",
   "execution_count": 170,
   "id": "a61c2b69",
   "metadata": {},
   "outputs": [
    {
     "name": "stdout",
     "output_type": "stream",
     "text": [
      "우리는 스스로 선택하고 품어온 생각 그대로 자신을 만든다. \n"
     ]
    }
   ],
   "source": [
    "print(notebook.notes[3])              #3번 페이지에 저장된 note 의 내용 출력"
   ]
  },
  {
   "cell_type": "code",
   "execution_count": 171,
   "id": "30c63f44",
   "metadata": {},
   "outputs": [
    {
     "name": "stdout",
     "output_type": "stream",
     "text": [
      "우리는 스스로 선택하고 품어온 생각 그대로 자신을 만든다. \n"
     ]
    }
   ],
   "source": [
    "print(notebook.get_note_of_page(3))"
   ]
  },
  {
   "cell_type": "code",
   "execution_count": 172,
   "id": "d0cc6167",
   "metadata": {},
   "outputs": [
    {
     "name": "stdout",
     "output_type": "stream",
     "text": [
      "9 에 저장된 note가 존재하지 않습니다.\n",
      "None\n"
     ]
    }
   ],
   "source": [
    "print(notebook.get_note_of_page(9))"
   ]
  },
  {
   "cell_type": "code",
   "execution_count": 173,
   "id": "51fe44c1",
   "metadata": {},
   "outputs": [
    {
     "name": "stdout",
     "output_type": "stream",
     "text": [
      "2 에 노트가 삭제되었습니다.\n",
      "4\n",
      "dict_keys([1, 10, 11, 3])\n"
     ]
    }
   ],
   "source": [
    "notebook.remove_note(2)\n",
    "print(notebook.get_number_of_all_pages())\n",
    "print(notebook.notes.keys())"
   ]
  },
  {
   "cell_type": "code",
   "execution_count": 188,
   "id": "9e7f36de",
   "metadata": {},
   "outputs": [],
   "source": [
    "# 실습 2 \n",
    "\n",
    "class TV(object):\n",
    "    \n",
    "    def __init__(self,channel=0,volume=0,power=False):\n",
    "        self.channel = channel\n",
    "        self.volume = volume\n",
    "        self.power = power\n",
    "        \n",
    "        \n",
    "    def channelUp(self):\n",
    "        self.channel += 1\n",
    "        print(\"채널을 올립니다.\")\n",
    "        \n",
    "        \n",
    "    def channelDown(self):\n",
    "        self.channel -= 1 \n",
    "        print(\"채널을 내립니다.\")\n",
    "        \n",
    "        \n",
    "    def volumeUp(self):\n",
    "        self.volume += 1\n",
    "        print(\"볼륨을 올립니다.\")\n",
    "        \n",
    "        \n",
    "    def volumeDown(self):\n",
    "        self.volume -= 1\n",
    "        print(\"볼륨을 내립니다.\")\n",
    "        \n",
    "        \n",
    "    def onoff(self):\n",
    "        if self.power:\n",
    "            self.power = False\n",
    "        else:\n",
    "            self.power = True\n",
    "    \n",
    "    \n",
    "    def __str__(self):\n",
    "        return \"power is {0}. volume is {1}. channel is {2}\".format(self.power,self.volume,self.channel)"
   ]
  },
  {
   "cell_type": "code",
   "execution_count": 189,
   "id": "51d5efce",
   "metadata": {},
   "outputs": [
    {
     "name": "stdout",
     "output_type": "stream",
     "text": [
      "power is False. volume is 0. channel is 0\n"
     ]
    }
   ],
   "source": [
    "tv = TV()\n",
    "print(tv)"
   ]
  },
  {
   "cell_type": "code",
   "execution_count": 227,
   "id": "369e69cb",
   "metadata": {},
   "outputs": [
    {
     "name": "stdout",
     "output_type": "stream",
     "text": [
      "채널을 올립니다.\n",
      "볼륨을 올립니다.\n",
      "볼륨을 올립니다.\n",
      "볼륨을 올립니다.\n",
      "볼륨을 올립니다.\n",
      "볼륨을 올립니다.\n",
      "볼륨을 올립니다.\n",
      "볼륨을 올립니다.\n",
      "볼륨을 올립니다.\n",
      "볼륨을 올립니다.\n",
      "볼륨을 올립니다.\n",
      "power is False. volume is 20. channel is 2\n"
     ]
    }
   ],
   "source": [
    "tv.onoff()\n",
    "tv.channelUp()\n",
    "tv.volumeUp()\n",
    "tv.volumeUp()\n",
    "tv.volumeUp()\n",
    "tv.volumeUp()\n",
    "tv.volumeUp()\n",
    "tv.volumeUp()\n",
    "tv.volumeUp()\n",
    "tv.volumeUp()\n",
    "tv.volumeUp()\n",
    "tv.volumeUp()\n",
    "print(tv)"
   ]
  },
  {
   "cell_type": "markdown",
   "id": "b6758a5d",
   "metadata": {},
   "source": [
    "# 내장 모듈\n",
    "<br>\n",
    "\n",
    "모듈 : 변수, 함수, 클래스를 재사용할 목적으로 python 소스 파일 내에 그룹핑한것\n",
    "\n",
    "```python\n",
    "import 모듈명 as 별칭\n",
    "모듈명.함수\n",
    "모듈명.변수\n",
    "모듈명.클래스\n",
    "\n",
    "from 모듈명 import 변수, 함수, 클래스\n",
    "변수\n",
    "함수\n",
    "클래스\n",
    "\n",
    "from 모듈명 import 클래스 as 별칭\n",
    "```\n",
    "\n",
    "내장모듈 : python 설치 파일과 함께 제공되는 모듈"
   ]
  },
  {
   "cell_type": "code",
   "execution_count": 228,
   "id": "5685f7fa",
   "metadata": {},
   "outputs": [
    {
     "name": "stdout",
     "output_type": "stream",
     "text": [
      "5 lue\n"
     ]
    }
   ],
   "source": [
    "import random\n",
    "d = {1:'kim', 2:'lee', 3:'song',4:'park',5:'lue'}\n",
    "key, value = random.choice(list(d.items()))\n",
    "print(key,value)"
   ]
  },
  {
   "cell_type": "code",
   "execution_count": 229,
   "id": "b751def3",
   "metadata": {},
   "outputs": [
    {
     "name": "stdout",
     "output_type": "stream",
     "text": [
      "2021-12-29 <class 'datetime.date'>\n",
      "2022-08-11 <class 'datetime.date'>\n",
      "2022-08-11\n",
      "<class 'str'>\n",
      "2022-01-03 <class 'datetime.date'>\n"
     ]
    }
   ],
   "source": [
    "from datetime import date\n",
    "\n",
    "d1 = date(2021,12,29)\n",
    "print(d1,type(d1))\n",
    "\n",
    "d2 = date.today()\n",
    "print(d2,type(d2))\n",
    "\n",
    "\n",
    "# 국제표준 iso-  DD-MON-YY, YY/MM/DD\n",
    "print(d2.isoformat())      # YYYY-MM-DD\n",
    "\n",
    "print(type('2022-01-03'))\n",
    "\n",
    "d3 = date.fromisoformat('2022-01-03')\n",
    "print(d3, type(d3))"
   ]
  },
  {
   "cell_type": "code",
   "execution_count": 230,
   "id": "d9e19b20",
   "metadata": {},
   "outputs": [
    {
     "name": "stdout",
     "output_type": "stream",
     "text": [
      "2022\n",
      "8\n",
      "11\n",
      "3\n"
     ]
    }
   ],
   "source": [
    "today = date.today()\n",
    "print(today.year)\n",
    "print(today.month)\n",
    "print(today.day)\n",
    "print(today.weekday())"
   ]
  },
  {
   "cell_type": "code",
   "execution_count": 231,
   "id": "9eeb7572",
   "metadata": {},
   "outputs": [
    {
     "name": "stdout",
     "output_type": "stream",
     "text": [
      "2021-12-01 12:05:00 <class 'datetime.datetime'>\n"
     ]
    }
   ],
   "source": [
    "# 날짜와 시간 형식의 문자열을 datetime 객체로 변환 : strptime()\n",
    "# datetime 객체를 문자열로 변환 : strfttime()\n",
    "from datetime import datetime\n",
    "\n",
    "d5 = datetime.strptime(\"2021-12-01 12:05\",\"%Y-%m-%d %H:%M\")\n",
    "print(d5,type(d5))"
   ]
  },
  {
   "cell_type": "markdown",
   "id": "23655df1",
   "metadata": {},
   "source": [
    "%y, %Y 년도\n",
    "\n",
    "%b, %B 축약월, fullname 월\n",
    "\n",
    "%m 숫자표현 월\n",
    "\n",
    "%d 일(1~31)\n",
    "\n",
    "%H(00~23) %I(01~12) 시간\n",
    "\n",
    "%M 분(00~59)\n",
    "\n",
    "%S 분(00~61)\n",
    "\n",
    "%p AM / PM\n",
    "\n",
    "%a, %A 축약된 요일 이름, full 요일 이름\n",
    "\n",
    "%w 요일을 숫자로 표시\n",
    "\n",
    "%j 1월 1일부터 누적된 날짜 (001~366)"
   ]
  },
  {
   "cell_type": "code",
   "execution_count": 238,
   "id": "59c6b6ce",
   "metadata": {
    "scrolled": true
   },
   "outputs": [
    {
     "name": "stdout",
     "output_type": "stream",
     "text": [
      "2022-07-22 <class 'datetime.date'>\n",
      "2022-03-24 <class 'datetime.date'>\n",
      "2022-08-11 <class 'datetime.date'>\n"
     ]
    }
   ],
   "source": [
    "# 날짜와 시간 차이 계산 - timedelta 객체 사용\n",
    "from datetime import timedelta\n",
    "\n",
    "result = today - timedelta(days=20)\n",
    "print(result, type(result))\n",
    "\n",
    "result = today - timedelta(weeks=20)\n",
    "print(result, type(result))\n",
    "\n",
    "result = today + timedelta(hours=2)\n",
    "print(result, type(result))"
   ]
  },
  {
   "cell_type": "code",
   "execution_count": 242,
   "id": "fe672981",
   "metadata": {},
   "outputs": [
    {
     "name": "stdout",
     "output_type": "stream",
     "text": [
      "2022-08-11 15:20:05.319300\n",
      "2022-08-11 17:20:05.319300\n"
     ]
    }
   ],
   "source": [
    "from datetime import datetime\n",
    "\n",
    "todaytime = datetime.now()\n",
    "print(todaytime)\n",
    "print(todaytime + timedelta(hours=2))"
   ]
  },
  {
   "cell_type": "code",
   "execution_count": 243,
   "id": "760ddb10",
   "metadata": {},
   "outputs": [
    {
     "name": "stdout",
     "output_type": "stream",
     "text": [
      "1660198811.8777514\n"
     ]
    }
   ],
   "source": [
    "#time 모듈의 time 함수 - 1970년 1월 1일 0시 0분 0초 이후 경과한 시간을 초단위로 반환\n",
    "import time\n",
    "\n",
    "print(time.time())"
   ]
  },
  {
   "cell_type": "code",
   "execution_count": 247,
   "id": "e8b23e61",
   "metadata": {},
   "outputs": [
    {
     "name": "stdout",
     "output_type": "stream",
     "text": [
      "time.struct_time(tm_year=2022, tm_mon=8, tm_mday=11, tm_hour=15, tm_min=25, tm_sec=57, tm_wday=3, tm_yday=223, tm_isdst=0)\n"
     ]
    },
    {
     "data": {
      "text/plain": [
       "'2022-08-11'"
      ]
     },
     "execution_count": 247,
     "metadata": {},
     "output_type": "execute_result"
    }
   ],
   "source": [
    "# time.localtime([seconds]) 초를 입력받아서 지방표준시 기준의 struct_time 시퀀스객체로 반환\n",
    "print(time.localtime(time.time()))\n",
    "time.strftime('%Y-%m-%d', time.localtime(time.time()))"
   ]
  },
  {
   "cell_type": "code",
   "execution_count": 248,
   "id": "1bb12911",
   "metadata": {},
   "outputs": [
    {
     "data": {
      "text/plain": [
       "'Thu Aug 11 15:26:07 2022'"
      ]
     },
     "execution_count": 248,
     "metadata": {},
     "output_type": "execute_result"
    }
   ],
   "source": [
    "time.strftime('%c', time.localtime(time.time()))"
   ]
  },
  {
   "cell_type": "code",
   "execution_count": 249,
   "id": "367ea577",
   "metadata": {},
   "outputs": [],
   "source": [
    "#time.sleep(seconds) - 수행중인 프로세스를 잠시 몇초간 정지"
   ]
  },
  {
   "cell_type": "markdown",
   "id": "2a578adb",
   "metadata": {},
   "source": [
    "# 정규표현식\n",
    "<br>\n",
    "\n",
    "• 특정한 규칙을 가진 문자열을 표현하는데 사용되는 형식 언어\n",
    "\n",
    "• 주어진 패턴으로 문자열을 검색/치환하는데 사용\n",
    "\n",
    "• vi, grep 등 프로그램에서 널리 사용"
   ]
  },
  {
   "cell_type": "code",
   "execution_count": null,
   "id": "c922fa86",
   "metadata": {},
   "outputs": [],
   "source": []
  },
  {
   "cell_type": "code",
   "execution_count": null,
   "id": "b6ae23de",
   "metadata": {},
   "outputs": [],
   "source": []
  },
  {
   "cell_type": "code",
   "execution_count": 250,
   "id": "ea34c4e6",
   "metadata": {},
   "outputs": [
    {
     "data": {
      "text/plain": [
       "<re.Match object; span=(0, 4), match='35th'>"
      ]
     },
     "execution_count": 250,
     "metadata": {},
     "output_type": "execute_result"
    }
   ],
   "source": [
    "import re\n",
    "re.match('[0-9]*th', '35th')"
   ]
  },
  {
   "cell_type": "code",
   "execution_count": 254,
   "id": "413c9ae5",
   "metadata": {},
   "outputs": [
    {
     "name": "stdout",
     "output_type": "stream",
     "text": [
      "True\n",
      "True\n",
      "False\n",
      "True\n"
     ]
    }
   ],
   "source": [
    "print(bool(re.match('[0-9]*th', '35th')))\n",
    "print(bool(re.search('[0-9]*th', '35th')))\n",
    "\n",
    "print(bool(re.match('ap','This is an apple')))\n",
    "print(bool(re.search('ap','This is an apple')))"
   ]
  },
  {
   "cell_type": "code",
   "execution_count": null,
   "id": "61f95963",
   "metadata": {},
   "outputs": [],
   "source": [
    "re.findall(r\"app\\w*)"
   ]
  },
  {
   "cell_type": "code",
   "execution_count": null,
   "id": "35bbd0b6",
   "metadata": {},
   "outputs": [],
   "source": []
  },
  {
   "cell_type": "markdown",
   "id": "d905dd28",
   "metadata": {},
   "source": [
    "# 모듈이란?\n",
    "<br>\n",
    "\n",
    "\n",
    "\n",
    "작은 프로그램 조각을 뜻한다. 즉, 하나하나 연결해 어떤 목적을 가진 프로그램을 만드는 작은 프로그램\n",
    "\n",
    "각 모듈 역시 저마다 역할이 있고, 서로 다른 모듈과 인터페이스만 연결되면 사용할 수 있다.\n",
    "> 강결합 : 변경에 영향이 크기 때문에, 프로그램에서 강결합으로 구현되지 않도록 해야함\n",
    "\n",
    "> 약결합: 인터페이스 사용\n",
    "\n",
    "---\n",
    "\n",
    "파이썬의 모듈 경로 탐색 규칙 (import문을 만나면 파이썬은 다음 순서로 모듈 파일을 찾습니다.)\n",
    "\n",
    "• 1. 파이썬 인터프리터 내장 모듈\n",
    "\n",
    "• 2. sys.path에 정의되어 있는 디렉토리\n",
    "\n",
    "• sys 모듈은 내장 모듈이기 때문에 확장자가 py형태인 파일로는 찾을 수 없습니다. C언어로 프로그래밍 \n",
    "되어 파이썬에\n",
    "내장되어 있기 때문입니다.\n",
    "\n",
    "• sys.builtin_module_names를 출력하면 파이썬 내장된 모듈의 목록을 볼 수 있습니다.\n",
    "\n",
    "---\n",
    "\n",
    "• 파이썬은 sys.path에 정의되어 있는 디렉토리에서 모듈 파일을 탐색하기 시작합니다.\n",
    "\n",
    "• 1. 파이썬 모듈이 실행되고 있는 현재 디렉토리\n",
    "\n",
    "• 2. PYTHON PATH 환경변수에 정의되어 있는 디렉토리\n",
    "\n",
    "• 3. 파이썬과 함께 설치된 기본\n",
    "\n",
    "---\n",
    "\n",
    "메인 모듈 : ‘최상위 수준(Top Level)’에서 실행되는 스크립트\n",
    "\n",
    "• 파이썬에는 내장전역 변수인 __name__이 있는데, 이 변수는 모듈이 최상위 수준으로 실행될 때 ‘__main__’으로 지정됩니다.\n",
    "\n",
    "• import문을 이용하여 불러오는 모듈은 하위 모듈(Sub Module)이라고 합니다\n",
    "\n",
    "---\n",
    "\n",
    "패키지(packages)는 모듈의 묶음이다. 일종의 디렉터리처럼 하나의 패키지 안에 여러 개의 모듈이 있는데, 이 모듈들이 서로 포함 관계를 가지며 거대한 패키지를 만든다\n",
    "\n",
    "site-packages 는 파이썬의 기본 라이브러리 패키지 외에 추가적인 패키지를 설치하는 디렉토리입니다.\n",
    "\n",
    "• site-packages 디렉토리에 여러 가지 소프트웨어가 사용할 공통 모듈을 넣어두면 물리적인 경로에 구애받지 않고 모듈에 접근하여 실행할 코드에서 import하여 사용"
   ]
  },
  {
   "cell_type": "markdown",
   "id": "999201e3",
   "metadata": {},
   "source": [
    "## 모듈 만들기\n",
    "<br>\n",
    "\n",
    "모듈명은 XXX.py 파일의 파일이름, python으로 실행 가능\n",
    "\n",
    "__ name __ 스페셜 속성으로 모듈명을 확인가능\n",
    "\n",
    "python 명령어로 모듈을 실행시키면 모듈명은 __ main __ 로 변경되어 실행됨"
   ]
  },
  {
   "cell_type": "code",
   "execution_count": 6,
   "id": "b5dc92f0",
   "metadata": {
    "scrolled": true
   },
   "outputs": [
    {
     "name": "stdout",
     "output_type": "stream",
     "text": [
      "Enter a celsius value\n",
      "\n"
     ]
    },
    {
     "ename": "ValueError",
     "evalue": "could not convert string to float: ''",
     "output_type": "error",
     "traceback": [
      "\u001b[1;31m---------------------------------------------------------------------------\u001b[0m",
      "\u001b[1;31mValueError\u001b[0m                                Traceback (most recent call last)",
      "\u001b[1;32m~\\AppData\\Local\\Temp/ipykernel_12212/3308432223.py\u001b[0m in \u001b[0;36m<module>\u001b[1;34m\u001b[0m\n\u001b[0;32m      2\u001b[0m \u001b[1;33m\u001b[0m\u001b[0m\n\u001b[0;32m      3\u001b[0m \u001b[0mprint\u001b[0m\u001b[1;33m(\u001b[0m\u001b[1;34m\"Enter a celsius value\"\u001b[0m\u001b[1;33m)\u001b[0m\u001b[1;33m\u001b[0m\u001b[1;33m\u001b[0m\u001b[0m\n\u001b[1;32m----> 4\u001b[1;33m \u001b[0mcelsius\u001b[0m \u001b[1;33m=\u001b[0m \u001b[0mfloat\u001b[0m\u001b[1;33m(\u001b[0m\u001b[0minput\u001b[0m\u001b[1;33m(\u001b[0m\u001b[1;33m)\u001b[0m\u001b[1;33m)\u001b[0m\u001b[1;33m\u001b[0m\u001b[1;33m\u001b[0m\u001b[0m\n\u001b[0m\u001b[0;32m      5\u001b[0m \u001b[0mfahrenheit\u001b[0m \u001b[1;33m=\u001b[0m \u001b[0mfah_converter\u001b[0m\u001b[1;33m.\u001b[0m\u001b[0mcovert_c_to_f\u001b[0m\u001b[1;33m(\u001b[0m\u001b[0mcelsius\u001b[0m\u001b[1;33m)\u001b[0m\u001b[1;33m\u001b[0m\u001b[1;33m\u001b[0m\u001b[0m\n\u001b[0;32m      6\u001b[0m \u001b[0mprint\u001b[0m\u001b[1;33m(\u001b[0m\u001b[1;34m\"That's\"\u001b[0m\u001b[1;33m,\u001b[0m\u001b[0mfahrenheit\u001b[0m\u001b[1;33m,\u001b[0m \u001b[1;34m\"degrees Fahrenheit.\"\u001b[0m\u001b[1;33m)\u001b[0m\u001b[1;33m\u001b[0m\u001b[1;33m\u001b[0m\u001b[0m\n",
      "\u001b[1;31mValueError\u001b[0m: could not convert string to float: ''"
     ]
    }
   ],
   "source": [
    "import fah_converter\n",
    "\n",
    "print(\"Enter a celsius value\")\n",
    "celsius = float(input())\n",
    "fahrenheit = fah_converter.covert_c_to_f(celsius)\n",
    "print(\"That's\",fahrenheit, \"degrees Fahrenheit.\")"
   ]
  },
  {
   "cell_type": "code",
   "execution_count": 7,
   "id": "0e1cc09e",
   "metadata": {},
   "outputs": [
    {
     "name": "stdout",
     "output_type": "stream",
     "text": [
      "calc\n"
     ]
    },
    {
     "data": {
      "text/plain": [
       "100"
      ]
     },
     "execution_count": 7,
     "metadata": {},
     "output_type": "execute_result"
    }
   ],
   "source": [
    "import calc\n",
    "\n",
    "calc.multply(10,10)"
   ]
  },
  {
   "cell_type": "code",
   "execution_count": 8,
   "id": "b709037a",
   "metadata": {},
   "outputs": [
    {
     "name": "stdout",
     "output_type": "stream",
     "text": [
      "106.88000000000001\n"
     ]
    }
   ],
   "source": [
    "# 네임스페이스\n",
    "\n",
    "import fah_converter as fah\n",
    "\n",
    "print(fah.covert_c_to_f(41.6))"
   ]
  },
  {
   "cell_type": "code",
   "execution_count": null,
   "id": "94697010",
   "metadata": {},
   "outputs": [],
   "source": []
  },
  {
   "cell_type": "markdown",
   "id": "730459f1",
   "metadata": {},
   "source": [
    "# 패키지 만들기\n",
    "<br>\n",
    "\n",
    "하나의 대형 프로젝트를 수행하기 위한 모듈의 묶음 = 라이브러리\n",
    "\n",
    "모듈은 하나의 파일로 이루어져 있고, 패키지는 파일이 포함된 디렉터리(폴더)로 구성된다\n",
    "\n",
    "---\n",
    "\n",
    " 1단계: 디렉터리 구성하기\n",
    "• 이번 실습에서 만들 패키지 이름은 ‘roboadvisor’이다. \n",
    "\n",
    "roboadvisor에는 세 가지 기능이 있다고 가정하자. \n",
    "\n",
    "① crawling(크롤링): 주식 관련 데이터를 인터넷에서 가져오는 기능\n",
    "\n",
    "② database(데이터베이스): 가져온 데이터를 데이터베이스에 저장하는 기능\n",
    "\n",
    "③ analysis(분석): 해당 정보를 분석하여 의미 있는 \n",
    "\n",
    "---\n",
    "\n",
    " 2단계: 디렉터리별로 필요한 모듈 만들기\n",
    " \n",
    "• 만들어진 디렉터리에 필요한 모듈을 만든다. \n",
    "\n",
    "하나의 패키지는 중첩된 구조로 만들 수 있으므로 패키지 안에 또 하나의 패키지가 들어갈 수 있다\n",
    "\n",
    "• 각각의 디렉터리를 하나의 패키지로 선언하기 위해서는 예약된 파일 _ _init_ _.py 을 만들어야 한다."
   ]
  },
  {
   "cell_type": "code",
   "execution_count": 10,
   "id": "f7888bdd",
   "metadata": {},
   "outputs": [
    {
     "ename": "ModuleNotFoundError",
     "evalue": "No module named 'roboadvisor'",
     "output_type": "error",
     "traceback": [
      "\u001b[1;31m---------------------------------------------------------------------------\u001b[0m",
      "\u001b[1;31mModuleNotFoundError\u001b[0m                       Traceback (most recent call last)",
      "\u001b[1;32m~\\AppData\\Local\\Temp/ipykernel_12212/388575979.py\u001b[0m in \u001b[0;36m<module>\u001b[1;34m\u001b[0m\n\u001b[1;32m----> 1\u001b[1;33m \u001b[1;32mfrom\u001b[0m \u001b[0mroboadvisor\u001b[0m\u001b[1;33m.\u001b[0m\u001b[0mcrawling\u001b[0m \u001b[1;32mimport\u001b[0m \u001b[0mparser\u001b[0m\u001b[1;33m\u001b[0m\u001b[1;33m\u001b[0m\u001b[0m\n\u001b[0m\u001b[0;32m      2\u001b[0m \u001b[1;33m\u001b[0m\u001b[0m\n\u001b[0;32m      3\u001b[0m \u001b[0mparser\u001b[0m\u001b[1;33m.\u001b[0m\u001b[0mparser_test\u001b[0m\u001b[1;33m(\u001b[0m\u001b[1;33m)\u001b[0m\u001b[1;33m\u001b[0m\u001b[1;33m\u001b[0m\u001b[0m\n",
      "\u001b[1;31mModuleNotFoundError\u001b[0m: No module named 'roboadvisor'"
     ]
    }
   ],
   "source": [
    "from roboadvisor.crawling import parser\n",
    "\n",
    "parser.parser_test()"
   ]
  },
  {
   "cell_type": "code",
   "execution_count": null,
   "id": "b7959cd1",
   "metadata": {},
   "outputs": [],
   "source": []
  },
  {
   "cell_type": "code",
   "execution_count": null,
   "id": "483be972",
   "metadata": {},
   "outputs": [],
   "source": []
  }
 ],
 "metadata": {
  "kernelspec": {
   "display_name": "Python 3 (ipykernel)",
   "language": "python",
   "name": "python3"
  },
  "language_info": {
   "codemirror_mode": {
    "name": "ipython",
    "version": 3
   },
   "file_extension": ".py",
   "mimetype": "text/x-python",
   "name": "python",
   "nbconvert_exporter": "python",
   "pygments_lexer": "ipython3",
   "version": "3.8.11"
  }
 },
 "nbformat": 4,
 "nbformat_minor": 5
}
