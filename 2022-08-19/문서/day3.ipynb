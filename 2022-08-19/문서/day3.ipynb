{
 "cells": [
  {
   "cell_type": "markdown",
   "id": "703199c8",
   "metadata": {},
   "source": [
    "# 복습\n",
    "<br>\n",
    "파이썬\n",
    ">기본 자료형(객체) : int, float, bool, str, complex <br> 집합 자료형(객체) : list, tuple, set, dict\n",
    "\n",
    "\n",
    "--------------------------------------------------------------------------\n",
    "객체 지향 언어(java..)\n",
    ">기본 자료형 : 할당 연산자 = 를 이용해서 하나의 값 타입을 저장 <br> 참조 자료형 : 인스턴스, 객체.멤버변수, 객체.메서드.."
   ]
  },
  {
   "cell_type": "markdown",
   "id": "5d8b4e4b",
   "metadata": {},
   "source": [
    "int \n",
    "변수(객체) = 초기값(literal) 이때 이 값을 메모리에 저장\n",
    "\n",
    "\n",
    "num = 300 일때\n",
    "\n",
    "int클래스에서 type 메타클래스로 객체가 만들어지고 객체 내에 300이라는 값으로 초기화가 된다? <br>\n",
    "(너무 낮은 값으로 하면 파이썬이 고유 생성하는 주소가 돼버려서 ㄴㄴ)\n",
    "\n",
    "16진수 메모리주소 ex) 0x10000 를 num에 매핑 = 이때 num을 레퍼런스 변수?\n",
    "\n",
    "객체는 인스턴스?"
   ]
  },
  {
   "cell_type": "markdown",
   "id": "41aef28a",
   "metadata": {},
   "source": [
    "num = 300 (decimal)\n",
    "\n",
    "binary 형식값 : 0b\n",
    "\n",
    "Octal 형식값 : 0o\n",
    "\n",
    "Hex 형식값 : 0x"
   ]
  },
  {
   "cell_type": "code",
   "execution_count": 4,
   "id": "17156e42",
   "metadata": {},
   "outputs": [
    {
     "name": "stdout",
     "output_type": "stream",
     "text": [
      "0b100101100\n",
      "0o454\n",
      "0x12c\n"
     ]
    }
   ],
   "source": [
    "num = 300\n",
    "\n",
    "print(bin(num))   # 2진수로 출력\n",
    "\n",
    "print(oct(num))   # 8진수로 출력\n",
    "\n",
    "print(hex(num))   # 16진수로 출력"
   ]
  },
  {
   "cell_type": "markdown",
   "id": "1313a3e4",
   "metadata": {},
   "source": [
    "float는 부동소수점 형식으로 저장 (가수부 + 진수부)\n",
    "\n",
    "3.23456e-7 = IEEE "
   ]
  },
  {
   "cell_type": "code",
   "execution_count": 5,
   "id": "e340faaf",
   "metadata": {},
   "outputs": [
    {
     "ename": "AttributeError",
     "evalue": "'float' object has no attribute '__dict__'",
     "output_type": "error",
     "traceback": [
      "\u001b[1;31m---------------------------------------------------------------------------\u001b[0m",
      "\u001b[1;31mAttributeError\u001b[0m                            Traceback (most recent call last)",
      "\u001b[1;32m~\\AppData\\Local\\Temp/ipykernel_2432/2402259321.py\u001b[0m in \u001b[0;36m<module>\u001b[1;34m\u001b[0m\n\u001b[0;32m      1\u001b[0m \u001b[0mf\u001b[0m \u001b[1;33m=\u001b[0m \u001b[1;36m3.23456e-7\u001b[0m\u001b[1;33m\u001b[0m\u001b[1;33m\u001b[0m\u001b[0m\n\u001b[1;32m----> 2\u001b[1;33m \u001b[0mprint\u001b[0m\u001b[1;33m(\u001b[0m\u001b[0mf\u001b[0m\u001b[1;33m.\u001b[0m\u001b[0m__dict__\u001b[0m\u001b[1;33m)\u001b[0m\u001b[1;33m\u001b[0m\u001b[1;33m\u001b[0m\u001b[0m\n\u001b[0m",
      "\u001b[1;31mAttributeError\u001b[0m: 'float' object has no attribute '__dict__'"
     ]
    }
   ],
   "source": [
    "f = 3.23456e-7\n",
    "print(f.__dict__)"
   ]
  },
  {
   "cell_type": "markdown",
   "id": "6ca7da34",
   "metadata": {},
   "source": [
    "complex 는 3+4j ..."
   ]
  },
  {
   "cell_type": "markdown",
   "id": "f61a6b09",
   "metadata": {},
   "source": [
    "논리값은 bool 클래스로부터 객체 : True, False, 상수 객체\n",
    "\n",
    "class bool(int) : 논리값은 정수와 호환"
   ]
  },
  {
   "cell_type": "markdown",
   "id": "5d86bed2",
   "metadata": {},
   "source": [
    "문자열 데이터는 str클래스로부터 객체가 만들어짐\n",
    "\n",
    "문자열 데이터로 초기화된 객체는 생성된 문자열의 내용을 변경할 수 없음 (불변객체)"
   ]
  },
  {
   "cell_type": "markdown",
   "id": "479e3668",
   "metadata": {},
   "source": [
    "정수 + 실수 = 실수 (호환되기 때문에 자동형변환 : promotion, 작은거에서 큰거로 승진?)\n",
    "\n",
    "정수 + bool = 정수\n",
    "\n",
    "실수 + bool = 실수\n",
    "\n",
    "정수 + 문자열 = TypeError, 강타입(자동으로 형변환이 안된다?) 그래서 명시적 형변환 필요\n",
    "\n",
    "bool + 문자열 = TypeError\n",
    "\n",
    "----------------------------------------------------------------------------\n",
    "### 명시적 형변환\n",
    "<br>\n",
    "int(), bool(), float(), str(), complex() 등 생성자 함수로 명시적 형변환 가능\n",
    "\n",
    "str(정수) + 문자열\n",
    "\n",
    "str(bool) + 문자열\n",
    "\n",
    ">작은 타입을 큰 타입으로 변환 : 자동, promotion <br>\n",
    "큰 타입을 작은 타입으로 변환 : 수동, 정밀값 소실, 명시적, casting"
   ]
  },
  {
   "cell_type": "markdown",
   "id": "ff9d8838",
   "metadata": {},
   "source": [
    "### 연산자 종류\n",
    "\n",
    "단항연산자 : 연산하면서 항의 개수가 하나\n",
    "\n",
    "이항연산자 : 두 개\n",
    "\n",
    "삼항연산자 : 세 개 (파이썬에는 없음)\n",
    "\n",
    "> 단항 : not, ! (파이썬에는 없음), ~ (1의 보수) <br> 이항 : 산술연산자 ( /, //, % ), 비교연산자 ( ==, is, !=, is not, >=, <=, >, < ) 의 결과는 bool 값, 논리연산자 (and, or, not), 비트연산자( &, |, ^ ), 단축연산자( +=, -=, *= ... )"
   ]
  },
  {
   "cell_type": "code",
   "execution_count": 12,
   "id": "e0033ef3",
   "metadata": {},
   "outputs": [
    {
     "name": "stdout",
     "output_type": "stream",
     "text": [
      "-2\n"
     ]
    }
   ],
   "source": [
    "# 1은 0001, 보수는 뒤집어서 1110 \n",
    "# 근데 맨 앞 비트가 sign 비트 \n",
    "# 이 음수 binary를 십진수로 변환\n",
    "# 0001 > 1110 > 거꾸로 최초의 1을 만날때까지 가다가 만나면 그 뒤에거는 걍 뒤집어비림? 0010\n",
    "\n",
    "num = 1\n",
    "print(~1)"
   ]
  },
  {
   "cell_type": "markdown",
   "id": "e7a9d1a5",
   "metadata": {},
   "source": [
    "# 문장\n",
    "프로그램 구현은 재료(데이터, 연산자)를 기준점을 결정한 후 반복횟수 설정해서 처리\n",
    "\n",
    "<br>\n",
    "\n",
    "------------------------------------------------------------------------------------\n",
    "\n",
    "### 조건문 : 기준점 결정은 조건문으로 선언\n",
    "1. 기준이 1개인 경우 True일때만 수행\n",
    "> if 조건표현식: \n",
    "        True일때 수행 문장\n",
    "        True일때 수행 문장\n",
    "        ....\n",
    "2. 기준이 1개인 경우 True일때와 False일때 서로 다른 수행을 해야 할 경우\n",
    "> if 조건표현식: \n",
    "        True일때 수행 문장\n",
    "        True일때 수행 문장\n",
    "        ....\n",
    "  else:\n",
    "        false일때 수행 문장\n",
    "        false일때 수행 문장\n",
    "        ....\n",
    "3. 기준이 여러개일때 하나의 기준만 만족되었을 때 수행되도록\n",
    "> if 조건표현식:\n",
    "        True일때 수행 문장\n",
    "        ....\n",
    "  elif 조건표현식:\n",
    "        True일때 수행 문장\n",
    "        ....\n",
    "  else:\n",
    "        false일때 수행 문장\n",
    "        false일때 수행 문장\n",
    "        ....\n",
    "4. 기준이 여러개일때 2개 이상의 조건을 만족할때와 복합적으로 조건을 정의해서 수행해야 할 경우\n",
    "\n",
    "    다중 if문, nested if문\n",
    "```python\n",
    "if 조건표현식: \n",
    "        if 조건표현식2 and 조건표현식 3:\n",
    "            True일때 수행 문장\n",
    "            True일때 수행 문장\n",
    "        ....\n",
    "  else:\n",
    "        false일때 수행 문장\n",
    "        false일때 수행 문장\n",
    "        ....\n",
    "```\n",
    "------------------------------------------------------------\n",
    "\n",
    "### 반복문\n",
    "\n",
    "1. for 문 : 반복횟수를 알 때\n",
    "```python\n",
    "for 변수 in range():\n",
    "    반복수행 문장\n",
    "else :                         # 반복문이 정상 수행 완료된 경우 수행\n",
    "    문장\n",
    "```\n",
    "    \n",
    "\n",
    "2. while 문 : 반복수행 조건을 알 때\n",
    "```python\n",
    "while:\n",
    "    반복수행 문장\n",
    "```\n",
    "```python\n",
    "while True:\n",
    "    무한 루프\n",
    "```\n",
    "3. do ~ while (python 지원안함)\n",
    "\n",
    "\n",
    "4. range([start],end,[step]) : 정수값을 순차적으로 반환하는 객체 (iterable object)\n",
    "> range(1,10) : 1,2,3,...,9<br>range(1,10,2) : 1,3,5,7,9<br>range(10,1,-1) : 9,8,7,...1\n",
    "\n",
    "```python\n",
    "for i in range(10,0,-1):\n",
    "    print(i)\n",
    "```\n",
    "---\n",
    "\n",
    "### 제어문\n",
    "\n",
    "1. break : 반복문 내에서 특정 조건을 만족했을 때 더 이상 반복 수행하지 않고 **탈출**\n",
    "2. continue : 반복문 내에서 특정 조건을 만족했을 때 반복 수행을 하지 않고 다음 회차로 진행됨, **건너뛰기**"
   ]
  },
  {
   "cell_type": "code",
   "execution_count": 19,
   "id": "9507f359",
   "metadata": {},
   "outputs": [
    {
     "name": "stdout",
     "output_type": "stream",
     "text": [
      "50\n",
      "98\n"
     ]
    }
   ],
   "source": [
    "import random\n",
    "\n",
    "random.seed(0)\n",
    "print(random.randrange(1,101))\n",
    "print(random.randint(1,101))"
   ]
  },
  {
   "cell_type": "markdown",
   "id": "deb4196f",
   "metadata": {},
   "source": [
    "# DAY 3"
   ]
  },
  {
   "cell_type": "markdown",
   "id": "084d6195",
   "metadata": {},
   "source": [
    "### 반복문 내부에 반복문 정의\n",
    "2차원 구조의 데이터 처리에 용이\n",
    "\n",
    "outer 반복문은 행 수 만큼 반복, inner 반복문은 열 수 만큼 반복"
   ]
  },
  {
   "cell_type": "code",
   "execution_count": 130,
   "id": "ca592cd5",
   "metadata": {},
   "outputs": [
    {
     "name": "stdout",
     "output_type": "stream",
     "text": [
      "(0, 0) (0, 1) (0, 2) (0, 3) \n",
      "(1, 0) (1, 1) (1, 2) (1, 3) \n",
      "(2, 0) (2, 1) (2, 2) (2, 3) \n",
      "(3, 0) (3, 1) (3, 2) (3, 3) \n",
      "(4, 0) (4, 1) (4, 2) (4, 3) \n"
     ]
    }
   ],
   "source": [
    "# 5행 4열\n",
    "\n",
    "for row in range(0,5):\n",
    "    for col in range(0,4):\n",
    "        data = (row,col)                    # Tuple 객체로 만듬\n",
    "        print(data, end=\" \")\n",
    "    print()"
   ]
  },
  {
   "cell_type": "code",
   "execution_count": 131,
   "id": "e5255700",
   "metadata": {},
   "outputs": [
    {
     "name": "stdout",
     "output_type": "stream",
     "text": [
      "* \n",
      "* * \n",
      "* * * \n",
      "* * * * \n",
      "* * * * * \n"
     ]
    }
   ],
   "source": [
    "# 연습\n",
    "\n",
    "for row in range(0,5):\n",
    "    for col in range(0,row+1):\n",
    "        print(\"*\", end=\" \")\n",
    "    print()"
   ]
  },
  {
   "cell_type": "code",
   "execution_count": 142,
   "id": "96cca26e",
   "metadata": {},
   "outputs": [
    {
     "name": "stdout",
     "output_type": "stream",
     "text": [
      "* * * * * \n",
      "* * * * \n",
      "* * * \n",
      "* * \n",
      "* \n"
     ]
    }
   ],
   "source": [
    "for row in range(5,0,-1):\n",
    "    for col in range(row):\n",
    "        print(\"*\", end=\" \")\n",
    "    print()"
   ]
  },
  {
   "cell_type": "code",
   "execution_count": 206,
   "id": "fb2e18d4",
   "metadata": {},
   "outputs": [
    {
     "name": "stdout",
     "output_type": "stream",
     "text": [
      "* * * * * \n",
      "  * * * * \n",
      "    * * * \n",
      "      * * \n",
      "        * \n"
     ]
    }
   ],
   "source": [
    "for row in range(1,6):\n",
    "    for col in range(row-1):\n",
    "        print(\" \", end=\" \")\n",
    "    for col in range(6-row):\n",
    "        print(\"*\", end=\" \")\n",
    "    print()"
   ]
  },
  {
   "cell_type": "code",
   "execution_count": 207,
   "id": "f207d816",
   "metadata": {},
   "outputs": [
    {
     "name": "stdout",
     "output_type": "stream",
     "text": [
      "        * \n",
      "      * * \n",
      "    * * * \n",
      "  * * * * \n",
      "* * * * * \n"
     ]
    }
   ],
   "source": [
    "for row in range(1,6):\n",
    "    for col in range(5-row):\n",
    "        print(\" \", end=\" \")\n",
    "    for col in range(row):\n",
    "        print(\"*\", end=\" \")\n",
    "    print()"
   ]
  },
  {
   "cell_type": "code",
   "execution_count": 220,
   "id": "c45e60f1",
   "metadata": {},
   "outputs": [
    {
     "name": "stdout",
     "output_type": "stream",
     "text": [
      "2 * 1 = 2\t3 * 1 = 3\t4 * 1 = 4\t5 * 1 = 5\t6 * 1 = 6\t7 * 1 = 7\t8 * 1 = 8\t9 * 1 = 9\t2 * 2 = 4\t3 * 2 = 6\t4 * 2 = 8\t5 * 2 = 10\t6 * 2 = 12\t7 * 2 = 14\t8 * 2 = 16\t9 * 2 = 18\t2 * 3 = 6\t3 * 3 = 9\t4 * 3 = 12\t5 * 3 = 15\t6 * 3 = 18\t7 * 3 = 21\t8 * 3 = 24\t9 * 3 = 27\t2 * 4 = 8\t3 * 4 = 12\t4 * 4 = 16\t5 * 4 = 20\t6 * 4 = 24\t7 * 4 = 28\t8 * 4 = 32\t9 * 4 = 36\t2 * 5 = 10\t3 * 5 = 15\t4 * 5 = 20\t5 * 5 = 25\t6 * 5 = 30\t7 * 5 = 35\t8 * 5 = 40\t9 * 5 = 45\t2 * 6 = 12\t3 * 6 = 18\t4 * 6 = 24\t5 * 6 = 30\t6 * 6 = 36\t7 * 6 = 42\t8 * 6 = 48\t9 * 6 = 54\t2 * 7 = 14\t3 * 7 = 21\t4 * 7 = 28\t5 * 7 = 35\t6 * 7 = 42\t7 * 7 = 49\t8 * 7 = 56\t9 * 7 = 63\t2 * 8 = 16\t3 * 8 = 24\t4 * 8 = 32\t5 * 8 = 40\t6 * 8 = 48\t7 * 8 = 56\t8 * 8 = 64\t9 * 8 = 72\t2 * 9 = 18\t3 * 9 = 27\t4 * 9 = 36\t5 * 9 = 45\t6 * 9 = 54\t7 * 9 = 63\t8 * 9 = 72\t9 * 9 = 81\t"
     ]
    }
   ],
   "source": [
    "# 구구단 가로로\n",
    "\n",
    "for i in range(1,10):\n",
    "    for j in range(2,10):\n",
    "        print(j,\"*\",i,'=',j*i,end=\"\\t\")"
   ]
  },
  {
   "cell_type": "code",
   "execution_count": 203,
   "id": "85fcdb3c",
   "metadata": {},
   "outputs": [
    {
     "name": "stdout",
     "output_type": "stream",
     "text": [
      " \n",
      "\t   Hello      wo\n",
      "rld!   \n",
      "\n",
      "\t\n",
      "  \n"
     ]
    }
   ],
   "source": [
    "# \\n = 줄 바꿈 \\t = Tab \n",
    "print(\" \\n\\t   Hello      wo\\nrld!   \\n\\n\\t\\n  \")"
   ]
  },
  {
   "cell_type": "code",
   "execution_count": 268,
   "id": "225a805f",
   "metadata": {},
   "outputs": [
    {
     "name": "stdout",
     "output_type": "stream",
     "text": [
      "정수를 입력하세요1\n",
      "정수를 입력하세요2\n",
      "정수를 입력하세요3\n",
      "정수를 입력하세요4\n",
      "정수를 입력하세요5\n",
      "정수를 입력하세요6\n",
      "정수를 입력하세요7\n",
      "정수를 입력하세요8\n",
      "정수를 입력하세요9\n",
      "정수를 입력하세요10\n",
      "홀수는 5 개 입니다.\n",
      "짝수는 5 개 입니다.\n"
     ]
    }
   ],
   "source": [
    "odd = []\n",
    "even = [] \n",
    "for i in range(10):\n",
    "    a = int(input(\"정수를 입력하세요\"))\n",
    "    if a % 2 == 0:\n",
    "        even.append(a)\n",
    "    else:\n",
    "        odd.append(a)\n",
    "\n",
    "print(\"홀수는\",len(odd),\"개 입니다.\")\n",
    "print(\"짝수는\",len(even),\"개 입니다.\")"
   ]
  },
  {
   "cell_type": "code",
   "execution_count": 273,
   "id": "dc05d42c",
   "metadata": {},
   "outputs": [
    {
     "name": "stdout",
     "output_type": "stream",
     "text": [
      "[153, 370, 371, 407]\n",
      "4\n"
     ]
    }
   ],
   "source": [
    "a = []\n",
    "for i in range(100,1000):\n",
    "    i_hundred = i // 100\n",
    "    i_ten = i // 10 - (i_hundred * 10)\n",
    "    i_one = i - (i_hundred * 100) - (i_ten * 10)\n",
    "    if (i_hundred ** 3) + (i_ten ** 3) + (i_one ** 3) == i:\n",
    "        a.append(i)\n",
    "print(a)\n",
    "print(len(a))"
   ]
  },
  {
   "cell_type": "code",
   "execution_count": 270,
   "id": "a790167c",
   "metadata": {},
   "outputs": [
    {
     "name": "stdout",
     "output_type": "stream",
     "text": [
      "77\n"
     ]
    }
   ],
   "source": [
    "for i in range(10,100):\n",
    "    i_ten = i // 10\n",
    "    i_one = i - (i_ten * 10)\n",
    "    if i_ten == 0:\n",
    "        continue\n",
    "    else:\n",
    "        j = i_ten * i_one\n",
    "        j_ten = j // 10\n",
    "        j_one = j - (j_ten * 10)\n",
    "        if j_ten == 0:\n",
    "            continue\n",
    "        else:\n",
    "            k = j_ten * j_one\n",
    "            k_ten = k // 10\n",
    "            k_one = k - (k_ten * 10)\n",
    "            if k_ten == 0:\n",
    "                continue\n",
    "            else:\n",
    "                l = k_ten * k_one\n",
    "                l_ten = l // 10\n",
    "                l_one = l - (l_ten * 10)\n",
    "                if l_ten == 0 :\n",
    "                    continue\n",
    "                else:\n",
    "                    print(i)       "
   ]
  },
  {
   "cell_type": "code",
   "execution_count": 275,
   "id": "e4817136",
   "metadata": {},
   "outputs": [
    {
     "name": "stdout",
     "output_type": "stream",
     "text": [
      "정수 77 은 고집수 입니다.\n"
     ]
    }
   ],
   "source": [
    "for num in range(10,100):\n",
    "    k = num\n",
    "    count = 0\n",
    "    while(k > 9):\n",
    "        k = k//10 * (k%10)\n",
    "        count += 1\n",
    "        \n",
    "    if count >= 4:\n",
    "        print(\"정수\", num, \"은 고집수 입니다.\")"
   ]
  },
  {
   "cell_type": "code",
   "execution_count": 280,
   "id": "9c841a52",
   "metadata": {
    "scrolled": true
   },
   "outputs": [
    {
     "name": "stdout",
     "output_type": "stream",
     "text": [
      "2 3 5 7 11 13 17 19 23 29 31 37 41 43 47 53 59 61 67 71 73 79 83 89 97 "
     ]
    }
   ],
   "source": [
    "for i in range(1,101):\n",
    "    for j in range(2, i+1):\n",
    "        if i == j:\n",
    "            print(i, end=\" \")\n",
    "        elif (i % j == 0):\n",
    "            break"
   ]
  },
  {
   "cell_type": "markdown",
   "id": "77c0b2d2",
   "metadata": {},
   "source": [
    "## 문자열의 이해\n",
    "<br>\n",
    "\n",
    "문자열은 시퀀스 자료형, 순서번호, 첨자, index - 0부터 시작\n",
    "> a = \"abcda\"\n",
    "\n",
    "문자열을 저장하기 위해서는 영문자 한 글자당 1바이트\n",
    "> ASCII 문자셋 : A(65),a(97),0(48),엔터(13),스페이스바(10) <br> unicode : 전 세계의 문자를 단일 숫자셋으로 매핑 <br> utf-8 : 웹에서 사용 권장하는 문자셋 <br> utf-16, euc-kr, cp949..\n",
    "\n",
    "encoding = 문자를 숫자로 바꾸는 것 (메모리에 저장, 처리 목적)\n",
    "\n",
    "decoding = 숫자를 문자로 바꾸는 것 (가독성, 출력 목적)\n"
   ]
  },
  {
   "cell_type": "markdown",
   "id": "2d8a619d",
   "metadata": {},
   "source": [
    "## 문자열의 인덱싱\n",
    "<br>\n",
    "\n",
    "리스트처럼 글자 하나하나가 상대적인 주소(offset)를 가지는데, 이 주소를 사용해 할당된 값을 가져오는 인덱싱을 사용할 수 있다\n",
    "\n"
   ]
  },
  {
   "cell_type": "markdown",
   "id": "179182ac",
   "metadata": {},
   "source": [
    "## 문자열의 슬라이싱\n",
    "<br>\n",
    "\n",
    "문자열의 주소값을 기반으로 문자열의 부분값을 반환하는 기법이다."
   ]
  },
  {
   "cell_type": "code",
   "execution_count": null,
   "id": "e37a189e",
   "metadata": {},
   "outputs": [],
   "source": []
  },
  {
   "cell_type": "markdown",
   "id": "64f615ca",
   "metadata": {},
   "source": [
    "## 문자열 연산"
   ]
  },
  {
   "cell_type": "code",
   "execution_count": 281,
   "id": "1ad808a1",
   "metadata": {},
   "outputs": [
    {
     "name": "stdout",
     "output_type": "stream",
     "text": [
      "TEAM LAB\n",
      "TEAMTEAM LABLAB\n",
      "TEAM\n"
     ]
    }
   ],
   "source": [
    "a = \"TEAM\"\n",
    "b = \"LAB\"\n",
    "print(a + \" \" + b)\n",
    "\n",
    "print(a * 2 + \" \" + b * 2)\n",
    "\n",
    "if \"A\" in a:\n",
    "    print(a)\n",
    "else:\n",
    "    print(b)\n",
    "    "
   ]
  },
  {
   "cell_type": "code",
   "execution_count": 287,
   "id": "62d949ac",
   "metadata": {},
   "outputs": [
    {
     "ename": "TypeError",
     "evalue": "can only concatenate str (not \"int\") to str",
     "output_type": "error",
     "traceback": [
      "\u001b[1;31m---------------------------------------------------------------------------\u001b[0m",
      "\u001b[1;31mTypeError\u001b[0m                                 Traceback (most recent call last)",
      "\u001b[1;32m~\\AppData\\Local\\Temp/ipykernel_2432/1722851086.py\u001b[0m in \u001b[0;36m<module>\u001b[1;34m\u001b[0m\n\u001b[0;32m      1\u001b[0m \u001b[0mint_value\u001b[0m \u001b[1;33m=\u001b[0m \u001b[1;36m2\u001b[0m\u001b[1;33m\u001b[0m\u001b[1;33m\u001b[0m\u001b[0m\n\u001b[1;32m----> 2\u001b[1;33m \u001b[0mprint\u001b[0m\u001b[1;33m(\u001b[0m\u001b[1;34m\"결과는\"\u001b[0m \u001b[1;33m+\u001b[0m \u001b[0mint_value\u001b[0m\u001b[1;33m)\u001b[0m   \u001b[1;31m# 강타입 땜에 오류\u001b[0m\u001b[1;33m\u001b[0m\u001b[1;33m\u001b[0m\u001b[0m\n\u001b[0m\u001b[0;32m      3\u001b[0m \u001b[1;33m\u001b[0m\u001b[0m\n\u001b[0;32m      4\u001b[0m \u001b[1;31m# 강타입 : 정수+문자열 => TypeError\u001b[0m\u001b[1;33m\u001b[0m\u001b[1;33m\u001b[0m\u001b[1;33m\u001b[0m\u001b[0m\n",
      "\u001b[1;31mTypeError\u001b[0m: can only concatenate str (not \"int\") to str"
     ]
    }
   ],
   "source": [
    "int_value = 2 \n",
    "print(\"결과는\" + int_value)   # 강타입 땜에 오류\n",
    "\n",
    "# 강타입 : 정수+문자열 => TypeError"
   ]
  },
  {
   "cell_type": "markdown",
   "id": "0d6ef0e8",
   "metadata": {},
   "source": [
    "## 문자열 관련 함수\n",
    "\n",
    "\n"
   ]
  },
  {
   "cell_type": "code",
   "execution_count": 291,
   "id": "5d6b151b",
   "metadata": {},
   "outputs": [
    {
     "name": "stdout",
     "output_type": "stream",
     "text": [
      "['__add__', '__class__', '__contains__', '__delattr__', '__dir__', '__doc__', '__eq__', '__format__', '__ge__', '__getattribute__', '__getitem__', '__getnewargs__', '__gt__', '__hash__', '__init__', '__init_subclass__', '__iter__', '__le__', '__len__', '__lt__', '__mod__', '__mul__', '__ne__', '__new__', '__reduce__', '__reduce_ex__', '__repr__', '__rmod__', '__rmul__', '__setattr__', '__sizeof__', '__str__', '__subclasshook__', 'capitalize', 'casefold', 'center', 'count', 'encode', 'endswith', 'expandtabs', 'find', 'format', 'format_map', 'index', 'isalnum', 'isalpha', 'isascii', 'isdecimal', 'isdigit', 'isidentifier', 'islower', 'isnumeric', 'isprintable', 'isspace', 'istitle', 'isupper', 'join', 'ljust', 'lower', 'lstrip', 'maketrans', 'partition', 'replace', 'rfind', 'rindex', 'rjust', 'rpartition', 'rsplit', 'rstrip', 'split', 'splitlines', 'startswith', 'strip', 'swapcase', 'title', 'translate', 'upper', 'zfill']\n"
     ]
    }
   ],
   "source": [
    "name = \"korea\"\n",
    "\n",
    "print(dir(name))"
   ]
  },
  {
   "cell_type": "code",
   "execution_count": 296,
   "id": "8c91e5fc",
   "metadata": {},
   "outputs": [
    {
     "data": {
      "text/plain": [
       "5"
      ]
     },
     "execution_count": 296,
     "metadata": {},
     "output_type": "execute_result"
    }
   ],
   "source": [
    "len(name)"
   ]
  },
  {
   "cell_type": "code",
   "execution_count": 297,
   "id": "f0fb052a",
   "metadata": {},
   "outputs": [
    {
     "data": {
      "text/plain": [
       "'KOREA'"
      ]
     },
     "execution_count": 297,
     "metadata": {},
     "output_type": "execute_result"
    }
   ],
   "source": [
    "name.upper()"
   ]
  },
  {
   "cell_type": "code",
   "execution_count": 298,
   "id": "c8a53602",
   "metadata": {},
   "outputs": [
    {
     "data": {
      "text/plain": [
       "'dolphin'"
      ]
     },
     "execution_count": 298,
     "metadata": {},
     "output_type": "execute_result"
    }
   ],
   "source": [
    "\"DOLPHIN\".lower()"
   ]
  },
  {
   "cell_type": "code",
   "execution_count": 301,
   "id": "4c677242",
   "metadata": {},
   "outputs": [
    {
     "data": {
      "text/plain": [
       "'Believe In Yourself'"
      ]
     },
     "execution_count": 301,
     "metadata": {},
     "output_type": "execute_result"
    }
   ],
   "source": [
    "\"believe in yourself\".title()"
   ]
  },
  {
   "cell_type": "code",
   "execution_count": 302,
   "id": "35b8837b",
   "metadata": {},
   "outputs": [
    {
     "data": {
      "text/plain": [
       "'Believe in yourself'"
      ]
     },
     "execution_count": 302,
     "metadata": {},
     "output_type": "execute_result"
    }
   ],
   "source": [
    "\"believe in yourself\".capitalize()"
   ]
  },
  {
   "cell_type": "code",
   "execution_count": 303,
   "id": "69a05758",
   "metadata": {},
   "outputs": [
    {
     "data": {
      "text/plain": [
       "2"
      ]
     },
     "execution_count": 303,
     "metadata": {},
     "output_type": "execute_result"
    }
   ],
   "source": [
    "'where there is a will there is a way'.count('there')"
   ]
  },
  {
   "cell_type": "code",
   "execution_count": 304,
   "id": "804e2c91",
   "metadata": {},
   "outputs": [
    {
     "data": {
      "text/plain": [
       "6"
      ]
     },
     "execution_count": 304,
     "metadata": {},
     "output_type": "execute_result"
    }
   ],
   "source": [
    "'where there is a will there is a way'.find('there')"
   ]
  },
  {
   "cell_type": "code",
   "execution_count": 305,
   "id": "e5afb303",
   "metadata": {},
   "outputs": [
    {
     "data": {
      "text/plain": [
       "22"
      ]
     },
     "execution_count": 305,
     "metadata": {},
     "output_type": "execute_result"
    }
   ],
   "source": [
    "'where there is a will there is a way'.rfind('there')"
   ]
  },
  {
   "cell_type": "code",
   "execution_count": 306,
   "id": "6af9b8a0",
   "metadata": {},
   "outputs": [
    {
     "data": {
      "text/plain": [
       "False"
      ]
     },
     "execution_count": 306,
     "metadata": {},
     "output_type": "execute_result"
    }
   ],
   "source": [
    "'where there is a will there is a way'.startswith('there')"
   ]
  },
  {
   "cell_type": "code",
   "execution_count": 307,
   "id": "ec194344",
   "metadata": {},
   "outputs": [
    {
     "data": {
      "text/plain": [
       "13"
      ]
     },
     "execution_count": 307,
     "metadata": {},
     "output_type": "execute_result"
    }
   ],
   "source": [
    "len('   korean    ')"
   ]
  },
  {
   "cell_type": "code",
   "execution_count": 313,
   "id": "9b21ec5c",
   "metadata": {},
   "outputs": [
    {
     "data": {
      "text/plain": [
       "6"
      ]
     },
     "execution_count": 313,
     "metadata": {},
     "output_type": "execute_result"
    }
   ],
   "source": [
    "len('    korean    '.strip())"
   ]
  },
  {
   "cell_type": "code",
   "execution_count": 314,
   "id": "20b68aa7",
   "metadata": {},
   "outputs": [
    {
     "data": {
      "text/plain": [
       "['where', 'there', 'is', 'a', 'will', 'there', 'is', 'a', 'way']"
      ]
     },
     "execution_count": 314,
     "metadata": {},
     "output_type": "execute_result"
    }
   ],
   "source": [
    "'where there is a will there is a way'.split()"
   ]
  },
  {
   "cell_type": "code",
   "execution_count": 315,
   "id": "d66ac2cf",
   "metadata": {},
   "outputs": [
    {
     "data": {
      "text/plain": [
       "list"
      ]
     },
     "execution_count": 315,
     "metadata": {},
     "output_type": "execute_result"
    }
   ],
   "source": [
    "type('where there is a will there is a way'.split())"
   ]
  },
  {
   "cell_type": "code",
   "execution_count": 320,
   "id": "b5ce13c2",
   "metadata": {},
   "outputs": [
    {
     "name": "stdout",
     "output_type": "stream",
     "text": [
      "False\n",
      "True\n"
     ]
    }
   ],
   "source": [
    "print('123abc'.isdigit())\n",
    "print('123000'.isdigit())"
   ]
  },
  {
   "cell_type": "code",
   "execution_count": 322,
   "id": "c1b2c6fb",
   "metadata": {},
   "outputs": [
    {
     "name": "stdout",
     "output_type": "stream",
     "text": [
      "['짜장', '짬뽕', '탕슉']\n",
      "['서울', '대전', '대구', '부산']\n",
      "서울 찍고 대전 찍고 대구 찍고 부산 찍고 "
     ]
    }
   ],
   "source": [
    "s = \"짜장 짬뽕 탕슉\"\n",
    "print(s.split())\n",
    "\n",
    "s2 = \"서울→대전→대구→부산\"\n",
    "city = s2.split(\"→\")\n",
    "print(city)\n",
    "for c in city:\n",
    "    print(c,\"찍고\",end=' ')"
   ]
  },
  {
   "cell_type": "code",
   "execution_count": 323,
   "id": "641f6498",
   "metadata": {},
   "outputs": [
    {
     "name": "stdout",
     "output_type": "stream",
     "text": [
      "대._.한._.민._.국\n"
     ]
    }
   ],
   "source": [
    "s = \"._.\"\n",
    "print(s.join(\"대한민국\"))"
   ]
  },
  {
   "cell_type": "code",
   "execution_count": 328,
   "id": "677e6b1a",
   "metadata": {},
   "outputs": [
    {
     "name": "stdout",
     "output_type": "stream",
     "text": [
      "독도는 일본땅이다. 대마도도 일본땅이다.\n",
      "독도는 한국땅이다. 대마도도 한국땅이다.\n"
     ]
    }
   ],
   "source": [
    "s = \"독도는 일본땅이다. 대마도도 일본땅이다.\"\n",
    "print(s)\n",
    "print(s.replace(\"일본\",\"한국\"))"
   ]
  },
  {
   "cell_type": "code",
   "execution_count": 333,
   "id": "8551c804",
   "metadata": {},
   "outputs": [
    {
     "name": "stdout",
     "output_type": "stream",
     "text": [
      "           강나루 건너서            \n",
      "            밀밭 길을             \n",
      "                              \n",
      "          구름에 달 가듯이           \n",
      "            가는 나그네            \n",
      "            길은 외줄기            \n",
      "            낭도 삼백리            \n",
      "                              \n",
      "          술 익는 마을마다           \n",
      "            타는 저녁놀            \n",
      "          구름에 달 가듯이           \n",
      "            가는 나그네            \n"
     ]
    }
   ],
   "source": [
    "traveler = \"\"\"강나루 건너서\\n밀밭 길을\\n\\n구름에 달 가듯이\\n가는 나그네\\n길은 외줄기\\n낭도 삼백리\\n\\n술 익는 마을마다\\n타는 저녁놀\\n구름에 달 가듯이\\n가는 나그네\"\"\"\n",
    "poet = traveler.splitlines()\n",
    "for line in poet:\n",
    "    print(line.center(30))"
   ]
  },
  {
   "cell_type": "markdown",
   "id": "a6896743",
   "metadata": {},
   "source": [
    "## 문자열(string) 포매팅(Formatting)\n",
    "<br>\n",
    "\n",
    "• 파이썬 3 버전부터는 문자열이 텍스트 기반인 유니코드로 처리되므로 문자열을 가지고 처리하는 포매팅도 텍스트 기반으로 처리된다.\n",
    "\n",
    "• format함수와 문자열 자료형에 있는 format 메서드를 이용\n",
    "\n",
    "• 파이썬 3버전부터는 f문자열을 사용해서 더 간단하게 출력이 가능"
   ]
  },
  {
   "cell_type": "code",
   "execution_count": 3,
   "id": "0976c88a",
   "metadata": {
    "scrolled": true
   },
   "outputs": [
    {
     "name": "stdout",
     "output_type": "stream",
     "text": [
      "나이: 30\n",
      "나이: 30\n",
      "1.123000,1.12\n",
      "1.123000, 1.12\n",
      "12, a, A\n",
      "1010, 12\n",
      "a, A\n",
      "|  123|\n",
      "|  abc|\n",
      "|  123|\n",
      "|abc  |\n",
      "|123  |\n",
      "|abc  |\n",
      "|123  |\n",
      "|  abc|\n",
      "| abc |\n"
     ]
    }
   ],
   "source": [
    "print('%s: %d' % ('나이', 30)) #문자열과 정수 출력\n",
    "print('{}: {}'.format('나이', 30)) # %[-]폭[.유효자리수]서식\n",
    "\n",
    "print('%f,%.2f' % (1.123, 1.123)) #실수 출력\n",
    "print('{:f}, {:.2f}'.format(1.123, 1.123))\n",
    "\n",
    "print('%o, %x, %X' % (10, 10, 10)) #진법 출력\n",
    "print('{:b}, {:o}'.format(10, 10)) \n",
    "print('{:x}, {:X}'.format(10, 10))\n",
    "\n",
    "print('|%5d|' % 123) #고정 길이 출력\n",
    "print('|%5s|' % 'abc')\n",
    "print('|{:5}|'.format(123))\n",
    "print('|{:5}|'.format('abc'))\n",
    "\n",
    "print('|%-5d|' % 123) # 고정 길이의 정렬\n",
    "print('|%-5s|' % 'abc')\n",
    "print('|{:<5}|'.format(123))\n",
    "print('|{:>5}|'.format('abc'))\n",
    "print('|{:^5}|'.format('abc'))"
   ]
  },
  {
   "cell_type": "code",
   "execution_count": 5,
   "id": "8aace63b",
   "metadata": {},
   "outputs": [
    {
     "name": "stdout",
     "output_type": "stream",
     "text": [
      "|00123|\n",
      "|00123|\n",
      "|__abc|\n",
      "|-abc-|\n",
      "1,000,000\n",
      "1,000,000.00\n"
     ]
    }
   ],
   "source": [
    "print('|%05d|' % 123) #여백 채우기\n",
    "print('|{:05}|'.format(123))\n",
    "print('|{:_>5}|'.format('abc'))\n",
    "print('|{:-^5}|'.format('abc'))\n",
    "\n",
    "print('{:,}'.format(1000000)) #정수, 실수 단위 구분\n",
    "print('{:,.2f}'.format(1000000))"
   ]
  },
  {
   "cell_type": "code",
   "execution_count": null,
   "id": "d659da8c",
   "metadata": {},
   "outputs": [],
   "source": []
  },
  {
   "cell_type": "code",
   "execution_count": null,
   "id": "e250a917",
   "metadata": {},
   "outputs": [],
   "source": []
  },
  {
   "cell_type": "code",
   "execution_count": null,
   "id": "2fc30db1",
   "metadata": {},
   "outputs": [],
   "source": []
  },
  {
   "cell_type": "code",
   "execution_count": null,
   "id": "6ee475d8",
   "metadata": {},
   "outputs": [],
   "source": []
  }
 ],
 "metadata": {
  "kernelspec": {
   "display_name": "Python 3 (ipykernel)",
   "language": "python",
   "name": "python3"
  },
  "language_info": {
   "codemirror_mode": {
    "name": "ipython",
    "version": 3
   },
   "file_extension": ".py",
   "mimetype": "text/x-python",
   "name": "python",
   "nbconvert_exporter": "python",
   "pygments_lexer": "ipython3",
   "version": "3.8.11"
  }
 },
 "nbformat": 4,
 "nbformat_minor": 5
}
