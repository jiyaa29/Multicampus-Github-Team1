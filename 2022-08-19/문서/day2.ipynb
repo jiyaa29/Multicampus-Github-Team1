{
 "cells": [
  {
   "cell_type": "markdown",
   "id": "75b8b92d",
   "metadata": {},
   "source": [
    "# 파이썬 프로그램 언어 특성\n",
    "\n",
    "1. 플랫폼(hardware + os) 독립적 언어 (os에 적합한 파이썬 interpretor) .py 파일\n",
    "\n",
    "2. interpretor 언어 - 해석해서 라인단위 즉시 실행\n",
    "\n",
    "3. 객체(속성 + 기능) 지향 언어 - 객체 단위로 묶어서 조립이나 분해를 쉽게 = **재사용성**<br>파이썬의 모든 것은 객체임\n",
    "> ex) a = 3 에서 a는 int 클래스로부터 생성된 객체 (int객체 불변객체) \n",
    "4. 동적 타이핑 언어 - 타입선언 없이 실행시점에 값이 할당될 때 결정됨 ↔ 정적 타이핑 언어\n",
    "\n",
    "5. 함수적 프로그래밍 언어"
   ]
  },
  {
   "cell_type": "markdown",
   "id": "bc0d97e3",
   "metadata": {},
   "source": [
    "> 파이썬 인터프리터 : colab, anaconda, python ...\n",
    "\n",
    "> 코드 편집기 : pycham, vs code, jupyter notebook"
   ]
  },
  {
   "cell_type": "markdown",
   "id": "97fded98",
   "metadata": {},
   "source": [
    "## 파이썬 언어 구조 특성\n",
    "\n",
    "1. 문장 종료시 쓰는 ; 안 씀\n",
    "\n",
    "2. 조건문, 반복문, 함수 선언 ( : )하고 종속 문장은 블럭 구조 선언 (들여쓰기)"
   ]
  },
  {
   "cell_type": "markdown",
   "id": "31f4cc49",
   "metadata": {},
   "source": [
    "## 주석\n",
    "\n",
    "> '#'\n",
    "> ''' 요런거 '''"
   ]
  },
  {
   "cell_type": "markdown",
   "id": "800240e1",
   "metadata": {},
   "source": [
    "## 모듈\n",
    "파이썬 프로그램 구현 단위, 관리 단위, .py파일의 물리적 매핑<br>\n",
    "파일 이름이 모듈명, 연관된 변수, 함수, 클래스들을 그룹핑해서 정의한것\n",
    "\n",
    "import 모듈명 as 별칭\n",
    "별칭.함수()"
   ]
  },
  {
   "cell_type": "markdown",
   "id": "078c2cd3",
   "metadata": {},
   "source": [
    "표준입력함수 : input() 내장 함수, 반환값의 타입은 str <br>\n",
    "표준출력함수 : print() 내장 함수, print(a,b,c,,,,[sep=''],[end=''])"
   ]
  },
  {
   "cell_type": "markdown",
   "id": "9c605472",
   "metadata": {},
   "source": [
    "프로그램 구현을 위한 재료 : 데이터, 키워드, 연산자, 문장, 함수, 클래스, 알고리즘...."
   ]
  },
  {
   "cell_type": "markdown",
   "id": "6a06c133",
   "metadata": {},
   "source": [
    "## 변수\n",
    "<br>\n",
    "데이터를 메모리에 저장하고 처리를 위해 메모리 주소값 대신 참조할 이름"
   ]
  },
  {
   "cell_type": "markdown",
   "id": "9e28ff02",
   "metadata": {},
   "source": [
    "### 변수명 규칙\n",
    "1. 알파벳, 숫자, 밑줄 _ 로 선언<br> 근데 첫 글자로 **숫자는 불가능**\n",
    "\n",
    "2. 공백, +, - 등 불가능\n",
    "3. 키워드, 내장함수, 표준 모듈명, True, False, None 불가능\n",
    "4. 길이 제한 없지만, 짧고 의미있는 이름으로 표기하는게 편함"
   ]
  },
  {
   "cell_type": "markdown",
   "id": "a847c196",
   "metadata": {},
   "source": [
    "변수 삭제는 del 변수 / del (변수)"
   ]
  },
  {
   "cell_type": "markdown",
   "id": "5df16c77",
   "metadata": {},
   "source": [
    "------------------------------------------------------------------------------------------------------------------------------------------------------"
   ]
  },
  {
   "cell_type": "markdown",
   "id": "9d68e94f",
   "metadata": {},
   "source": [
    "파이썬 정수와 논리값이 호환\n",
    "\n",
    "> False는 0, True는 1"
   ]
  },
  {
   "cell_type": "markdown",
   "id": "0dd28105",
   "metadata": {},
   "source": [
    "# 자료형과 기본 연산"
   ]
  },
  {
   "cell_type": "markdown",
   "id": "2de128a7",
   "metadata": {},
   "source": [
    "### 메모리 공간\n",
    "ASCII 문자셋 (128개의 문자, 숫자, 특수문자를 숫자로 encoding) = 1바이트<br>\n",
    "UNICODE (2byte, 4byte)\n",
    "\n",
    "메모리 효율적 사용이 프로그램 성능에 영향을 줌<br>\n",
    "저장되는 데이터별로 할당받는 메모리 크기 결정됨<br>\n",
    "논리값을 저장하려면 1bit면 충분하지만, 최소할당단위는 1byte<br>\n",
    "정수값의 범위에 따라 1byte, 2byte, 4byte, 8byte 저장할 수 있는 타입이 다름(binary로 저장)<br>\n",
    "소수점 포함 실수값은 지수부 + 가수부로 구성된 부동소수점 형식<br>\n",
    "ex) 0.0035 = 3.5 * 10 ** -3 = 3.5(가수부), 10**-3(지수부) <br>\n",
    "\n",
    "표현할 수 있는 유효 숫자의 개수는 줄어들지만 고정 소수점과 비교해서 더 큰 범위의 실수값들을 저장할 수 있음"
   ]
  },
  {
   "cell_type": "markdown",
   "id": "4c09ba01",
   "metadata": {},
   "source": [
    "### 자료형\n",
    "<br>\n",
    "\n",
    "프로그래밍을 할 때 쓰이는 숫자, 문자열등의 자료 형태로 저장되는 그 모든 것을 뜻한다\n",
    "\n",
    "---\n",
    "\n",
    "• 변수의 유형 => 자료형\n",
    "\n",
    "• 파이썬은 객체 지향 개념을 수용해서 모든 것(bool, 정수, 실수, 문자열, 데이터 구조, 함수, 프로그램)이 객체로 구현되어 있다.\n",
    "\n",
    "• 만들어지는 모든 값은 객체이고 객체를 처리하기 위해 속성과 메소드를 제공한다.\n",
    "> 함수 : 독립적 기능을 수행 <br>\n",
    "> 메서드 : 객체에 종속되며 객체의 속성 데이터를 처리하는 용도\n",
    "\n",
    "• 객체의 타입을 바꿀 수 없는 강타입이다.\n",
    "> 다른 프로그램에서는 정수 + 문자열이 자동으로 문자열화되지만 파이썬에서는 오류 발생\n",
    "\n",
    "• dir 함수 : 클래스와 인스턴스 내부에서 사용할 수 있는 정보를 확인<br>\n",
    "• id 함수 : 클래스와 인스턴스의 레퍼런스를 정수로 리턴<br>\n",
    "• type 메타 클래스 : 클래스와 인스턴스가 누구에 의해 만들어졌는지에 대한 정보를 확인"
   ]
  },
  {
   "cell_type": "code",
   "execution_count": 23,
   "id": "66440d50",
   "metadata": {},
   "outputs": [
    {
     "name": "stdout",
     "output_type": "stream",
     "text": [
      "['__add__', '__class__', '__contains__', '__delattr__', '__dir__', '__doc__', '__eq__', '__format__', '__ge__', '__getattribute__', '__getitem__', '__getnewargs__', '__gt__', '__hash__', '__init__', '__init_subclass__', '__iter__', '__le__', '__len__', '__lt__', '__mod__', '__mul__', '__ne__', '__new__', '__reduce__', '__reduce_ex__', '__repr__', '__rmod__', '__rmul__', '__setattr__', '__sizeof__', '__str__', '__subclasshook__', 'capitalize', 'casefold', 'center', 'count', 'encode', 'endswith', 'expandtabs', 'find', 'format', 'format_map', 'index', 'isalnum', 'isalpha', 'isascii', 'isdecimal', 'isdigit', 'isidentifier', 'islower', 'isnumeric', 'isprintable', 'isspace', 'istitle', 'isupper', 'join', 'ljust', 'lower', 'lstrip', 'maketrans', 'partition', 'replace', 'rfind', 'rindex', 'rjust', 'rpartition', 'rsplit', 'rstrip', 'split', 'splitlines', 'startswith', 'strip', 'swapcase', 'title', 'translate', 'upper', 'zfill']\n"
     ]
    }
   ],
   "source": [
    "nm = 'korea'\n",
    "print(dir(nm))"
   ]
  },
  {
   "cell_type": "code",
   "execution_count": 24,
   "id": "336bc923",
   "metadata": {},
   "outputs": [
    {
     "name": "stdout",
     "output_type": "stream",
     "text": [
      "2336559876656\n"
     ]
    }
   ],
   "source": [
    "print(id(nm))"
   ]
  },
  {
   "cell_type": "code",
   "execution_count": 25,
   "id": "0e5b8723",
   "metadata": {},
   "outputs": [
    {
     "name": "stdout",
     "output_type": "stream",
     "text": [
      "<class 'str'>\n"
     ]
    }
   ],
   "source": [
    "print(type(nm))"
   ]
  },
  {
   "cell_type": "markdown",
   "id": "ac203b76",
   "metadata": {},
   "source": [
    "### 기본 자료형\n",
    "<br>\n",
    "\n",
    "• 정수형(integer type) : 자연수를 포함해 값의 영역이 정수로 한정된 값\n",
    "\n",
    "• 실수형(floating-point type) : 소수점이 포함된 값\n",
    "\n",
    "• 문자형(string type) : 값이 문자로 출력되는 자료형\n",
    "\n",
    "• 불린형(boolean type) : 논리형으로, 참(True) 또는 거짓(False)을 표현\n",
    "\n",
    "> ex) data = 1 / data = 9.0 / data = 'abc' / data = True"
   ]
  },
  {
   "cell_type": "markdown",
   "id": "6a0dcfc2",
   "metadata": {},
   "source": [
    "#### 정수형\n",
    "<br>\n",
    "\n",
    "• 가장 간단한 수치형\n",
    "\n",
    "• 소수점 이하 값은 표현할 수 없음\n",
    "\n",
    "• 10진수 아닌 정수는 앞에 접두 붙여 진법 지정, 표시\n",
    "\n",
    "\n",
    "<br>\n",
    "메모리에 정수값을 저장할 때 십진수 형식으로 메모리에 정수값을 저장<br> (binary로 저장, 기본 출력방식은 십진수)"
   ]
  },
  {
   "cell_type": "code",
   "execution_count": 26,
   "id": "b446c24a",
   "metadata": {},
   "outputs": [
    {
     "name": "stdout",
     "output_type": "stream",
     "text": [
      "8\n"
     ]
    }
   ],
   "source": [
    "num = 0b1000\n",
    "print(num)"
   ]
  },
  {
   "cell_type": "code",
   "execution_count": 27,
   "id": "9724d7d9",
   "metadata": {},
   "outputs": [
    {
     "name": "stdout",
     "output_type": "stream",
     "text": [
      "63\n"
     ]
    }
   ],
   "source": [
    "num= 0o77\n",
    "print(num)"
   ]
  },
  {
   "cell_type": "code",
   "execution_count": 28,
   "id": "453fa3fb",
   "metadata": {},
   "outputs": [
    {
     "name": "stdout",
     "output_type": "stream",
     "text": [
      "255\n"
     ]
    }
   ],
   "source": [
    "num = 0xff\n",
    "print(num)"
   ]
  },
  {
   "cell_type": "markdown",
   "id": "48335ac1",
   "metadata": {},
   "source": [
    "int의 크기가 64비트보다 더 큰 공간을 가질 수 있다.<br>\n",
    "다른 언어에서는 정수 표현 범위가 8byte로 제한되어 있음"
   ]
  },
  {
   "cell_type": "code",
   "execution_count": 29,
   "id": "83b80ac0",
   "metadata": {},
   "outputs": [
    {
     "name": "stdout",
     "output_type": "stream",
     "text": [
      "11.0\n",
      "3\n",
      "5.0\n",
      "10000000000000000000000000000000000000000000000000000000000000000000000000000000000000000000000000000\n",
      "100000000000000000000000000000000000000000000000000000000000000000000000000000000000000000000000000000000000000000000000000000000000000000000000000000000000000000000000000000000000000000000000000000000\n"
     ]
    }
   ],
   "source": [
    "# 자동 형 변환\n",
    "print(4 + 7.0)\n",
    "print(True + 2)\n",
    "print(False + 5.0)\n",
    "\n",
    "googol = 10**100\n",
    "print(googol)\n",
    "print(googol * googol)\n",
    "# 엄청 큰 단위이지만 여기서는 표현 가능"
   ]
  },
  {
   "cell_type": "markdown",
   "id": "45a56b24",
   "metadata": {},
   "source": [
    "#### 실수형\n",
    "<br>\n",
    "\n",
    "• 소수점 이하 정밀한 값 표현\n",
    "\n",
    "• 아주 크거나 작은 값은 부동 소수점 방식으로 표기\n",
    "\n",
    "• 가수E지수\n",
    "\n",
    "• 9조 4600억 = 9.46e12\n",
    "\n",
    "• 숫자 짧아지고 비교에도 용이\n",
    "\n",
    "4byte(32bit)로 저장할 때 1bit는 sign bit(양수 0, 음수 1), 지수부(8bit), 가수부(23bit)"
   ]
  },
  {
   "cell_type": "code",
   "execution_count": 30,
   "id": "290da061",
   "metadata": {},
   "outputs": [
    {
     "data": {
      "text/plain": [
       "0.0035"
      ]
     },
     "execution_count": 30,
     "metadata": {},
     "output_type": "execute_result"
    }
   ],
   "source": [
    "# 3500 = 3.5 * 10**3 = 3.5E-3\n",
    "3.5E-3"
   ]
  },
  {
   "cell_type": "code",
   "execution_count": 31,
   "id": "81c70fc8",
   "metadata": {},
   "outputs": [
    {
     "data": {
      "text/plain": [
       "(float, float, float)"
      ]
     },
     "execution_count": 31,
     "metadata": {},
     "output_type": "execute_result"
    }
   ],
   "source": [
    "type(3.14), type(314e-2), type(3.14e-2)"
   ]
  },
  {
   "cell_type": "code",
   "execution_count": 32,
   "id": "d6a3a6a6",
   "metadata": {},
   "outputs": [
    {
     "name": "stdout",
     "output_type": "stream",
     "text": [
      "3.14 3.14 0.0314\n"
     ]
    }
   ],
   "source": [
    "print(3.14, 314e-2, 3.14e-2)"
   ]
  },
  {
   "cell_type": "markdown",
   "id": "a0aca19c",
   "metadata": {},
   "source": [
    "#### 복소수형\n",
    "<br>\n",
    "\n",
    "• 실수부+허수부j\n",
    "\n",
    "• 알파벳 j 접미가 복소수임을 나타냄\n"
   ]
  },
  {
   "cell_type": "code",
   "execution_count": 35,
   "id": "c4211088",
   "metadata": {},
   "outputs": [
    {
     "name": "stdout",
     "output_type": "stream",
     "text": [
      "<class 'complex'> -4.0 3.0 (3+4j)\n"
     ]
    }
   ],
   "source": [
    "x = 3-4j\n",
    "print(type(x),x.imag,x.real,x.conjugate())\n",
    "\n",
    "#imag = 허수부, real = 실수부, conjugate = 켤레복소수"
   ]
  },
  {
   "cell_type": "markdown",
   "id": "42f147e4",
   "metadata": {},
   "source": [
    "#### 논리 자료형 -bool\n",
    "<br>\n",
    "\n",
    "• 참과 거짓을 나타내는 자료형\n",
    "\n",
    "• Bool 클래스에는 True와 False 두개의 인스턴스가 고정으로 만들어져 있다.\n",
    "\n",
    "• int 클래스를 상속받아 처리되므로 숫자로 계산도 가능하다\n"
   ]
  },
  {
   "cell_type": "code",
   "execution_count": 39,
   "id": "c706f1c4",
   "metadata": {},
   "outputs": [
    {
     "name": "stdout",
     "output_type": "stream",
     "text": [
      "True\n",
      "False\n",
      "True\n",
      "False\n",
      "True\n",
      "False\n",
      "False\n"
     ]
    }
   ],
   "source": [
    "print(bool(\" \"))\n",
    "print(bool(\"\"))\n",
    "print(bool([1,2,3,4]))\n",
    "print(bool([]))\n",
    "print(bool(1))\n",
    "print(bool(0))\n",
    "print(bool(None))"
   ]
  },
  {
   "cell_type": "markdown",
   "id": "59d4f1d0",
   "metadata": {},
   "source": [
    "#### 문자 자료형\n",
    "<br>\n",
    "\n",
    "• 파이썬 에서 문자열은 불변이다.\n",
    "\n",
    "• 문자열 결합 : +\n",
    "\n",
    "• 문자열 복제 : * \n",
    "\n",
    "• 문자열 변환 : str()"
   ]
  },
  {
   "cell_type": "code",
   "execution_count": 43,
   "id": "0c3b9c19",
   "metadata": {},
   "outputs": [
    {
     "name": "stdout",
     "output_type": "stream",
     "text": [
      "2336559896304 Hello World\n",
      "2336559896304 Hello World\n",
      "2336559898224 Hello World!\n"
     ]
    }
   ],
   "source": [
    "s1 = \"Hello World\"        # str 클래스로부터 객체 생성\n",
    "print(id(s1),s1)          # 메모리 주소값과 내용 확인\n",
    "result = s1 + \"!\"         # s1은 불변 객체라서 새 문자열이 생성됨\n",
    "print(id(s1),s1)          \n",
    "print(id(result),result)"
   ]
  },
  {
   "cell_type": "code",
   "execution_count": 44,
   "id": "255df16e",
   "metadata": {},
   "outputs": [
    {
     "data": {
      "text/plain": [
       "'pypypy'"
      ]
     },
     "execution_count": 44,
     "metadata": {},
     "output_type": "execute_result"
    }
   ],
   "source": [
    "'py' * 3"
   ]
  },
  {
   "cell_type": "code",
   "execution_count": 52,
   "id": "40c618ae",
   "metadata": {},
   "outputs": [
    {
     "data": {
      "text/plain": [
       "'10000.0'"
      ]
     },
     "execution_count": 52,
     "metadata": {},
     "output_type": "execute_result"
    }
   ],
   "source": [
    "str(98.6)   # 명시적 형변환을 위해서 str 클래스로부터 객체를 생성해주는 생성자 함수를 사용\n",
    "str(True)\n",
    "str(1.0e4)"
   ]
  },
  {
   "cell_type": "markdown",
   "id": "f562260c",
   "metadata": {},
   "source": [
    "상수는 메모리에 생성된 값이 변경될 수 없고 프로그램 종료할 때까지 그 값을 일정하게 가지는 식별자\n",
    "\n",
    "다른 언어는 const, final 등을 선언해서 상수로 정의<br>\n",
    "But 파이썬은 딱히 없다(이미 ascii_uppercase 등이 상수라서??)"
   ]
  },
  {
   "cell_type": "code",
   "execution_count": 56,
   "id": "1371885a",
   "metadata": {},
   "outputs": [
    {
     "name": "stdout",
     "output_type": "stream",
     "text": [
      "abcdefghijklmnopqrstuvwxyzABCDEFGHIJKLMNOPQRSTUVWXYZ\n",
      "abcdefghijklmnopqrstuvwxyz\n",
      "ABCDEFGHIJKLMNOPQRSTUVWXYZ\n",
      "0123456789\n"
     ]
    }
   ],
   "source": [
    "import string\n",
    "\n",
    "print(string.ascii_letters)\n",
    "print(string.ascii_lowercase)\n",
    "print(string.ascii_uppercase)\n",
    "print(string.digits)"
   ]
  },
  {
   "cell_type": "markdown",
   "id": "713cb9d6",
   "metadata": {},
   "source": [
    "#### 기본 자료형\n",
    "<br>\n",
    "\n",
    "• 숫자 자료형의 값은 인스턴스이다.\n",
    "> 클래스로부터 메모리에 생성된 객체 = 인스턴스<br>\n",
    "a = 3  (a는 int객체, int로부터 생성된 인스턴스, 참조변수(reference 변수))\n",
    "\n",
    "• 동일한 숫자는 원칙적으로 하나의 인스턴스이어야 하지만 파이썬 내부적으로\n",
    "특정 숫자까지만 동일한 인스턴스로 관리한다\n",
    "\n",
    "• 내장 숫자 자료형에는 인스턴스에 속성이나 메소드가 추가되지 않는다.\n",
    "\n",
    "• 정수의 인스턴스를 관리하는 네임스페이스( __ dict __ )가 없기 때문이다."
   ]
  },
  {
   "cell_type": "code",
   "execution_count": 76,
   "id": "12ad965b",
   "metadata": {},
   "outputs": [
    {
     "name": "stdout",
     "output_type": "stream",
     "text": [
      "True\n",
      "False\n",
      "True\n"
     ]
    }
   ],
   "source": [
    "vari = 10              # 0부터 한 255? 까지는 이미 다 생성되있는 주소가 있는데 그 이상은 안되어있음\n",
    "varb = 10\n",
    "print(vari is varb)\n",
    "\n",
    "vari = 1000\n",
    "varb = 1000\n",
    "print(vari is varb)    # is는 메모리 주소값을 비교\n",
    "print(vari == varb)"
   ]
  },
  {
   "cell_type": "markdown",
   "id": "a5037a15",
   "metadata": {},
   "source": [
    "#### 자료형 확인 메타 클래스 : type class\n",
    "<br>\n",
    "\n",
    "• 파이썬 언어는 클래스를 생성하는 별도의 클래스를 만들어서 관리한다.\n",
    "\n",
    "• 클래스를 만드는 클래스는 메타 클래스이고 type class를 내장으로 제공한다.\n",
    "\n",
    "• 일반적인 사용자 정의 클래스와 인스턴스가 누구에 의해 만들어졌는지를 확인하는 함수처럼 사용된다\n",
    "\n",
    "• 인스턴스를 인자로 전달하면 이 인스턴스를 만든 클래스의 정보를 보여주고 클래스명, 상속 관계, 네임스페이스를 인자로 전달하면 새로운 클래스를 만들어준다.\n",
    "\n",
    "<br>\n",
    "객체가 어떤 클래스로 만들어져있는지 확인하려면 type"
   ]
  },
  {
   "cell_type": "markdown",
   "id": "8670d540",
   "metadata": {},
   "source": [
    "#### 내장 자료형의 클래스 정보 확인\n",
    "<br>\n",
    "\n",
    "• 내장 자료형 int, float, complex는 생성자 없이 리터럴로 인스턴스가 int, float, complex 클래스에 의해 만들어진다.\n",
    "\n",
    "• type 메타 클래스 내에 인스턴스를 넣으면 확인 할 수 있다.\n",
    "\n",
    "• 아무것도 없는 자료형 : None data type"
   ]
  },
  {
   "cell_type": "code",
   "execution_count": 101,
   "id": "8b1863f5",
   "metadata": {},
   "outputs": [
    {
     "name": "stdout",
     "output_type": "stream",
     "text": [
      "None\n"
     ]
    }
   ],
   "source": [
    "def func():\n",
    "    pass\n",
    "a = func()\n",
    "print(a)       # 리턴값이 업는 파이썬의 모든 함수는 None을 리턴함"
   ]
  },
  {
   "cell_type": "code",
   "execution_count": 94,
   "id": "9bd7fdb8",
   "metadata": {},
   "outputs": [
    {
     "name": "stdout",
     "output_type": "stream",
     "text": [
      "<class 'float'>\n",
      "as_integer_ratio\n",
      "conjugate\n",
      "fromhex\n",
      "hex\n",
      "imag\n",
      "is_integer\n",
      "real\n"
     ]
    }
   ],
   "source": [
    "print(float)\n",
    "for i in dir(float):\n",
    "    if not i.startswith(\"_\"):     # 정수 int 클래스 내부의 스페셜 속성과 메소드를 제외하면\n",
    "        print(i)                  # 일반적인 속성과 메서드를 조회할 수 있다. print ( type (1.0 ) )"
   ]
  },
  {
   "cell_type": "code",
   "execution_count": 98,
   "id": "52417114",
   "metadata": {},
   "outputs": [
    {
     "name": "stdout",
     "output_type": "stream",
     "text": [
      "<class 'float'>\n",
      "1.0\n",
      "True\n",
      "False\n"
     ]
    }
   ],
   "source": [
    "print(type(1.0))\n",
    "print((1.0).real)\n",
    "print((1.0).is_integer())         # 정수로 변환 가능한지 확인\n",
    "print((1.5).is_integer())"
   ]
  },
  {
   "cell_type": "code",
   "execution_count": 100,
   "id": "e9025e01",
   "metadata": {},
   "outputs": [
    {
     "name": "stdout",
     "output_type": "stream",
     "text": [
      "None\n",
      "<class 'NoneType'>\n"
     ]
    }
   ],
   "source": [
    "print(None)\n",
    "print(type(None))"
   ]
  },
  {
   "cell_type": "markdown",
   "id": "2b734aa1",
   "metadata": {},
   "source": [
    "#### 내장 자료형 보관 모듈\n",
    "<br>\n",
    "\n",
    "• 파이썬은 모든 것을 모듈에서 가져다 사용하므로 내장 자료형이나 함수 등도 다 모듈에 정의해서 만들어져 있다.\n",
    "\n",
    "• 내장 자료형은 전부 __ builtins __ 모듈 내에 있으므로 이를 확인하고 자동으로 검색해서 처리한다."
   ]
  },
  {
   "cell_type": "code",
   "execution_count": 104,
   "id": "46c6f61a",
   "metadata": {},
   "outputs": [
    {
     "name": "stdout",
     "output_type": "stream",
     "text": [
      "int : <class 'int'>\n",
      "float : <class 'float'>\n",
      "complex : <class 'complex'>\n",
      "str : <class 'str'>\n",
      "list : <class 'list'>\n",
      "tuple : <class 'tuple'>\n",
      "dict : <class 'dict'>\n",
      "bytes : <class 'bytes'>\n",
      "bytearray : <class 'bytearray'>\n"
     ]
    }
   ],
   "source": [
    "datas = [\"int\", 'float', 'complex', 'str', 'list', 'tuple', 'dict', 'bytes', 'bytearray']\n",
    "for key in datas :\n",
    "    print(key, \":\", __builtins__.__dict__[key])"
   ]
  },
  {
   "cell_type": "code",
   "execution_count": 105,
   "id": "f87f78de",
   "metadata": {},
   "outputs": [
    {
     "name": "stdout",
     "output_type": "stream",
     "text": [
      "dir : <built-in function dir>\n",
      "help : Type help() for interactive help, or help(object) for help about object.\n",
      "print : <built-in function print>\n",
      "isinstance : <built-in function isinstance>\n"
     ]
    }
   ],
   "source": [
    "datas = [\"dir\", \"help\", \"print\", \"isinstance\"]\n",
    "for key in datas :\n",
    "    print(key, \":\", __builtins__.__dict__[key])\n"
   ]
  },
  {
   "cell_type": "markdown",
   "id": "359f3aeb",
   "metadata": {},
   "source": [
    "### 비트 연산자\n",
    "<br>\n",
    "\n",
    "& 비트 논리곱(and)\n",
    "\n",
    "| 비트 논리합(or)\n",
    "\n",
    "^ 비트 논리적 배타합(택) \n",
    "\n",
    "~ 비트 부정\n",
    "\n",
    "<< 비트 이동(왼쪽)\n",
    "\n",
    "'>> 비트 이동(오른쪽"
   ]
  },
  {
   "cell_type": "code",
   "execution_count": 114,
   "id": "e64e9248",
   "metadata": {},
   "outputs": [
    {
     "name": "stdout",
     "output_type": "stream",
     "text": [
      "3\n",
      "7\n",
      "4\n",
      "-4\n",
      "384\n",
      "0\n"
     ]
    }
   ],
   "source": [
    "print(3&7)\n",
    "print(3|7)\n",
    "print(3^7)\n",
    "print(~3)\n",
    "print(3<<7)    # == 3*2**7?\n",
    "print(3>>7)    # == 3/2**7? 비트를 오른쪽으로 이동시키고 왼쪽 비트는 sign비트로 채움"
   ]
  },
  {
   "cell_type": "markdown",
   "id": "cbb33177",
   "metadata": {},
   "source": [
    "## 자료형 변환\n",
    "<br>\n",
    "\n",
    "bool() 부울형 자료로 변환 (생성자)\n",
    "\n",
    "int() 정수형 자료로 변환 (생성자)\n",
    "\n",
    "float() 실수형 자료로 변환 (생성자)\n",
    "\n",
    "complex() 복소수 자료로 변환 (생성자)\n",
    "\n",
    "str() 문자열 자료로 변환 (생성자)"
   ]
  },
  {
   "cell_type": "code",
   "execution_count": 117,
   "id": "c237f52a",
   "metadata": {},
   "outputs": [
    {
     "name": "stdout",
     "output_type": "stream",
     "text": [
      "10\n",
      "10.0\n",
      "3.3333333333333335\n"
     ]
    }
   ],
   "source": [
    "a = 10\n",
    "print(a)\n",
    "\n",
    "a = float(10)\n",
    "print(a)\n",
    "\n",
    "a = 10\n",
    "b = 3\n",
    "print(a/b)"
   ]
  },
  {
   "cell_type": "code",
   "execution_count": 119,
   "id": "9c6068a9",
   "metadata": {},
   "outputs": [
    {
     "name": "stdout",
     "output_type": "stream",
     "text": [
      "20\n",
      "10\n",
      "10\n"
     ]
    }
   ],
   "source": [
    "a = int(10.7)\n",
    "b = int(10.3)\n",
    "\n",
    "print(a+b)\n",
    "print(a)\n",
    "print(b)"
   ]
  },
  {
   "cell_type": "code",
   "execution_count": null,
   "id": "6664c495",
   "metadata": {},
   "outputs": [],
   "source": []
  }
 ],
 "metadata": {
  "kernelspec": {
   "display_name": "Python 3 (ipykernel)",
   "language": "python",
   "name": "python3"
  },
  "language_info": {
   "codemirror_mode": {
    "name": "ipython",
    "version": 3
   },
   "file_extension": ".py",
   "mimetype": "text/x-python",
   "name": "python",
   "nbconvert_exporter": "python",
   "pygments_lexer": "ipython3",
   "version": "3.8.11"
  }
 },
 "nbformat": 4,
 "nbformat_minor": 5
}
