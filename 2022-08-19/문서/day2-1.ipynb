{
 "cells": [
  {
   "cell_type": "markdown",
   "id": "dc53abab",
   "metadata": {},
   "source": [
    "# 조건문"
   ]
  },
  {
   "cell_type": "code",
   "execution_count": 9,
   "id": "849b63a1",
   "metadata": {},
   "outputs": [
    {
     "name": "stdout",
     "output_type": "stream",
     "text": [
      "True3\n"
     ]
    }
   ],
   "source": [
    "if 1:               # 1을 True로\n",
    "    print(\"True3\")"
   ]
  },
  {
   "cell_type": "code",
   "execution_count": 19,
   "id": "3b7b203a",
   "metadata": {},
   "outputs": [
    {
     "name": "stdout",
     "output_type": "stream",
     "text": [
      "1~100사이의 정수를 입력하세요35\n",
      "35 는 홀수\n"
     ]
    }
   ],
   "source": [
    "c = int(input(\"1~100사이의 정수를 입력하세요\"))\n",
    "if c % 2 == 1 :\n",
    "    print(c, \"는 홀수\")\n",
    "else:\n",
    "    print(c, \"는 짝수\")"
   ]
  },
  {
   "cell_type": "code",
   "execution_count": 21,
   "id": "48053379",
   "metadata": {},
   "outputs": [
    {
     "name": "stdout",
     "output_type": "stream",
     "text": [
      "1~100사이의 정수 입력 : 3\n",
      "3 는 홀수\n"
     ]
    }
   ],
   "source": [
    "import sys\n",
    "\n",
    "num = int(input(\"1~100사이의 정수 입력 : \"))\n",
    "if num <= 0 or num >100 :\n",
    "    print(\"1~100사이의 정수가 아닙니다. \\n 프로그램 종료합니다.\")\n",
    "    sys.exit()    # 1~100사이의 정수가 아니면 프로그램 종료\n",
    "if num % 2 == 1 :\n",
    "    print(num, \"는 홀수\")\n",
    "else:\n",
    "    print(num, \"는 짝수\")"
   ]
  },
  {
   "cell_type": "markdown",
   "id": "5551fac7",
   "metadata": {},
   "source": [
    "## 다중 IF문 - 여러 조건중 하나만 처리하고 싶을 때"
   ]
  },
  {
   "cell_type": "code",
   "execution_count": 41,
   "id": "65498d5c",
   "metadata": {},
   "outputs": [
    {
     "name": "stdout",
     "output_type": "stream",
     "text": [
      "첫번째 정수를 입력해주세요.0\n",
      "두번째 정수를 입력해주세요.0\n",
      "연산자를 입력해주세요.0\n",
      "다시 쓰세요.\n"
     ]
    },
    {
     "ename": "SystemExit",
     "evalue": "",
     "output_type": "error",
     "traceback": [
      "An exception has occurred, use %tb to see the full traceback.\n",
      "\u001b[1;31mSystemExit\u001b[0m\n"
     ]
    }
   ],
   "source": [
    "import sys\n",
    "\n",
    "a = int(input(\"첫번째 정수를 입력해주세요.\"))\n",
    "b = int(input(\"두번째 정수를 입력해주세요.\"))\n",
    "c = input(\"연산자를 입력해주세요.\")\n",
    "\n",
    "if c == '*':\n",
    "    print(a,c,b,\"=\",(a*b))\n",
    "elif c == '/':\n",
    "    print(a,c,b,\"=\",(a/b))\n",
    "elif c == '+':\n",
    "    print(a,c,b,\"=\",(a+b))\n",
    "elif c == '-':\n",
    "    print(a,c,b,\"=\",(a-b))\n",
    "else:\n",
    "    print(\"다시 쓰세요.\")\n",
    "    sys.exit()"
   ]
  },
  {
   "cell_type": "code",
   "execution_count": 59,
   "id": "5ea9a65f",
   "metadata": {},
   "outputs": [
    {
     "name": "stdout",
     "output_type": "stream",
     "text": [
      "점수를 입력하세요.-1\n",
      "다시 입력하세요.\n"
     ]
    }
   ],
   "source": [
    "x = int(input(\"점수를 입력하세요.\"))\n",
    "\n",
    "if x < 0 or x >100:\n",
    "    print(\"다시 입력하세요.\")    \n",
    "elif x >= 90:\n",
    "    print(\"A\")\n",
    "elif x >= 80:\n",
    "    print(\"B\")\n",
    "elif x >= 70:\n",
    "    print(\"C\")\n",
    "elif x >= 60:\n",
    "    print(\"D\")\n",
    "else:\n",
    "    print(\"F\")"
   ]
  },
  {
   "cell_type": "markdown",
   "id": "d04c9177",
   "metadata": {},
   "source": [
    "# if 안에 if문"
   ]
  },
  {
   "cell_type": "code",
   "execution_count": 77,
   "id": "1761edae",
   "metadata": {},
   "outputs": [
    {
     "name": "stdout",
     "output_type": "stream",
     "text": [
      "연도를 입력하세요.2000\n",
      "윤년입니다.\n"
     ]
    }
   ],
   "source": [
    "x = int(input(\"연도를 입력하세요.\"))\n",
    "\n",
    "if x % 4 == 0:\n",
    "    if x % 400 == 0:\n",
    "        print(\"윤년입니다.\")  \n",
    "    elif x % 100 == 0:\n",
    "        print(\"평년입니다.\")\n",
    "    else:\n",
    "        print(\"윤년입니다.\")\n",
    "else:\n",
    "    print(\"평년입니다.\")\n",
    "    "
   ]
  },
  {
   "cell_type": "code",
   "execution_count": 84,
   "id": "15082e12",
   "metadata": {},
   "outputs": [
    {
     "name": "stdout",
     "output_type": "stream",
     "text": [
      "첫번째 과목60\n",
      "두번째 과목60\n",
      "세번째 과목60\n",
      "총점 180 점\n",
      "평균 60.0 점 합격\n"
     ]
    }
   ],
   "source": [
    "a = int(input(\"첫번째 과목\"))\n",
    "b = int(input(\"두번째 과목\"))\n",
    "c = int(input(\"세번째 과목\"))\n",
    "\n",
    "print(\"총점\",a+b+c,\"점\")\n",
    "\n",
    "if (a + b + c) / 3 >= 60:\n",
    "    print(\"평균\",(a + b + c) / 3,\"점\",\"합격\")\n",
    "else:\n",
    "    print(\"평균\",(a + b + c) / 3,\"점\",\"불합격\")\n"
   ]
  },
  {
   "cell_type": "markdown",
   "id": "d3c0f1c4",
   "metadata": {},
   "source": [
    "# 반복문\n",
    "\n",
    "for 반복문 : 반복 수행횟수를 알고 있을 때\n",
    "\n",
    "while 반복문 : 반복 수행조건을 알고 있을 때\n",
    "\n",
    "do ~ while 반복문 : 반복 수행조건을 알고 있을 때(python 지원 x)\n",
    "\n",
    "무한루프문은 탈출조건을 써야함"
   ]
  },
  {
   "cell_type": "markdown",
   "id": "774da3f9",
   "metadata": {},
   "source": [
    "range(start, end, step) 객체는 iterator 계열(순환하면서 하나씩 처리)\n",
    "\n",
    "for 변수 in range():\n",
    "    반복 수행 코드"
   ]
  },
  {
   "cell_type": "code",
   "execution_count": 87,
   "id": "c3ed6e38",
   "metadata": {},
   "outputs": [
    {
     "name": "stdout",
     "output_type": "stream",
     "text": [
      "1\n",
      "2\n",
      "3\n",
      "4\n",
      "5\n",
      "6\n",
      "7\n",
      "8\n",
      "9\n",
      "10\n"
     ]
    }
   ],
   "source": [
    "for idx in range(1,11):\n",
    "    print(idx)"
   ]
  },
  {
   "cell_type": "code",
   "execution_count": 98,
   "id": "f08cbc2e",
   "metadata": {},
   "outputs": [
    {
     "name": "stdout",
     "output_type": "stream",
     "text": [
      "1\n",
      "3\n",
      "5\n",
      "7\n",
      "9\n"
     ]
    }
   ],
   "source": [
    "for idx in range(0,10):\n",
    "    if idx % 2 == 1:\n",
    "        print(idx)"
   ]
  },
  {
   "cell_type": "code",
   "execution_count": 108,
   "id": "ee090541",
   "metadata": {},
   "outputs": [
    {
     "name": "stdout",
     "output_type": "stream",
     "text": [
      "55\n"
     ]
    }
   ],
   "source": [
    "sum = 0\n",
    "for idx in range(1,11):\n",
    "    sum +=idx\n",
    "print(sum)"
   ]
  },
  {
   "cell_type": "code",
   "execution_count": 107,
   "id": "cfe6bd2e",
   "metadata": {},
   "outputs": [
    {
     "name": "stdout",
     "output_type": "stream",
     "text": [
      "정수를 입력하세요25\n"
     ]
    },
    {
     "data": {
      "text/plain": [
       "31"
      ]
     },
     "execution_count": 107,
     "metadata": {},
     "output_type": "execute_result"
    }
   ],
   "source": [
    "a = int(input(\"정수를 입력하세요\"))\n",
    "sum = 0\n",
    "for i in range(1,a+1):\n",
    "    if a % i == 0:\n",
    "        sum += i\n",
    "sum"
   ]
  },
  {
   "cell_type": "markdown",
   "id": "53cbe044",
   "metadata": {},
   "source": [
    "https://programmers.co.kr/learn/challenges\n",
    "\n",
    "https://www.acmicpc.net/\n",
    "\n",
    "https://devth.goorm.io/\n",
    "\n",
    "https://swexpertacademy.com/main/main.do\n",
    "\n",
    "http://www.jungol.co.kr/"
   ]
  },
  {
   "cell_type": "markdown",
   "id": "79fd99d7",
   "metadata": {},
   "source": [
    "while 조건 :\n",
    "\n",
    "       반복 수행 코드\n",
    "    \n",
    "카운트 변수 초기화\n",
    "\n",
    "while 조건 :\n",
    "\n",
    "       반복 수행 코드\n",
    "    \n",
    "       카운트 변수 증감 연산처리"
   ]
  },
  {
   "cell_type": "code",
   "execution_count": 121,
   "id": "db502212",
   "metadata": {},
   "outputs": [
    {
     "name": "stdout",
     "output_type": "stream",
     "text": [
      "1\n",
      "2\n",
      "3\n",
      "4\n",
      "5\n",
      "6\n",
      "7\n",
      "8\n",
      "9\n",
      "10\n"
     ]
    }
   ],
   "source": [
    "i = 0\n",
    "while i < 10:\n",
    "    i += 1 \n",
    "    print(i)"
   ]
  },
  {
   "cell_type": "code",
   "execution_count": 132,
   "id": "a7cdec85",
   "metadata": {},
   "outputs": [
    {
     "name": "stdout",
     "output_type": "stream",
     "text": [
      "1\n",
      "3\n",
      "5\n",
      "7\n",
      "9\n"
     ]
    }
   ],
   "source": [
    "i = 0\n",
    "while i < 10:\n",
    "    i += 1\n",
    "    if i % 2 ==1:\n",
    "        print(i)"
   ]
  },
  {
   "cell_type": "code",
   "execution_count": 134,
   "id": "e30633f5",
   "metadata": {},
   "outputs": [
    {
     "name": "stdout",
     "output_type": "stream",
     "text": [
      "55\n"
     ]
    }
   ],
   "source": [
    "i = 0\n",
    "total = 0\n",
    "while i < 10:\n",
    "    i += 1\n",
    "    total += i\n",
    "print(total)"
   ]
  },
  {
   "cell_type": "markdown",
   "id": "56edbc1e",
   "metadata": {},
   "source": [
    "## Break"
   ]
  },
  {
   "cell_type": "code",
   "execution_count": 136,
   "id": "1ed7db44",
   "metadata": {},
   "outputs": [
    {
     "name": "stdout",
     "output_type": "stream",
     "text": [
      "0\n",
      "1\n",
      "2\n",
      "3\n",
      "4\n"
     ]
    }
   ],
   "source": [
    "for i in range(10):\n",
    "    if i == 5:\n",
    "        break\n",
    "    print(i)"
   ]
  },
  {
   "cell_type": "markdown",
   "id": "c83499d1",
   "metadata": {},
   "source": [
    "# Continue"
   ]
  },
  {
   "cell_type": "code",
   "execution_count": 137,
   "id": "5b54304b",
   "metadata": {},
   "outputs": [
    {
     "name": "stdout",
     "output_type": "stream",
     "text": [
      "0\n",
      "1\n",
      "2\n",
      "3\n",
      "4\n",
      "6\n",
      "7\n",
      "8\n",
      "9\n"
     ]
    }
   ],
   "source": [
    "for i in range(10):\n",
    "    if i == 5:\n",
    "        continue\n",
    "    print(i)"
   ]
  },
  {
   "cell_type": "markdown",
   "id": "26bc6ce3",
   "metadata": {},
   "source": [
    "### 실습"
   ]
  },
  {
   "cell_type": "code",
   "execution_count": 139,
   "id": "0f7fb758",
   "metadata": {},
   "outputs": [
    {
     "name": "stdout",
     "output_type": "stream",
     "text": [
      "0\n",
      "1\n",
      "2\n",
      "3\n",
      "4\n",
      "5\n",
      "6\n",
      "7\n",
      "8\n",
      "9\n",
      "End\n"
     ]
    }
   ],
   "source": [
    "for i in range(10):\n",
    "    print(i)\n",
    "else:\n",
    "    print(\"End\")"
   ]
  },
  {
   "cell_type": "code",
   "execution_count": 22,
   "id": "75f23275",
   "metadata": {},
   "outputs": [
    {
     "name": "stdout",
     "output_type": "stream",
     "text": [
      "숫자를 고르세요50\n",
      "UP\n",
      "숫자를 고르세요40\n",
      "UP\n",
      "숫자를 고르세요90\n",
      "DOWN\n",
      "숫자를 고르세요80\n",
      "DOWN\n",
      "숫자를 고르세요40\n",
      "UP\n",
      "정답은  64 LOSE\n"
     ]
    }
   ],
   "source": [
    "ran = random.randrange(1,101)\n",
    "\n",
    "for i in range(5):\n",
    "    a = int(input(\"숫자를 고르세요\"))\n",
    "    if a == ran:\n",
    "        print(\"정답, WIN\")\n",
    "        break\n",
    "    elif a < ran:\n",
    "        print(\"UP\")\n",
    "    elif a > ran:\n",
    "        print(\"DOWN\")\n",
    "            \n",
    "    if i == 4:\n",
    "        if a == ran:\n",
    "            print(\"정답, Win\")\n",
    "        else:\n",
    "            print('정답은', ran, 'LOSE')"
   ]
  },
  {
   "cell_type": "code",
   "execution_count": 21,
   "id": "e88f8653",
   "metadata": {},
   "outputs": [
    {
     "name": "stdout",
     "output_type": "stream",
     "text": [
      "1~100 사이의 숫자를 입력하세요 : 20\n",
      "1 회 참여\n",
      "\n",
      "더 높은 값을 입력하세요 : 50\n",
      "2 회 참여\n",
      "\n",
      "더 높은 값을 입력하세요 : 90\n",
      "3 회 참여\n",
      "\n",
      "더 낮은 값을 입력하세요 : 50\n",
      "4 회 참여\n",
      "\n",
      "더 높은 값을 입력하세요 : 74\n",
      "\n",
      "---정답은 76 I win !---\n"
     ]
    }
   ],
   "source": [
    "rnd = random.randrange(1,101)\n",
    "user = int(input(\"1~100 사이의 숫자를 입력하세요 : \"))\n",
    "for cnt in range(1,5) :\n",
    "    print(cnt,\"회 참여\")\n",
    "    if user == rnd :\n",
    "        print(\"\\n---정답입니다. You win !---\")\n",
    "        break\n",
    "    elif user < rnd :\n",
    "        user = int(input(\"\\n더 높은 값을 입력하세요 : \"))\n",
    "\n",
    "    elif user > rnd :\n",
    "        user = int(input(\"\\n더 낮은 값을 입력하세요 : \"))\n",
    "        \n",
    "print(\"\\n---정답은\",rnd,\"I win !---\")\n"
   ]
  },
  {
   "cell_type": "code",
   "execution_count": null,
   "id": "8f427b22",
   "metadata": {},
   "outputs": [],
   "source": []
  }
 ],
 "metadata": {
  "kernelspec": {
   "display_name": "Python 3 (ipykernel)",
   "language": "python",
   "name": "python3"
  },
  "language_info": {
   "codemirror_mode": {
    "name": "ipython",
    "version": 3
   },
   "file_extension": ".py",
   "mimetype": "text/x-python",
   "name": "python",
   "nbconvert_exporter": "python",
   "pygments_lexer": "ipython3",
   "version": "3.8.11"
  }
 },
 "nbformat": 4,
 "nbformat_minor": 5
}
