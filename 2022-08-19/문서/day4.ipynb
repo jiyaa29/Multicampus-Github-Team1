{
 "cells": [
  {
   "cell_type": "markdown",
   "id": "e19f5a4a",
   "metadata": {},
   "source": [
    "# 복습\n",
    "<br>\n",
    "함수 : 독립적 기능 수행\n",
    "\n",
    "메서드 : 객체에 종속적이며 객체의 속성에 대한 처리 기능 수행, 객체.메서드()\n",
    "\n",
    "\n",
    "```python\n",
    "str : 문자열 클래스, 시퀀스 데이터 유형\n",
    "\n",
    "s1 = \"문자열\"   # s1은 객체, reference변수, 인스턴스\n",
    "\n",
    "s2 = \"문자열\"\n",
    "\n",
    "dir(s1)        # 생성된 객체의 속성, 메서드 목록을 리스트로 반환\n",
    "```\n",
    "시퀀스데이터 유형은 ..\n",
    "1. **인덱스**(첨자, 0부터 시작)를 사용해서 저장된 문자 하나하나 추출 및 처리 가능, 음수로 지정 가능\n",
    "2. 인덱스를 활용하여 **Slicing**, 문자 데이터들을 부분 추출\n",
    "> indexing - 객체[index] <br> slicing - [start:end:step]\n"
   ]
  },
  {
   "cell_type": "code",
   "execution_count": 5,
   "id": "c254eb34",
   "metadata": {},
   "outputs": [
    {
     "name": "stdout",
     "output_type": "stream",
     "text": [
      "I am dumb\n",
      "I am dumb\n",
      "bmud ma I\n"
     ]
    }
   ],
   "source": [
    "a = \"I am dumb\"\n",
    "\n",
    "print(a[:])\n",
    "print(a[-100:100])\n",
    "print(a[::-1])"
   ]
  },
  {
   "cell_type": "markdown",
   "id": "fcf22562",
   "metadata": {},
   "source": [
    "문자열.메서드()\n",
    "\n",
    "```python\n",
    "a.strip()  # 공백 컷\n",
    "a.split()  # word tokenizin, 리스트로 리턴됨\n",
    "s.join()\n",
    "```\n",
    "\n"
   ]
  },
  {
   "cell_type": "markdown",
   "id": "a7cf120b",
   "metadata": {},
   "source": [
    "포맷형식 문자열을 생성하기 위해 포맷 스타일 사용, 파이썬에서는 C, Python 둘 다 지원\n",
    "> C 스타일 : %s, %d, %o, %x, %f, %.2f, %6d.. <br> python3 스타일 : { }, {:b}, {:b}..."
   ]
  },
  {
   "cell_type": "markdown",
   "id": "10f69436",
   "metadata": {},
   "source": [
    "-----\n"
   ]
  },
  {
   "cell_type": "markdown",
   "id": "9ee55874",
   "metadata": {},
   "source": [
    "# Day 4"
   ]
  },
  {
   "cell_type": "code",
   "execution_count": 9,
   "id": "2e6ef4ff",
   "metadata": {},
   "outputs": [
    {
     "name": "stdout",
     "output_type": "stream",
     "text": [
      "<class 'str'> '가을', '동화'\n",
      "('가을', '동화')\n"
     ]
    }
   ],
   "source": [
    "a = \"%r, %r\" % (\"가을\", \"동화\")\n",
    "print(type(a),a)    # \"가을, 동화\" 가 아닌 이유?\n",
    "print(eval(a))      # 문자열을 파이썬 코드로 생성?"
   ]
  },
  {
   "cell_type": "code",
   "execution_count": 11,
   "id": "e64f14c3",
   "metadata": {},
   "outputs": [
    {
     "name": "stdout",
     "output_type": "stream",
     "text": [
      "<class 'str'> 100,99.99\n",
      "(100, 99.99)\n"
     ]
    }
   ],
   "source": [
    "a = \"{!s},{!s}\".format(str(100),str(99.99))\n",
    "print(type(a),a)\n",
    "print(eval(a))      # 얘랑 위 애들은 별로 안중요"
   ]
  },
  {
   "cell_type": "code",
   "execution_count": 48,
   "id": "ec81032e",
   "metadata": {},
   "outputs": [
    {
     "name": "stdout",
     "output_type": "stream",
     "text": [
      "<class '_io.TextIOWrapper'> <_io.TextIOWrapper name='yesterday.txt' mode='r' encoding='cp949'>\n"
     ]
    }
   ],
   "source": [
    "# 단어 카운팅\n",
    "\n",
    "f = open(\"yesterday.txt\",'r')        # open() : 물리적인 파일을 객체로 띄워 줌\n",
    "yesterday_lyric = f.readline()\n",
    "\n",
    "\n",
    "print(type(f),f)"
   ]
  },
  {
   "cell_type": "code",
   "execution_count": 49,
   "id": "65cc5d24",
   "metadata": {},
   "outputs": [
    {
     "name": "stdout",
     "output_type": "stream",
     "text": [
      "['_CHUNK_SIZE', '__class__', '__del__', '__delattr__', '__dict__', '__dir__', '__doc__', '__enter__', '__eq__', '__exit__', '__format__', '__ge__', '__getattribute__', '__gt__', '__hash__', '__init__', '__init_subclass__', '__iter__', '__le__', '__lt__', '__ne__', '__new__', '__next__', '__reduce__', '__reduce_ex__', '__repr__', '__setattr__', '__sizeof__', '__str__', '__subclasshook__', '_checkClosed', '_checkReadable', '_checkSeekable', '_checkWritable', '_finalizing', 'buffer', 'close', 'closed', 'detach', 'encoding', 'errors', 'fileno', 'flush', 'isatty', 'line_buffering', 'mode', 'name', 'newlines', 'read', 'readable', 'readline', 'readlines', 'reconfigure', 'seek', 'seekable', 'tell', 'truncate', 'writable', 'write', 'write_through', 'writelines']\n"
     ]
    }
   ],
   "source": [
    "print(dir(f))"
   ]
  },
  {
   "cell_type": "code",
   "execution_count": 50,
   "id": "1e8d1924",
   "metadata": {},
   "outputs": [
    {
     "name": "stdout",
     "output_type": "stream",
     "text": [
      "seemed so far away.\n",
      "Now it looks\n",
      "as though they're here to stay.\n",
      "Oh, I believe in yesterday.\n",
      "\n",
      "Suddenly I'm not half\n",
      "the man I used to be.\n",
      "There's a shadow hanging over me.\n",
      "Oh, yesterday came suddenly.\n",
      "\n",
      "Why she had to go,\n",
      "I don't know,\n",
      "she wouldn't say.\n",
      "I said something wrong,\n",
      "now I long for yesterday.\n",
      "\n",
      "Yesterday love was\n",
      "such an easy game to play.\n",
      "Now I need a place to hide away.\n",
      "Oh, I believe in yesterday.\n",
      "\n",
      "Why she had to go,\n",
      "I don't know,\n",
      "she wouldn't say.\n",
      "I said something wrong,\n",
      "now I long for yesterday.\n",
      "\n",
      "Yesterday love was\n",
      "such an easy game to play.\n",
      "Now I need a place to hide away.\n",
      "Oh, I believe in yesterday.\n",
      "\n",
      "Mm mm mm mm mm mm mm\n",
      "\n"
     ]
    }
   ],
   "source": [
    "print(f.read())   # 문자열 반환"
   ]
  },
  {
   "cell_type": "code",
   "execution_count": 51,
   "id": "cbc107ec",
   "metadata": {},
   "outputs": [
    {
     "name": "stdout",
     "output_type": "stream",
     "text": [
      "Yesterday all my troubles\n",
      "\n"
     ]
    }
   ],
   "source": [
    "f.close()\n",
    "f = open(\"yesterday.txt\",'r')\n",
    "print(f.readline())   # 캐리지 리턴 만나기 전까지 한 줄만 읽어서 문자열 반환\n",
    "\n",
    "# 근데 이미 read()로 다 읽어버려서 더 읽을 게 없다"
   ]
  },
  {
   "cell_type": "code",
   "execution_count": 52,
   "id": "f009377c",
   "metadata": {},
   "outputs": [
    {
     "name": "stdout",
     "output_type": "stream",
     "text": [
      "['Yesterday all my troubles\\n', 'seemed so far away.\\n', 'Now it looks\\n', \"as though they're here to stay.\\n\", 'Oh, I believe in yesterday.\\n', '\\n', \"Suddenly I'm not half\\n\", 'the man I used to be.\\n', \"There's a shadow hanging over me.\\n\", 'Oh, yesterday came suddenly.\\n', '\\n', 'Why she had to go,\\n', \"I don't know,\\n\", \"she wouldn't say.\\n\", 'I said something wrong,\\n', 'now I long for yesterday.\\n', '\\n', 'Yesterday love was\\n', 'such an easy game to play.\\n', 'Now I need a place to hide away.\\n', 'Oh, I believe in yesterday.\\n', '\\n', 'Why she had to go,\\n', \"I don't know,\\n\", \"she wouldn't say.\\n\", 'I said something wrong,\\n', 'now I long for yesterday.\\n', '\\n', 'Yesterday love was\\n', 'such an easy game to play.\\n', 'Now I need a place to hide away.\\n', 'Oh, I believe in yesterday.\\n', '\\n', 'Mm mm mm mm mm mm mm\\n']\n"
     ]
    }
   ],
   "source": [
    "f.seek(0)              # 파일 내부의 포인터로 위치 찾기?\n",
    "print(f.readlines())   # 라인단위로 리스트로 변환 해줌"
   ]
  },
  {
   "cell_type": "code",
   "execution_count": 53,
   "id": "320796f4",
   "metadata": {},
   "outputs": [
    {
     "name": "stdout",
     "output_type": "stream",
     "text": [
      "Yesterday all my troubles\n",
      "seemed so far away.\n",
      "Now it looks\n",
      "as though they're here to stay.\n",
      "Oh, I believe in yesterday.\n",
      "\n",
      "Suddenly I'm not half\n",
      "the man I used to be.\n",
      "There's a shadow hanging over me.\n",
      "Oh, yesterday came suddenly.\n",
      "\n",
      "Why she had to go,\n",
      "I don't know,\n",
      "she wouldn't say.\n",
      "I said something wrong,\n",
      "now I long for yesterday.\n",
      "\n",
      "Yesterday love was\n",
      "such an easy game to play.\n",
      "Now I need a place to hide away.\n",
      "Oh, I believe in yesterday.\n",
      "\n",
      "Why she had to go,\n",
      "I don't know,\n",
      "she wouldn't say.\n",
      "I said something wrong,\n",
      "now I long for yesterday.\n",
      "\n",
      "Yesterday love was\n",
      "such an easy game to play.\n",
      "Now I need a place to hide away.\n",
      "Oh, I believe in yesterday.\n",
      "\n",
      "Mm mm mm mm mm mm mm\n",
      "\n"
     ]
    }
   ],
   "source": [
    "f.seek(0)\n",
    "content = f.read()\n",
    "print(content)"
   ]
  },
  {
   "cell_type": "code",
   "execution_count": 55,
   "id": "3f6ccb6e",
   "metadata": {},
   "outputs": [],
   "source": [
    "f.close()"
   ]
  },
  {
   "cell_type": "code",
   "execution_count": 66,
   "id": "a7b91c09",
   "metadata": {},
   "outputs": [
    {
     "name": "stdout",
     "output_type": "stream",
     "text": [
      "Number of word 'Yesterday' : 9 \n"
     ]
    }
   ],
   "source": [
    "f = open(\"yesterday.txt\",'r')\n",
    "\n",
    "print(\"Number of word 'Yesterday' : %d \" % (content.lower().count('yesterday')))\n",
    "f.close()"
   ]
  },
  {
   "cell_type": "markdown",
   "id": "e5586f1e",
   "metadata": {},
   "source": [
    "# 리스트\n",
    "<br>\n",
    "\n",
    "리스트(list): 하나의 변수에 여러 값을 할당하는 자료형이다. \n",
    "\n",
    "• 파이썬에서는 리스트처럼 여러 데이터를 하나의 변수에 할당하는 기법을 시퀀스 자료형이라고 한다. \n",
    "> 시퀀스 자료형은 여러 자료를 순서대로 넣는다는 뜻이다.\n",
    "\n",
    "• 리스트는 하나의 자료형으로만 저장하지 않고, 정수형이나 실수형 같은 다양한 자료형을 포함할 수 있다.\n",
    "<br>\n",
    "<br>\n",
    "\n",
    "#### 집합 자료형 분류...\n",
    "\n",
    "1. 순서 보장 자료형 : 저장한 순서대로 데이터를 꺼낼 수 있고, index를 사용해서 추가, 삭제, 변경가능, 중복 데이터 저장 가능\n",
    "> list\n",
    "\n",
    "2. 중복 데이터를 저장하지 않는 자료형 : 순서 보장하지 않음 (저장한 순서대로 데이터를 꺼낼 수 없음)\n",
    "> set\n",
    "\n",
    "3. 데이터를 저장할 때 검색 효율을 위해 키와 함께 저장하는 자료형 : 키는 중복과 null을 허용하지 않고, 값은 null을 허용하고 중복을 허용, 저장 순서는 중요하지 않는 경우\n",
    "> dict"
   ]
  },
  {
   "cell_type": "code",
   "execution_count": 175,
   "id": "8624b2a3",
   "metadata": {},
   "outputs": [
    {
     "data": {
      "text/plain": [
       "['red', 'blue', 'green']"
      ]
     },
     "execution_count": 175,
     "metadata": {},
     "output_type": "execute_result"
    }
   ],
   "source": [
    "colors = ['red','blue','green']\n",
    "colors"
   ]
  },
  {
   "cell_type": "code",
   "execution_count": 176,
   "id": "023ccb6b",
   "metadata": {},
   "outputs": [
    {
     "name": "stdout",
     "output_type": "stream",
     "text": [
      "red\n",
      "green\n",
      "3\n"
     ]
    }
   ],
   "source": [
    "print(colors[0])\n",
    "print(colors[2])\n",
    "print(len(colors))"
   ]
  },
  {
   "cell_type": "code",
   "execution_count": 177,
   "id": "a2ded057",
   "metadata": {},
   "outputs": [
    {
     "data": {
      "text/plain": [
       "['서울', '부산', '인천', '대구', '대전', '광주']"
      ]
     },
     "execution_count": 177,
     "metadata": {},
     "output_type": "execute_result"
    }
   ],
   "source": [
    "cities = ['서울','부산','인천','대구','대전','광주','울산','수원']\n",
    "cities[0:6]"
   ]
  },
  {
   "cell_type": "code",
   "execution_count": 178,
   "id": "0075168b",
   "metadata": {},
   "outputs": [
    {
     "name": "stdout",
     "output_type": "stream",
     "text": [
      "['서울', '부산', '인천', '대구', '대전']\n",
      "['광주', '울산', '수원']\n"
     ]
    }
   ],
   "source": [
    "print(cities[0:5])\n",
    "print(cities[5:])"
   ]
  },
  {
   "cell_type": "code",
   "execution_count": 179,
   "id": "8a0b43a3",
   "metadata": {},
   "outputs": [
    {
     "name": "stdout",
     "output_type": "stream",
     "text": [
      "['서울', '부산', '인천', '대구', '대전', '광주', '울산', '수원']\n"
     ]
    }
   ],
   "source": [
    "print(cities[-8:])    # 리버스 인덱스"
   ]
  },
  {
   "cell_type": "code",
   "execution_count": 180,
   "id": "ee19513f",
   "metadata": {},
   "outputs": [
    {
     "name": "stdout",
     "output_type": "stream",
     "text": [
      "['서울', '부산', '인천', '대구', '대전', '광주', '울산', '수원']\n",
      "['서울', '부산', '인천', '대구', '대전', '광주', '울산', '수원']\n"
     ]
    }
   ],
   "source": [
    "print(cities[:])\n",
    "print(cities[-5000000:5000000])"
   ]
  },
  {
   "cell_type": "code",
   "execution_count": 181,
   "id": "7d33594d",
   "metadata": {},
   "outputs": [
    {
     "name": "stdout",
     "output_type": "stream",
     "text": [
      "['서울', '인천', '대전', '울산']\n",
      "['수원', '울산', '광주', '대전', '대구', '인천', '부산', '서울']\n"
     ]
    }
   ],
   "source": [
    "print(cities[::2])\n",
    "print(cities[::-1])"
   ]
  },
  {
   "cell_type": "code",
   "execution_count": 182,
   "id": "cc3a5b87",
   "metadata": {},
   "outputs": [
    {
     "name": "stdout",
     "output_type": "stream",
     "text": [
      "['red', 'blue', 'green', 'orange', 'black', 'white']\n",
      "3\n",
      "6 ['red', 'blue', 'green', 'orange', 'black', 'white']\n"
     ]
    }
   ],
   "source": [
    "color1 = ['red','blue','green']\n",
    "color2 = ['orange','black','white']\n",
    "\n",
    "print(color1 + color2)\n",
    "print(len(color1))               \n",
    "\n",
    "total_color = color1 + color2 \n",
    "print(len(total_color),total_color)     # 단순히 새로 확장된 리스트를 생성한거지 기존 리스트를 확장하는게 아님"
   ]
  },
  {
   "cell_type": "code",
   "execution_count": 183,
   "id": "7feeb81a",
   "metadata": {},
   "outputs": [
    {
     "name": "stdout",
     "output_type": "stream",
     "text": [
      "['red', 'blue', 'green', 'red', 'blue', 'green']\n",
      "['red', 'blue', 'green']\n"
     ]
    }
   ],
   "source": [
    "copy_color = color1 * 2\n",
    "print(copy_color)\n",
    "print(color1)"
   ]
  },
  {
   "cell_type": "code",
   "execution_count": 184,
   "id": "3a3429b0",
   "metadata": {},
   "outputs": [
    {
     "data": {
      "text/plain": [
       "False"
      ]
     },
     "execution_count": 184,
     "metadata": {},
     "output_type": "execute_result"
    }
   ],
   "source": [
    "'blue' in color2"
   ]
  },
  {
   "cell_type": "code",
   "execution_count": 185,
   "id": "b3b48795",
   "metadata": {},
   "outputs": [
    {
     "name": "stdout",
     "output_type": "stream",
     "text": [
      "['__add__', '__class__', '__contains__', '__delattr__', '__delitem__', '__dir__', '__doc__', '__eq__', '__format__', '__ge__', '__getattribute__', '__getitem__', '__gt__', '__hash__', '__iadd__', '__imul__', '__init__', '__init_subclass__', '__iter__', '__le__', '__len__', '__lt__', '__mul__', '__ne__', '__new__', '__reduce__', '__reduce_ex__', '__repr__', '__reversed__', '__rmul__', '__setattr__', '__setitem__', '__sizeof__', '__str__', '__subclasshook__', 'append', 'clear', 'copy', 'count', 'extend', 'index', 'insert', 'pop', 'remove', 'reverse', 'sort']\n"
     ]
    }
   ],
   "source": [
    "print(dir(color2))"
   ]
  },
  {
   "cell_type": "code",
   "execution_count": 186,
   "id": "0364f3f4",
   "metadata": {},
   "outputs": [
    {
     "data": {
      "text/plain": [
       "['red', 'blue', 'green', 'white']"
      ]
     },
     "execution_count": 186,
     "metadata": {},
     "output_type": "execute_result"
    }
   ],
   "source": [
    "color = ['red','blue','green']\n",
    "color.append('white')            # 새로운 값 추가\n",
    "color"
   ]
  },
  {
   "cell_type": "code",
   "execution_count": 187,
   "id": "87cb641e",
   "metadata": {},
   "outputs": [
    {
     "data": {
      "text/plain": [
       "['red', 'blue', 'green', 'black', 'purple']"
      ]
     },
     "execution_count": 187,
     "metadata": {},
     "output_type": "execute_result"
    }
   ],
   "source": [
    "color = ['red','blue','green']   \n",
    "color.extend(['black','purple']) # 새로운 리스트 추가\n",
    "color"
   ]
  },
  {
   "cell_type": "code",
   "execution_count": 188,
   "id": "b1237c78",
   "metadata": {},
   "outputs": [
    {
     "data": {
      "text/plain": [
       "['orange', 'red', 'blue', 'green']"
      ]
     },
     "execution_count": 188,
     "metadata": {},
     "output_type": "execute_result"
    }
   ],
   "source": [
    "color = ['red','blue','green']\n",
    "color.insert(0,'orange')         # i번째 인덱스에 새로운 값 추가\n",
    "color"
   ]
  },
  {
   "cell_type": "code",
   "execution_count": 189,
   "id": "082dfe03",
   "metadata": {},
   "outputs": [
    {
     "data": {
      "text/plain": [
       "['blue', 'green']"
      ]
     },
     "execution_count": 189,
     "metadata": {},
     "output_type": "execute_result"
    }
   ],
   "source": [
    "color = ['red','blue','green']\n",
    "color.remove('red')\n",
    "color"
   ]
  },
  {
   "cell_type": "code",
   "execution_count": 190,
   "id": "f8365f7c",
   "metadata": {},
   "outputs": [
    {
     "data": {
      "text/plain": [
       "['orange', 'blue', 'green']"
      ]
     },
     "execution_count": 190,
     "metadata": {},
     "output_type": "execute_result"
    }
   ],
   "source": [
    "color = ['red','blue','green']\n",
    "color[0] = 'orange'\n",
    "color"
   ]
  },
  {
   "cell_type": "code",
   "execution_count": 191,
   "id": "b52ffbbf",
   "metadata": {},
   "outputs": [
    {
     "data": {
      "text/plain": [
       "['blue', 'green']"
      ]
     },
     "execution_count": 191,
     "metadata": {},
     "output_type": "execute_result"
    }
   ],
   "source": [
    "del color[0]\n",
    "color"
   ]
  },
  {
   "cell_type": "code",
   "execution_count": 192,
   "id": "b5c4cb9d",
   "metadata": {},
   "outputs": [
    {
     "ename": "ValueError",
     "evalue": "'black' is not in list",
     "output_type": "error",
     "traceback": [
      "\u001b[1;31m---------------------------------------------------------------------------\u001b[0m",
      "\u001b[1;31mValueError\u001b[0m                                Traceback (most recent call last)",
      "\u001b[1;32m~\\AppData\\Local\\Temp/ipykernel_10948/2592657291.py\u001b[0m in \u001b[0;36m<module>\u001b[1;34m\u001b[0m\n\u001b[1;32m----> 1\u001b[1;33m \u001b[0mcopy_color\u001b[0m\u001b[1;33m.\u001b[0m\u001b[0mindex\u001b[0m\u001b[1;33m(\u001b[0m\u001b[1;34m'black'\u001b[0m\u001b[1;33m)\u001b[0m\u001b[1;33m\u001b[0m\u001b[1;33m\u001b[0m\u001b[0m\n\u001b[0m",
      "\u001b[1;31mValueError\u001b[0m: 'black' is not in list"
     ]
    }
   ],
   "source": [
    "copy_color.index('black')"
   ]
  },
  {
   "cell_type": "code",
   "execution_count": 193,
   "id": "014463b2",
   "metadata": {},
   "outputs": [
    {
     "data": {
      "text/plain": [
       "1"
      ]
     },
     "execution_count": 193,
     "metadata": {},
     "output_type": "execute_result"
    }
   ],
   "source": [
    "copy_color.index('blue')"
   ]
  },
  {
   "cell_type": "code",
   "execution_count": 194,
   "id": "3efb56e3",
   "metadata": {},
   "outputs": [
    {
     "data": {
      "text/plain": [
       "['blue', 'blue', 'green', 'green', 'red', 'red']"
      ]
     },
     "execution_count": 194,
     "metadata": {},
     "output_type": "execute_result"
    }
   ],
   "source": [
    "copy_color.sort()       # 리스트 자신의 데이터 요소를 정렬함\n",
    "copy_color"
   ]
  },
  {
   "cell_type": "code",
   "execution_count": 195,
   "id": "e062f42f",
   "metadata": {},
   "outputs": [
    {
     "data": {
      "text/plain": [
       "['blue', 'blue', 'green', 'green', 'red']"
      ]
     },
     "execution_count": 195,
     "metadata": {},
     "output_type": "execute_result"
    }
   ],
   "source": [
    "copy_color.pop()\n",
    "copy_color"
   ]
  },
  {
   "cell_type": "code",
   "execution_count": 196,
   "id": "d1d5d567",
   "metadata": {},
   "outputs": [
    {
     "data": {
      "text/plain": [
       "['red', 'green', 'green', 'blue', 'blue']"
      ]
     },
     "execution_count": 196,
     "metadata": {},
     "output_type": "execute_result"
    }
   ],
   "source": [
    "copy_color.reverse()\n",
    "copy_color"
   ]
  },
  {
   "cell_type": "code",
   "execution_count": 197,
   "id": "d7c1df8b",
   "metadata": {},
   "outputs": [
    {
     "data": {
      "text/plain": [
       "2"
      ]
     },
     "execution_count": 197,
     "metadata": {},
     "output_type": "execute_result"
    }
   ],
   "source": [
    "copy_color.count('green')"
   ]
  },
  {
   "cell_type": "code",
   "execution_count": 198,
   "id": "c37a5366",
   "metadata": {},
   "outputs": [
    {
     "data": {
      "text/plain": [
       "[]"
      ]
     },
     "execution_count": 198,
     "metadata": {},
     "output_type": "execute_result"
    }
   ],
   "source": [
    "copy_color.clear()\n",
    "copy_color"
   ]
  },
  {
   "cell_type": "code",
   "execution_count": 199,
   "id": "d28a7088",
   "metadata": {},
   "outputs": [
    {
     "name": "stdout",
     "output_type": "stream",
     "text": [
      "['red', 'blue', 'green']\n",
      "3128102608448 3128102604288\n"
     ]
    }
   ],
   "source": [
    "# len() 과 sorted()는 내장함수, 나머지는 메서드\n",
    "\n",
    "print(color1)\n",
    "color3 = color1.copy()\n",
    "print(id(color3),id(color1))   # 객체의 주소값이 다름, 새로운 리스트를 만듬, deep copy"
   ]
  },
  {
   "cell_type": "code",
   "execution_count": 200,
   "id": "04b71b3c",
   "metadata": {},
   "outputs": [
    {
     "name": "stdout",
     "output_type": "stream",
     "text": [
      "['white', 'red', 'blue', 'green']\n",
      "['red', 'blue', 'green']\n"
     ]
    }
   ],
   "source": [
    "color1.insert(0,'white')\n",
    "print(color1)\n",
    "print(color3)     # 객체가 다르기때문에 color3에 영향 안줌"
   ]
  },
  {
   "cell_type": "code",
   "execution_count": 201,
   "id": "ca816189",
   "metadata": {},
   "outputs": [
    {
     "name": "stdout",
     "output_type": "stream",
     "text": [
      "['white', 'red', 'blue', 'green']\n",
      "['white', 'red', 'blue', 'green']\n",
      "3128102604288 3128102604288\n"
     ]
    }
   ],
   "source": [
    "color4 = color1\n",
    "print(color1)\n",
    "print(color4)\n",
    "print(id(color1),id(color4))   # 주소값이 복사가 되서 영향 끼침, swallow copy"
   ]
  },
  {
   "cell_type": "code",
   "execution_count": 202,
   "id": "f4d3a61f",
   "metadata": {},
   "outputs": [
    {
     "name": "stdout",
     "output_type": "stream",
     "text": [
      "['white', 'red', 'blue']\n",
      "['white', 'red', 'blue']\n"
     ]
    }
   ],
   "source": [
    "color1.remove('green')\n",
    "print(color1)\n",
    "print(color4)"
   ]
  },
  {
   "cell_type": "code",
   "execution_count": 203,
   "id": "565b9ae3",
   "metadata": {},
   "outputs": [
    {
     "name": "stdout",
     "output_type": "stream",
     "text": [
      "['white', 'red', 'blue']\n",
      "['blue', 'red', 'white']\n"
     ]
    }
   ],
   "source": [
    "result = sorted(color1)   # 정렬된 새로운 객체를 반환\n",
    "print(color1)\n",
    "print(result)"
   ]
  },
  {
   "cell_type": "markdown",
   "id": "40c1aa6a",
   "metadata": {},
   "source": [
    "• 패킹(packing) : 한 변수에 여러 개의 데이터를 할당하는 것. \n",
    "\n",
    "• 언패킹(unpacking) : 한 변수의 데이터를 각각의 변수로 반환하는 것."
   ]
  },
  {
   "cell_type": "code",
   "execution_count": 208,
   "id": "a7e8a942",
   "metadata": {},
   "outputs": [
    {
     "name": "stdout",
     "output_type": "stream",
     "text": [
      "[1, 2, 3] 1 2 3\n"
     ]
    }
   ],
   "source": [
    "t = [1,2,3]         # 1,2,3을 변수 t에 패킹\n",
    "a,b,c = t           # t에 있는 값 1,2,3을 변수 a,b,c에 언패킹\n",
    "\n",
    "print(t,a,b,c)"
   ]
  },
  {
   "cell_type": "code",
   "execution_count": 210,
   "id": "d8e20493",
   "metadata": {},
   "outputs": [
    {
     "ename": "ValueError",
     "evalue": "too many values to unpack (expected 2)",
     "output_type": "error",
     "traceback": [
      "\u001b[1;31m---------------------------------------------------------------------------\u001b[0m",
      "\u001b[1;31mValueError\u001b[0m                                Traceback (most recent call last)",
      "\u001b[1;32m~\\AppData\\Local\\Temp/ipykernel_10948/3355729759.py\u001b[0m in \u001b[0;36m<module>\u001b[1;34m\u001b[0m\n\u001b[0;32m      1\u001b[0m \u001b[1;31m# 개수가 안 맞을 때\u001b[0m\u001b[1;33m\u001b[0m\u001b[1;33m\u001b[0m\u001b[1;33m\u001b[0m\u001b[0m\n\u001b[0;32m      2\u001b[0m \u001b[0mt\u001b[0m \u001b[1;33m=\u001b[0m \u001b[1;33m[\u001b[0m\u001b[1;36m1\u001b[0m\u001b[1;33m,\u001b[0m\u001b[1;36m2\u001b[0m\u001b[1;33m,\u001b[0m\u001b[1;36m3\u001b[0m\u001b[1;33m]\u001b[0m\u001b[1;33m\u001b[0m\u001b[1;33m\u001b[0m\u001b[0m\n\u001b[1;32m----> 3\u001b[1;33m \u001b[0ma\u001b[0m\u001b[1;33m,\u001b[0m\u001b[0mb\u001b[0m \u001b[1;33m=\u001b[0m \u001b[0mt\u001b[0m\u001b[1;33m\u001b[0m\u001b[1;33m\u001b[0m\u001b[0m\n\u001b[0m\u001b[0;32m      4\u001b[0m \u001b[1;33m\u001b[0m\u001b[0m\n\u001b[0;32m      5\u001b[0m \u001b[1;31m# 개수가 많아도 에러뜸\u001b[0m\u001b[1;33m\u001b[0m\u001b[1;33m\u001b[0m\u001b[1;33m\u001b[0m\u001b[0m\n",
      "\u001b[1;31mValueError\u001b[0m: too many values to unpack (expected 2)"
     ]
    }
   ],
   "source": [
    "# 개수가 안 맞을 때\n",
    "t = [1,2,3]\n",
    "a,b = t\n",
    "\n",
    "# 개수가 많아도 에러뜸"
   ]
  },
  {
   "cell_type": "markdown",
   "id": "dadfa0e5",
   "metadata": {},
   "source": [
    "sort()는 리스트의 메서드\n",
    "> None 리턴, 리스트에 저장된 데이터 요소를 정렬(오름차순), reverse=True 옵션쓰면 내림차순\n",
    "\n",
    "sorted() 내장함수 \n",
    "> sorted(list객체)는 데이터 요소를 정렬한 새로운 list 객체를 리턴함"
   ]
  },
  {
   "cell_type": "markdown",
   "id": "27b1b4cf",
   "metadata": {},
   "source": [
    "### 실습"
   ]
  },
  {
   "cell_type": "code",
   "execution_count": 600,
   "id": "05a81740",
   "metadata": {},
   "outputs": [
    {
     "name": "stdout",
     "output_type": "stream",
     "text": [
      "가장 큰 값은  99 입니다.\n"
     ]
    }
   ],
   "source": [
    "import random\n",
    "\n",
    "x = []\n",
    "for i in range(10):\n",
    "    a = random.randint(1,100)\n",
    "    x.append(a)\n",
    "    \n",
    "x.sort()\n",
    "print(\"가장 큰 값은 \",x.pop(),\"입니다.\")"
   ]
  },
  {
   "cell_type": "code",
   "execution_count": 620,
   "id": "2d9c7199",
   "metadata": {},
   "outputs": [
    {
     "name": "stdout",
     "output_type": "stream",
     "text": [
      "[7, 16, 19, 23, 29, 45]\n"
     ]
    }
   ],
   "source": [
    "import random\n",
    "\n",
    "x = []\n",
    "while True:\n",
    "    a = random.randint(1,45)\n",
    "    if a not in x:\n",
    "        x.append(a)\n",
    "    if len(x) == 6:\n",
    "        break\n",
    "x.sort()\n",
    "print(x)"
   ]
  },
  {
   "cell_type": "code",
   "execution_count": 582,
   "id": "533eab57",
   "metadata": {},
   "outputs": [
    {
     "name": "stdout",
     "output_type": "stream",
     "text": [
      "생성된 5의 배수의 개수는 4 개이고, 합계는 220, 평균은 55.000000 입니다.\n"
     ]
    }
   ],
   "source": [
    "import random\n",
    "\n",
    "x = []\n",
    "for i in range(10):\n",
    "    a = random.randint(1,100)\n",
    "    x.append(a)\n",
    "    \n",
    "y = []     \n",
    "for j in x:\n",
    "    if j % 5 == 0:\n",
    "        y.append(j)\n",
    "        \n",
    "if y == []:\n",
    "    print(\"생성된 5의 배수의 개수는 0 개이고, 합계는 0 , 평균은 0 입니다.\")\n",
    "else:\n",
    "    len_y = len(y)\n",
    "    sum_y = sum(y)\n",
    "    avg_y = sum(y) / len(y)\n",
    "    print(\"생성된 5의 배수의 개수는 %d 개이고, 합계는 %d, 평균은 %f 입니다.\" % (len_y, sum_y, avg_y))  \n"
   ]
  },
  {
   "cell_type": "code",
   "execution_count": 653,
   "id": "69cc7f84",
   "metadata": {},
   "outputs": [
    {
     "name": "stdout",
     "output_type": "stream",
     "text": [
      "1 는  1 번 나왔습니다.\n",
      "2 는  3 번 나왔습니다.\n",
      "3 는  4 번 나왔습니다.\n",
      "4 는  1 번 나왔습니다.\n",
      "5 는  1 번 나왔습니다.\n",
      "6 는  0 번 나왔습니다.\n"
     ]
    }
   ],
   "source": [
    "import random\n",
    "\n",
    "x = [] \n",
    "for i in range(10):\n",
    "    a = random.randrange(1,7)\n",
    "    x.append(a)\n",
    "\n",
    "for j in range(1,7):\n",
    "    b = x.count(j)\n",
    "    print(j,\"는 \",b,\"번 나왔습니다.\")"
   ]
  },
  {
   "cell_type": "markdown",
   "id": "c13aa6b9",
   "metadata": {},
   "source": [
    "## 이차원 리스트\n",
    "<br>\n",
    "\n",
    "리스트를 효율적으로 활용하기 위해 여러 개의 리스트를 하나의 변수에 할당하는 이차원 리스트를 사용할 수 있다.\n",
    "\n",
    "이차원 리스트는 표의 칸에 값을 채웠을 때 생기는 값들의 집합이다. "
   ]
  },
  {
   "cell_type": "code",
   "execution_count": 42,
   "id": "e62c6f51",
   "metadata": {
    "scrolled": true
   },
   "outputs": [
    {
     "name": "stdout",
     "output_type": "stream",
     "text": [
      "[[49, 79, 50, 95, 80], [60, 70, 80, 90, 70], [80, 70, 60, 50, 90]]\n",
      "<class 'list'>\n"
     ]
    }
   ],
   "source": [
    "kor_score=[49,79,50,95,80]\n",
    "math_score =[60,70,80,90,70]\n",
    "eng_score=[80,70,60,50,90]\n",
    "midterm_score=[kor_score, math_score, eng_score]\n",
    "print(midterm_score)\n",
    "print(type(midterm_score))"
   ]
  },
  {
   "cell_type": "markdown",
   "id": "852ae1b6",
   "metadata": {},
   "source": [
    "이차원 인덱스는 행 인덱스, 열 인덱스 둘 다 표기해줘야 댐\n",
    "\n",
    "outer 반복문 = 행수 (0~3)\n",
    "\n",
    "inner 반복문 = 행수 (0~5)"
   ]
  },
  {
   "cell_type": "code",
   "execution_count": 43,
   "id": "e2cdd90a",
   "metadata": {},
   "outputs": [
    {
     "name": "stdout",
     "output_type": "stream",
     "text": [
      "50\n"
     ]
    }
   ],
   "source": [
    "print(midterm_score[0][2])"
   ]
  },
  {
   "cell_type": "code",
   "execution_count": 669,
   "id": "ba830d0d",
   "metadata": {},
   "outputs": [
    {
     "name": "stdout",
     "output_type": "stream",
     "text": [
      "각 학생들의 총점은 [189, 219, 190, 235, 240]\n",
      "각 학생들의 평균은 [63.0, 73.0, 63.333333333333336, 78.33333333333333, 80.0]\n"
     ]
    }
   ],
   "source": [
    "kor_score=[49,79,50,95,80]\n",
    "math_score =[60,70,80,90,70]\n",
    "eng_score=[80,70,60,50,90]\n",
    "midterm_score=[kor_score, math_score, eng_score]\n",
    "\n",
    "\n",
    "x= []    \n",
    "y= []\n",
    "for i in range(5):\n",
    "    total_score = kor_score[i] + math_score[i] + eng_score[i]\n",
    "    x.append(total_score)\n",
    "    y.append(total_score / 3)\n",
    "    \n",
    "print(\"각 학생들의 총점은\", x)\n",
    "print(\"각 학생들의 평균은\", y)"
   ]
  },
  {
   "cell_type": "code",
   "execution_count": 674,
   "id": "1968ccf2",
   "metadata": {},
   "outputs": [
    {
     "name": "stdout",
     "output_type": "stream",
     "text": [
      "총점 : [189, 219, 190, 235, 240]\n"
     ]
    }
   ],
   "source": [
    "total = [0,0,0,0,0]\n",
    "\n",
    "kor_score=[49,79,50,95,80]\n",
    "math_score =[60,70,80,90,70]\n",
    "eng_score=[80,70,60,50,90]\n",
    "midterm_score=[kor_score, math_score, eng_score]\n",
    "\n",
    "for subject in midterm_score:\n",
    "    idx = 0 \n",
    "    for score in subject:\n",
    "        total[idx] += score\n",
    "        idx += 1\n",
    "        \n",
    "#for i in total:\n",
    " #   avg = total/3\n",
    "print(\"총점 :\",total)\n",
    "#print(\"평균 :\",avg)"
   ]
  },
  {
   "cell_type": "markdown",
   "id": "baecca75",
   "metadata": {},
   "source": [
    "• 다양한 형태의 변수가 하나의 리스트에 들어갈 수 있다.\n",
    "\n",
    "• 기존 변수들과 함께 리스트 안에 다른 리스트를 넣을 수 있다. (중첩 리스트)\n",
    "\n",
    "• 파이썬의 리스트가 값이 아닌 메모리의 주소를 저장해 메모리에 새로운 값을 할당하는 데 있어 매우 높은자유도를 보장하므로 중첩 리스트가 가능하다"
   ]
  },
  {
   "cell_type": "code",
   "execution_count": 675,
   "id": "36f8c9bf",
   "metadata": {},
   "outputs": [
    {
     "name": "stdout",
     "output_type": "stream",
     "text": [
      "[['yellow', 'blue', 'green', 'black', 'purple'], 1, 0.2]\n"
     ]
    }
   ],
   "source": [
    "a = ['color',1,0.2]\n",
    "color = ['yellow','blue','green','black','purple']\n",
    "a[0] = color\n",
    "print(a)"
   ]
  },
  {
   "cell_type": "code",
   "execution_count": 676,
   "id": "88621cad",
   "metadata": {},
   "outputs": [
    {
     "name": "stdout",
     "output_type": "stream",
     "text": [
      "[5, 4, 3, 2, 1]\n"
     ]
    }
   ],
   "source": [
    "a = [5,4,3,2,1]\n",
    "b = [1,2,3,4,5]\n",
    "\n",
    "b = a\n",
    "print(b)"
   ]
  },
  {
   "cell_type": "code",
   "execution_count": 677,
   "id": "0480bc56",
   "metadata": {},
   "outputs": [
    {
     "name": "stdout",
     "output_type": "stream",
     "text": [
      "[1, 2, 3, 4, 5]\n"
     ]
    }
   ],
   "source": [
    "a.sort()\n",
    "print(b)     # 얕은 복사"
   ]
  },
  {
   "cell_type": "code",
   "execution_count": 686,
   "id": "f9afa2af",
   "metadata": {},
   "outputs": [
    {
     "name": "stdout",
     "output_type": "stream",
     "text": [
      "True\n",
      "False\n",
      "2234433168896 2234433301568\n"
     ]
    }
   ],
   "source": [
    "# 얕은 복사, 깊은복사\n",
    "\n",
    "lst = [1,2,3,4]\n",
    "\n",
    "ld = list(lst)\n",
    "print(ld == lst)\n",
    "print(ld is lst)\n",
    "print(id(ld), id(lst))"
   ]
  },
  {
   "cell_type": "code",
   "execution_count": 687,
   "id": "7600b595",
   "metadata": {},
   "outputs": [
    {
     "name": "stdout",
     "output_type": "stream",
     "text": [
      "[[1, 2, 3, 4], [1, 2, 3, 4]]\n",
      "[[1, 2, 3, 4], [1, 2, 3, 4]]\n",
      "2234431337728 2234431886272\n",
      "1\n",
      "999\n"
     ]
    }
   ],
   "source": [
    "import copy\n",
    "lst = [1,2,3,4]\n",
    "ll = [lst,lst]\n",
    "print(ll)\n",
    "\n",
    "lc = copy.deepcopy(ll)\n",
    "print( lc )\n",
    "lc[0][0] = 999\n",
    "print( id( ll ), id( lc ))\n",
    "print( ll[0][0] )  \n",
    "print( lc[0][0] )"
   ]
  },
  {
   "cell_type": "markdown",
   "id": "bd6556e6",
   "metadata": {},
   "source": [
    "---"
   ]
  },
  {
   "cell_type": "markdown",
   "id": "b328c835",
   "metadata": {},
   "source": [
    "# 자료구조의 이해\n",
    "<br>\n",
    "\n",
    "**자료구조**(data structure)\n",
    "\n",
    "특징이 있는 정보를 메모리에 효율적으로 저장 및 반환하는 방법으로, 데이터를 관리하는\n",
    "방식\n",
    "\n",
    "대용량일수록 메모리에 빨리 저장하고 빠르게 검색하여, 메모리를 효율적으로 사용하고 실행 시간을 줄일 수 있게 해줌\n",
    "\n",
    "<br>\n",
    "\n",
    "## 파이썬에서의 자료구조\n",
    "\n",
    "\n",
    "1. 스택 : 나중에 들어온 값을 먼저 나갈 수 있도록 해 주는 자료구조\n",
    "\n",
    "2. 큐 : 먼저 들어온 값을 먼저 나갈 수 있도록 해 주는 \n",
    "\n",
    "> 스택과 큐는 리스트로 규현\n",
    "\n",
    "3. 튜플 : 리스트와 같지만 불변객체\n",
    "\n",
    "4. 세트 : 데이터의 중복을 허용하지 않고, 수학의 집합 연산을 지원하는 자료구조\n",
    "\n",
    "5. 딕셔너리 : 키와 값 형태의 데이터를 저장하는 자료구조, 키는 다른 데이터와 중복 허용 x\n",
    "\n",
    "6. collections 모듈 : 위에 열거된 자료구조들을 효율적으로 사용할 수 있도록 지원하는 파이썬 내장 모듈"
   ]
  },
  {
   "cell_type": "markdown",
   "id": "661c9c8f",
   "metadata": {},
   "source": [
    "### 스택\n",
    "<br>\n",
    "\n",
    "자료구조의 핵심 개념 중 하나로, ‘Last In First OutLIFO’으로 정의할 수 있다. \n",
    "\n",
    "마지막에 들어간 데이터가 가장 먼저 나오는 형태로, 데이터의 저장 공간을 구현하는 것이다.\n",
    "\n",
    "데이터를 저장하는 공간으로, 리스트와 비슷하지만 저장 순서가 바뀌는 형태를 스택 자료구조(stack data structure)라고 한다. \n",
    "\n",
    "스택에서 데이터를 저장하는 것을 푸시(push), 데이터를 추출하는 것을 팝(pop)이라고 한다.\n",
    "\n",
    "스택으로 만들 수 있는 프로그램 : 입력한 텍스트의 역순으로 추출되는 프로그램....."
   ]
  },
  {
   "cell_type": "code",
   "execution_count": 690,
   "id": "49fe8f82",
   "metadata": {},
   "outputs": [
    {
     "name": "stdout",
     "output_type": "stream",
     "text": [
      "[1, 2, 3, 4, 5, 10]\n",
      "[1, 2, 3, 4, 5, 10, 20]\n",
      "[1, 2, 3, 4, 5, 10]\n"
     ]
    }
   ],
   "source": [
    "# 파이썬의 리스트를 이용한 스택 규현\n",
    "\n",
    "a = [1,2,3,4,5]\n",
    "a.append(10)\n",
    "print(a)\n",
    "\n",
    "a.append(20)\n",
    "print(a)\n",
    "\n",
    "a.pop()\n",
    "print(a)"
   ]
  },
  {
   "cell_type": "code",
   "execution_count": 696,
   "id": "b3976791",
   "metadata": {},
   "outputs": [
    {
     "name": "stdout",
     "output_type": "stream",
     "text": [
      "Input a word :PYTHON\n",
      "['P', 'Y', 'T', 'H', 'O', 'N']\n",
      "['N', 'O', 'H', 'T', 'Y', 'P']\n",
      "NOHTYP\n"
     ]
    }
   ],
   "source": [
    "input_str = input(\"Input a word :\")\n",
    "origin_list = []\n",
    "for char in input_str:\n",
    "    origin_list.append(char)\n",
    "print(origin_list)\n",
    "\n",
    "new_list = []\n",
    "for i in range(len(origin_list)):\n",
    "    new_list.append(origin_list.pop())\n",
    "print(new_list)\n",
    "\n",
    "print(''.join(new_list))"
   ]
  },
  {
   "cell_type": "markdown",
   "id": "373c05b1",
   "metadata": {},
   "source": [
    "### 큐\n",
    "<br>\n",
    "\n",
    "먼저 들어간 데이터가 먼저 나오는 ‘Fist in First Out(FIFO)’의 메모리 구조를 가지는 저장 체계이다.\n",
    "\n",
    "파이썬에서 큐를 구현하는 것은 pop( ) 함수를 사용할 때 인덱스가 0번째인 값을 쓴다는 의미로 pop(0)을 사용하면 된다. \n",
    "\n",
    "pop( ) 함수가 리스트의 마지막 값을 가져온다고 하면, pop(0)은 맨 처음 값을 가져온다는 뜻이다.\n"
   ]
  },
  {
   "cell_type": "code",
   "execution_count": 698,
   "id": "8bba73eb",
   "metadata": {},
   "outputs": [
    {
     "data": {
      "text/plain": [
       "2"
      ]
     },
     "execution_count": 698,
     "metadata": {},
     "output_type": "execute_result"
    }
   ],
   "source": [
    "# 파이썬의 리스트를 이용한 스택 규현\n",
    "\n",
    "a = [1,2,3,4,5]\n",
    "a.append(10)\n",
    "a.append(20)\n",
    "a.pop(0)\n",
    "a.pop(0)"
   ]
  },
  {
   "cell_type": "markdown",
   "id": "cbdcf1f5",
   "metadata": {},
   "source": [
    "### 튜플\n",
    "<br>\n",
    "\n",
    "튜플(tuple)은 리스트와 같은 개념이지만, 데이터를 변경할 수 없는 자료구조이다"
   ]
  },
  {
   "cell_type": "code",
   "execution_count": 702,
   "id": "c5f1ca0c",
   "metadata": {},
   "outputs": [
    {
     "name": "stdout",
     "output_type": "stream",
     "text": [
      "<class 'tuple'> (1, 2, 3)\n",
      "(1, 2, 3, 1, 2, 3) (1, 2, 3, 1, 2, 3)\n"
     ]
    },
    {
     "data": {
      "text/plain": [
       "3"
      ]
     },
     "execution_count": 702,
     "metadata": {},
     "output_type": "execute_result"
    }
   ],
   "source": [
    "t = (1,2,3)\n",
    "print(type(t),t)\n",
    "print(t + t, t * 2)\n",
    "\n",
    "len(t)           # 새로운 튜플을 만들어줄 뿐 수정은 X"
   ]
  },
  {
   "cell_type": "code",
   "execution_count": 705,
   "id": "edb49f8c",
   "metadata": {},
   "outputs": [
    {
     "ename": "TypeError",
     "evalue": "'tuple' object does not support item assignment",
     "output_type": "error",
     "traceback": [
      "\u001b[1;31m---------------------------------------------------------------------------\u001b[0m",
      "\u001b[1;31mTypeError\u001b[0m                                 Traceback (most recent call last)",
      "\u001b[1;32m~\\AppData\\Local\\Temp/ipykernel_15612/3046939658.py\u001b[0m in \u001b[0;36m<module>\u001b[1;34m\u001b[0m\n\u001b[1;32m----> 1\u001b[1;33m \u001b[0mt\u001b[0m\u001b[1;33m[\u001b[0m\u001b[1;36m1\u001b[0m\u001b[1;33m]\u001b[0m \u001b[1;33m=\u001b[0m \u001b[1;36m5\u001b[0m  \u001b[1;31m# Read-only기 때문에 TypeError: 'tuple' object does not support item assignment\u001b[0m\u001b[1;33m\u001b[0m\u001b[1;33m\u001b[0m\u001b[0m\n\u001b[0m",
      "\u001b[1;31mTypeError\u001b[0m: 'tuple' object does not support item assignment"
     ]
    }
   ],
   "source": [
    "t[1] = 5  # Read-only기 때문에 TypeError: 'tuple' object does not support item assignment"
   ]
  },
  {
   "cell_type": "markdown",
   "id": "623f06fd",
   "metadata": {},
   "source": [
    "### 튜플의 특성\n",
    "<br>\n",
    "\n",
    "• 튜플(tuple)은 리스트와 유사하나, **읽기 전용** 임\n",
    "\n",
    "• 읽기 전용인 만큼 제공되는 함수도 리스트에 비해 적지만, **속도가 빠름**\n",
    "\n",
    "• 튜플에서 제공되는 메소드 : **count, index**\n",
    "\n",
    "• 하나 이상의 요소가 있는 튜플을 만들기 위해서는 각 요소 뒤에 ,를 붙인다\n",
    "\n",
    "• 튜플(tuple)은 '('과 ')'으로 둘러싼다.\n",
    "\n",
    "• 튜플은 더 적은 공간을 사용\n",
    "\n",
    "• 딕셔너리 키로 사용할 수 있다\n",
    "\n",
    "• 네임드 튜플은 객체의 단순한 대안이 될 수 있다\n",
    "\n",
    "• 함수의 인자들은 튜플로 전달된다.\n",
    "\n",
    "• 위경도 좌표나 RGB 색상처럼 작은 규모의 자료 구조를 구성하기에 적합\n",
    "\n",
    "• 리스트는 동일한 자료형으로 이루어진 항목을 순차적으로 추출하는 용도로 사용되며, 튜플을 서로 다른 종류의 데이터형의 항목을 변수에 바로 풀어 쓰는 unpacking 혹은 색인을 매기는 용도로 사용한다."
   ]
  },
  {
   "cell_type": "code",
   "execution_count": 707,
   "id": "27d20cc9",
   "metadata": {},
   "outputs": [
    {
     "name": "stdout",
     "output_type": "stream",
     "text": [
      "<class 'tuple'> (100,)\n"
     ]
    }
   ],
   "source": [
    "t2 = 100,                # 콤마 붙여서 튜플\n",
    "print(type(t2),t2)"
   ]
  },
  {
   "cell_type": "code",
   "execution_count": 713,
   "id": "5b20981c",
   "metadata": {},
   "outputs": [
    {
     "name": "stdout",
     "output_type": "stream",
     "text": [
      "Groucho Chiro Harpo\n",
      "2\n",
      "1\n"
     ]
    }
   ],
   "source": [
    "# 튜플 unpacking\n",
    "\n",
    "marx_tuple = ('Groucho','Chiro','Harpo')\n",
    "a, b, c = marx_tuple\n",
    "print(a,b,c)\n",
    "\n",
    "marx_list = ['Groucho','Chiro','Harpo']\n",
    "tuple(marx_list)\n",
    "\n",
    "tup = (1,2,3,1,2)\n",
    "print(tup.count(2))            # count(value) : 튜플에서 일치하는 값의 수 반환\n",
    "print(tup.index(2))            # index(value) : 튜플에서 일치하는 값의 인덱스 번호 반환"
   ]
  },
  {
   "cell_type": "code",
   "execution_count": 719,
   "id": "5f2d3e12",
   "metadata": {},
   "outputs": [
    {
     "name": "stdout",
     "output_type": "stream",
     "text": [
      "1\n",
      "(2, 'a', 'b')\n",
      "(1, 2, 'a', 'b', 3, 4)\n",
      "(3, 4, 3, 4, 3, 4)\n",
      "1 2\n",
      "2 1\n"
     ]
    }
   ],
   "source": [
    "t1 = (1, 2, 'a', 'b')\n",
    "print(t1[0])\n",
    "print(t1[1:])\n",
    "\n",
    "t2 = (3, 4)\n",
    "print(t1 + t2)\n",
    "print(t2 * 3)\n",
    "\n",
    "a, b = 1, 2\n",
    "print(a, b)\n",
    "a, b = b, a\n",
    "print(a, b)"
   ]
  },
  {
   "cell_type": "code",
   "execution_count": 727,
   "id": "9b5edbac",
   "metadata": {},
   "outputs": [
    {
     "name": "stdout",
     "output_type": "stream",
     "text": [
      "<class 'tuple'>\n",
      "0\n",
      "<class 'str'>\n",
      "5\n"
     ]
    }
   ],
   "source": [
    "empty = ()\n",
    "print(type(empty))\n",
    "print(len(empty))\n",
    "\n",
    "test = ('안녕하세요')       # 콤마가 없어서 문자열로\n",
    "print(type(test))\n",
    "print(len(test))\n",
    "\n",
    "movie = '슈퍼맨II', 1980, '배트맨', 1989    # 튜플 생성 packing\n",
    "a,b,c,d = movie              # 괄호가 없어도 한 개 이상의 데이터가 있으면 자동으로 튜플"
   ]
  },
  {
   "cell_type": "code",
   "execution_count": 745,
   "id": "233f0b39",
   "metadata": {},
   "outputs": [
    {
     "name": "stdout",
     "output_type": "stream",
     "text": [
      "['__add__', '__class__', '__contains__', '__delattr__', '__dir__', '__doc__', '__eq__', '__format__', '__ge__', '__getattribute__', '__getitem__', '__getnewargs__', '__gt__', '__hash__', '__init__', '__init_subclass__', '__iter__', '__le__', '__len__', '__lt__', '__mul__', '__ne__', '__new__', '__reduce__', '__reduce_ex__', '__repr__', '__rmul__', '__setattr__', '__sizeof__', '__str__', '__subclasshook__', 'count', 'index']\n"
     ]
    }
   ],
   "source": [
    "print(dir(empty))          # 메서드 단 2개"
   ]
  },
  {
   "cell_type": "markdown",
   "id": "5047e325",
   "metadata": {},
   "source": [
    "### 세트\n",
    "<br>\n",
    "\n",
    "값을 순서 없이 저장하면서 중복을 불허하는 자료형이다. \n",
    "\n",
    "• 세트는 튜플과 다르게 삭제나 변경이 가능하며, 다양한 집합 연산 (교집합, 합집합) 을 제공한다. \n",
    "\n",
    "• 세트(set)는 수학시간에 배운 집합과 동일\n",
    "\n",
    "• 값은 버리고 키만 남은 딕셔너리와 같다\n",
    "\n",
    "• 세트는 리스트와 마찬가지로 값들의 모임이며, 색인에 의한 순서가 없음\n",
    "\n",
    "• set 생성 : set() , 중괄호{ }안에 콤마로 구분된 하나 이상의 값\n",
    "\n",
    "• 딕셔너리에 set()을 사용하면 키만 사용한다.\n",
    "\n",
    "• 빈 세트형은 반드시 **set( )함수**로만 가능"
   ]
  },
  {
   "cell_type": "code",
   "execution_count": 743,
   "id": "cd22715d",
   "metadata": {},
   "outputs": [
    {
     "data": {
      "text/plain": [
       "{1, 2, 3}"
      ]
     },
     "execution_count": 743,
     "metadata": {},
     "output_type": "execute_result"
    }
   ],
   "source": [
    "s = set([1,2,3,1,2,3])\n",
    "s"
   ]
  },
  {
   "cell_type": "code",
   "execution_count": 744,
   "id": "e9c1d7ef",
   "metadata": {},
   "outputs": [
    {
     "name": "stdout",
     "output_type": "stream",
     "text": [
      "{1, 2, 3}\n",
      "{1, 2, 3}\n",
      "{2, 3}\n",
      "{1, 2, 3, 4, 5, 6, 7}\n",
      "{1, 2, 4, 5, 6, 7}\n",
      "set()\n"
     ]
    }
   ],
   "source": [
    "print(s)\n",
    "\n",
    "s.add(1)\n",
    "print(s)\n",
    "\n",
    "s.remove(1)\n",
    "print(s)\n",
    "\n",
    "s.update([1,4,5,6,7])\n",
    "print(s)\n",
    "\n",
    "s.discard(3)\n",
    "print(s)\n",
    "\n",
    "s.clear()\n",
    "print(s)"
   ]
  },
  {
   "cell_type": "code",
   "execution_count": 746,
   "id": "a0232ebb",
   "metadata": {},
   "outputs": [
    {
     "name": "stdout",
     "output_type": "stream",
     "text": [
      "['__and__', '__class__', '__contains__', '__delattr__', '__dir__', '__doc__', '__eq__', '__format__', '__ge__', '__getattribute__', '__gt__', '__hash__', '__iand__', '__init__', '__init_subclass__', '__ior__', '__isub__', '__iter__', '__ixor__', '__le__', '__len__', '__lt__', '__ne__', '__new__', '__or__', '__rand__', '__reduce__', '__reduce_ex__', '__repr__', '__ror__', '__rsub__', '__rxor__', '__setattr__', '__sizeof__', '__str__', '__sub__', '__subclasshook__', '__xor__', 'add', 'clear', 'copy', 'difference', 'difference_update', 'discard', 'intersection', 'intersection_update', 'isdisjoint', 'issubset', 'issuperset', 'pop', 'remove', 'symmetric_difference', 'symmetric_difference_update', 'union', 'update']\n"
     ]
    }
   ],
   "source": [
    "s = set()\n",
    "print(dir(s))"
   ]
  },
  {
   "cell_type": "code",
   "execution_count": 748,
   "id": "8e20091b",
   "metadata": {},
   "outputs": [
    {
     "name": "stdout",
     "output_type": "stream",
     "text": [
      "{'cherry', 'apple', 'orange'}\n",
      "{1, 2, 3, 4, 5}\n",
      "{3}\n",
      "<class 'set'> {0, 1, 2, 3}\n"
     ]
    }
   ],
   "source": [
    "print(set({'apple':'red', 'orange':'orange', 'cherry':'red'}))\n",
    "a = {1, 2, 3}\n",
    "b = {3, 4, 5}\n",
    "print(a.union(b))               # 합집합\n",
    "print(a.intersection(b))        # 교집합\n",
    "d = [1, 0, 3, 1, 2, 3]\n",
    "f = set(d)\n",
    "print(type(f),f)"
   ]
  },
  {
   "cell_type": "code",
   "execution_count": 752,
   "id": "76b8ea03",
   "metadata": {},
   "outputs": [
    {
     "name": "stdout",
     "output_type": "stream",
     "text": [
      "{1, 2, 3, 4, 5, 6, 7}\n",
      "{1, 2, 3, 4, 5, 6, 7}\n",
      "{3, 4, 5}\n",
      "{3, 4, 5}\n",
      "{1, 2}\n",
      "{1, 2}\n"
     ]
    }
   ],
   "source": [
    "s1 = set([1,2,3,4,5])\n",
    "s2 = set([3,4,5,6,7])\n",
    "\n",
    "print(s1.union(s2))\n",
    "print(s1|s2)\n",
    "\n",
    "print(s1.intersection(s2))\n",
    "print(s1 & s2)\n",
    "\n",
    "print(s1.difference(s2))\n",
    "print(s1 - s2)"
   ]
  },
  {
   "cell_type": "markdown",
   "id": "b0b12cd5",
   "metadata": {},
   "source": [
    "### set 메서드?\n",
    "<br>\n",
    "    \n",
    "• difference_update : 차집합을 처리하고 기존 set 인스턴스 내부 원소를 갱신\n",
    "\n",
    "• intersection_update : 교집합을 처리하고 인스턴스 내부를 갱신\n",
    "\n",
    "• symmetric_difference_update : 대칭 차집합을 처리하고 인스턴스 내부를 갱신\n",
    "\n",
    "• remove( 원소 ) : 원소 하나 삭제, 삭제할 원소가 없을 경우 Exception 발생\n",
    "\n",
    "• discard( 원소 ) : 삭제할 원소가 없을 경우 Exception 대신 None 리턴\n",
    "\n",
    "• pop( ) : 임의의 원소 삭제\n",
    "\n",
    "• issubset( )은 두 set을 비교해서 하나의 set이 다른 set의 부분집합인지를 확인\n",
    "\n",
    "• issuperset( ) 은 두 set을 비교해서 하나의 set이 다른 set의 큰집합인지를 확인\n",
    "\n",
    "• Frozenset - 원소에 대한 변경이 불가한 set"
   ]
  },
  {
   "cell_type": "code",
   "execution_count": 757,
   "id": "86b9c7e1",
   "metadata": {},
   "outputs": [
    {
     "name": "stdout",
     "output_type": "stream",
     "text": [
      "{1, 3}\n",
      "{1, 3}\n"
     ]
    },
    {
     "data": {
      "text/plain": [
       "False"
      ]
     },
     "execution_count": 757,
     "metadata": {},
     "output_type": "execute_result"
    }
   ],
   "source": [
    "a = {1,2}\n",
    "b = {2,3}\n",
    "\n",
    "print(a^b)\n",
    "print(a.symmetric_difference(b))  # 대칭 차집합\n",
    "\n",
    "a.issubset(b) #첫번째 셋이 두번째 셋의 부분집합?\n",
    "a <= a\n",
    "a < b #첫번째 셋이 두번째 셋의 proper subset(진부분집합)?\n",
    "a < a #두번째 셋에는 첫번째 셋의 모든 멤버를 포함한 그 이상의 멤버가 있어야 함\n",
    "a >= b\n",
    "a.issuperset(b) #첫번째 셋이 두번째 셋의 슈퍼셋?\n",
    "a > b #첫번째 셋이 두번째 셋의 proper superset ?\n",
    "a > a #첫번째 셋에는 두번째 셋의 모든 멤버를 포함한 그 이상의 멤버가 있어야 함"
   ]
  },
  {
   "cell_type": "markdown",
   "id": "1976a3ac",
   "metadata": {},
   "source": [
    "### 딕셔너리\n",
    "<br>\n",
    "\n",
    "전화번호부와 같이 키(key)와 값(value) 형태로 데이터를 저장하는 자료구조이다"
   ]
  },
  {
   "cell_type": "code",
   "execution_count": 766,
   "id": "87b2bb28",
   "metadata": {},
   "outputs": [
    {
     "name": "stdout",
     "output_type": "stream",
     "text": [
      "{20140012: 'sungchul', 5641812: 'jiyong'}\n",
      "sungchul\n",
      "Janghyeok\n",
      "{20140012: 'Janghyeok', 5641812: 'jiyong', 20140039: 'Wonchul'}\n"
     ]
    }
   ],
   "source": [
    "student_info = {20140012:'sungchul',5641812:'jiyong'}\n",
    "print(student_info)\n",
    "\n",
    "print(student_info[20140012])      # 특정 값 키 호출\n",
    "\n",
    "student_info[20140012] = \"Janghyeok\"\n",
    "print(student_info[20140012])\n",
    "\n",
    "student_info[20140039] = \"Wonchul\"\n",
    "print(student_info)"
   ]
  },
  {
   "cell_type": "markdown",
   "id": "eb59a7f3",
   "metadata": {},
   "source": [
    "• 딕셔너리의 내용을 얻기 위해서는 items(), keys(), values() 메소드를 사용\n",
    "\n",
    "• items() 는 딕셔너리의 모든 키와 값을 튜플로 묶어서 반환\n",
    "\n",
    "• keys() 는 키, values()는 값만 반환\n",
    "\n",
    "• key는 정렬 안된 상태이며, 색인으로 value을 선택할 수 없다\n",
    "\n",
    "• key로 검색해서 읽기 위해 유일성을 유지해야 하므로 키를 생성할 때 hash 알고리즘을 통해 유일한 값만 구성해준다.\n",
    "\n",
    "• key는 변경이 불가능한 자료형들 (int, float, tuple, str, bytes, frozenset)으로만 만들어진다.."
   ]
  },
  {
   "cell_type": "code",
   "execution_count": 765,
   "id": "2b9f70f8",
   "metadata": {},
   "outputs": [
    {
     "name": "stdout",
     "output_type": "stream",
     "text": [
      "<class 'dict'> 0\n",
      "['__class__', '__contains__', '__delattr__', '__delitem__', '__dir__', '__doc__', '__eq__', '__format__', '__ge__', '__getattribute__', '__getitem__', '__gt__', '__hash__', '__init__', '__init_subclass__', '__iter__', '__le__', '__len__', '__lt__', '__ne__', '__new__', '__reduce__', '__reduce_ex__', '__repr__', '__reversed__', '__setattr__', '__setitem__', '__sizeof__', '__str__', '__subclasshook__', 'clear', 'copy', 'fromkeys', 'get', 'items', 'keys', 'pop', 'popitem', 'setdefault', 'update', 'values']\n"
     ]
    }
   ],
   "source": [
    "students = {}\n",
    "print(type(students), len(students))\n",
    "\n",
    "print(dir(students))"
   ]
  },
  {
   "cell_type": "code",
   "execution_count": 773,
   "id": "5f69f14d",
   "metadata": {},
   "outputs": [
    {
     "name": "stdout",
     "output_type": "stream",
     "text": [
      "<class 'dict_keys'> dict_keys(['apple', 'banana', 'cherry'])\n",
      "<class 'dict_values'> dict_values(['red', 'yellow', 'red'])\n",
      "<class 'dict_items'> dict_items([('apple', 'red'), ('banana', 'yellow'), ('cherry', 'red')])\n"
     ]
    }
   ],
   "source": [
    "color = {'apple':'red','banana':'yellow','cherry':'red'}\n",
    "keys = color.keys()\n",
    "print(type(keys),keys)\n",
    "\n",
    "values = color.values()\n",
    "print(type(values),values)\n",
    "\n",
    "items = color.items()\n",
    "print(type(items),items)"
   ]
  },
  {
   "cell_type": "code",
   "execution_count": 774,
   "id": "63e69871",
   "metadata": {},
   "outputs": [
    {
     "name": "stdout",
     "output_type": "stream",
     "text": [
      "apple red\n",
      "banana yellow\n",
      "cherry red\n"
     ]
    }
   ],
   "source": [
    "for k,v in color.items():\n",
    "    print(k,v)"
   ]
  },
  {
   "cell_type": "code",
   "execution_count": 775,
   "id": "f76c3ea5",
   "metadata": {},
   "outputs": [
    {
     "name": "stdout",
     "output_type": "stream",
     "text": [
      "<class 'dict'>\n"
     ]
    }
   ],
   "source": [
    "d = dict(a=1, b=3, c=5)\n",
    "print(type(d))"
   ]
  },
  {
   "cell_type": "code",
   "execution_count": 779,
   "id": "d8bc46bb",
   "metadata": {},
   "outputs": [
    {
     "name": "stdout",
     "output_type": "stream",
     "text": [
      "defaults\n",
      "{'a': 1, 'b': 2, 'c': 'defaults'}\n"
     ]
    }
   ],
   "source": [
    "# KeyError를 방지하기 위한 메소드 처리\n",
    "\n",
    "d = {'a' : 1, 'b' : 2 }\n",
    "print(d.get('c',\"defaults\"))\n",
    "d.setdefault('c','defaults')\n",
    "\n",
    "print(d)"
   ]
  },
  {
   "cell_type": "code",
   "execution_count": 783,
   "id": "0fcb301d",
   "metadata": {},
   "outputs": [
    {
     "name": "stdout",
     "output_type": "stream",
     "text": [
      "OrderedDict([(1, 89), (2, 0), (4, 5)])\n",
      "1 89\n",
      "2 0\n",
      "4 5\n"
     ]
    }
   ],
   "source": [
    "import collections\n",
    "\n",
    "d = {2:3, 1:89, 4:5, 2:0}\n",
    "od = collections.OrderedDict(sorted(d.items()))   # key 정렬\n",
    "print(od)        # 2:3 에서 2:0 으로 업데이트 됨\n",
    "\n",
    "for k,v in od.items():\n",
    "    print(k,v)"
   ]
  },
  {
   "cell_type": "code",
   "execution_count": 786,
   "id": "cd4cc2f5",
   "metadata": {
    "scrolled": true
   },
   "outputs": [
    {
     "name": "stdout",
     "output_type": "stream",
     "text": [
      "{'a': 1, 'b': 'platypus'}\n",
      "platypus\n",
      "candy\n"
     ]
    }
   ],
   "source": [
    "first = {'a':1, 'b':2}\n",
    "second = {'b':'platypus'}\n",
    "first.update(second)\n",
    "print(first)\n",
    "\n",
    "'a' in first\n",
    "print(first.get('b'))\n",
    "print(first.get('c','candy'))"
   ]
  },
  {
   "cell_type": "markdown",
   "id": "501b4a9a",
   "metadata": {},
   "source": [
    "### 실습\n",
    "\n",
    "\n",
    "Q5> 같은 숫자가 나올 때까지 주사위 6개를 동시에 무한 반복해서 던진다.\n",
    "같은 숫자가 나올 때까지 몇 번 던졌는지, 1부터 6까지 연속된 숫자는 몇 번 나왔는지 출력하는  프로그램 코드를 작성하시오\n",
    "[Sample Run]  \n",
    "6개 주사위가 모두 동일한 숫자가 나옴 --> 2 2 2 2 2 2\n",
    "6개가 동일한 숫자가 나올 때까지 주사위를 던진 횟수 --> 10652\n",
    "6개가  동일한 숫자가 나올 때까지 1 ~6의 연속번호가 나온 횟수 --> 172\n",
    "\n",
    "\n",
    "\n",
    "Q6> 입력된 문자열에서 숫자를 삭제하는 프로그램을 작성하시오\n",
    "[Sample Run]  \n",
    "문자열 -->  IT python 1234 Flask\n",
    "숫자제거 -->  IT python  Flask\n",
    "\n",
    "\n",
    "Q7>set을 사용하여 로또 번호 추첨처럼 1~45의 숫자 중에서 중복 없이 6개를 뽑는 프로그램을 구현하시오\n",
    "[Sample Run] \n",
    "** 로또 추첨을 시작합니다. **\n",
    "추첨된 로또 번호 --> 2, 6, 8, 27, 32, 41\n",
    "\n",
    "\n",
    "Q8>4행 3열의 2차원리스트 선언하고 아래의 값으로 초기화 한 후 차례대로 출력한 후 리스트의 모든 값을 더한 결과를 출력하는 프로그램을 작성하시오.\n",
    "[[3, 5, 9], [2, 11, 5], [8, 30, 10], [22, 5, 1]]\n",
    "[출력 예]\n",
    "3 5 9\n",
    "2 11 5\n",
    "8 30 10\n",
    "22 5 1\n",
    "111"
   ]
  },
  {
   "cell_type": "code",
   "execution_count": 128,
   "id": "36a33b65",
   "metadata": {},
   "outputs": [
    {
     "name": "stdout",
     "output_type": "stream",
     "text": [
      "[4, 4, 4, 4, 4, 4]\n",
      "총 2356 번 굴리셨습니다.\n",
      "연속된 숫자는 총 37 번 나왔습니다.\n"
     ]
    }
   ],
   "source": [
    "# Q5\n",
    "\n",
    "import random\n",
    "\n",
    "count = 0\n",
    "all_count = 0\n",
    "\n",
    "while True:\n",
    "    x = []\n",
    "    count += 1 \n",
    "    for i in range(6):\n",
    "        a = random.randint(1,6)\n",
    "        x.append(a)\n",
    "        \n",
    "    if len(set(x)) == 6:\n",
    "        all_count += 1\n",
    "        continue\n",
    "        \n",
    "    elif len(set(x)) == 1:\n",
    "        break\n",
    "        \n",
    "    else:\n",
    "        continue\n",
    "        \n",
    "print(list(x))\n",
    "print(\"총\",count,\"번 굴리셨습니다.\")\n",
    "print(\"연속된 숫자는 총\",all_count,\"번 나왔습니다.\")"
   ]
  },
  {
   "cell_type": "code",
   "execution_count": 187,
   "id": "26b1f264",
   "metadata": {},
   "outputs": [
    {
     "name": "stdout",
     "output_type": "stream",
     "text": [
      "문자를 입력하세요IT Python 1234 Flask\n",
      "IT Python  Flask\n"
     ]
    }
   ],
   "source": [
    "# Q6\n",
    "\n",
    "text = input(\"문자를 입력하세요\")\n",
    "revised_text = \"\"\n",
    "\n",
    "for i in text:\n",
    "    if i.isdigit():\n",
    "        continue\n",
    "    revised_text += i\n",
    "\n",
    "print(revised_text)"
   ]
  },
  {
   "cell_type": "code",
   "execution_count": 149,
   "id": "f4cc7c00",
   "metadata": {},
   "outputs": [
    {
     "name": "stdout",
     "output_type": "stream",
     "text": [
      "*로또 추첨을 시작합니다.*\n",
      "추첨된 로또 번호 --> [1, 4, 12, 19, 21, 45]\n"
     ]
    }
   ],
   "source": [
    "# Q7\n",
    "\n",
    "import random\n",
    "print(\"*로또 추첨을 시작합니다.*\")\n",
    "\n",
    "x = set()\n",
    "while len(x) < 6:\n",
    "    num = random.randint(1,45)\n",
    "    x.add(num)\n",
    "\n",
    "x_sorted = sorted(x)\n",
    "print(\"추첨된 로또 번호 -->\",x_sorted)"
   ]
  },
  {
   "cell_type": "code",
   "execution_count": 188,
   "id": "467ea599",
   "metadata": {},
   "outputs": [
    {
     "name": "stdout",
     "output_type": "stream",
     "text": [
      "[[3, 5, 9], [2, 11, 5], [8, 30, 10], [22, 5, 1]] 의 각 원소의 총합은 111 입니다.\n"
     ]
    }
   ],
   "source": [
    "# 08\n",
    "\n",
    "a = [[3, 5, 9], \n",
    "     [2, 11, 5], \n",
    "     [8, 30, 10], \n",
    "     [22, 5, 1]]\n",
    "\n",
    "total = 0\n",
    "\n",
    "for i in range(4):\n",
    "    for j in range(3):\n",
    "        total += a[i][j]\n",
    "\n",
    "print(a, \"의 각 원소의 총합은\", total, \"입니다.\")"
   ]
  },
  {
   "cell_type": "code",
   "execution_count": 192,
   "id": "95127dd8",
   "metadata": {},
   "outputs": [
    {
     "name": "stdout",
     "output_type": "stream",
     "text": [
      "63\n"
     ]
    }
   ],
   "source": [
    "# Q2\n",
    "\n",
    "num = 0\n",
    "for i in range(0,1000):\n",
    "    if i % 2 == 0:\n",
    "        continue\n",
    "    num = num + i\n",
    "    \n",
    "    if num > 1000:\n",
    "        break\n",
    "        \n",
    "print(i)"
   ]
  },
  {
   "cell_type": "code",
   "execution_count": null,
   "id": "f1409131",
   "metadata": {},
   "outputs": [],
   "source": []
  }
 ],
 "metadata": {
  "kernelspec": {
   "display_name": "Python 3 (ipykernel)",
   "language": "python",
   "name": "python3"
  },
  "language_info": {
   "codemirror_mode": {
    "name": "ipython",
    "version": 3
   },
   "file_extension": ".py",
   "mimetype": "text/x-python",
   "name": "python",
   "nbconvert_exporter": "python",
   "pygments_lexer": "ipython3",
   "version": "3.8.11"
  }
 },
 "nbformat": 4,
 "nbformat_minor": 5
}
