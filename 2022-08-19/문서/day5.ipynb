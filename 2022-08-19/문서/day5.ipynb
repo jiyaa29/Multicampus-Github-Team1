{
 "cells": [
  {
   "cell_type": "markdown",
   "id": "47adcbef",
   "metadata": {},
   "source": [
    "# 복습\n",
    "<br>\n",
    "\n",
    "python 집합자료형 : list, tuple, set, dict\n",
    "<br>\n",
    "<br>\n",
    "\n",
    "## List\n",
    "<br>\n",
    "\n",
    "sequence 자료형, 순서보장, 추가, 수정, 삭제가능, 중복 데이터 저장 가능, 서로 다른 타입 데이터 저장 가능\n",
    "\n",
    "인덱싱 사용해서 저장된 데이터를 각각 핸들링 할 수 있다\n",
    "\n",
    "슬라이싱을 이용해 저장된 데이터를 부분 추출할 수 있다\n",
    "\n",
    "append, extend, sort(reverse=True), pop, insert, reverse, remove, clear, del....\n",
    "<br>\n",
    "<br>\n",
    "\n",
    "## Tuple\n",
    "<br>\n",
    "\n",
    "저장된 데이터 요소를 변경할 수 없는 읽기 전용 자료형\n",
    "\n",
    "만드는 법 : (요소, ), tuple(), 데이터요소,\n",
    "\n",
    "count(), index()..\n",
    "\n",
    "리스트보다 메모리 사용이 적고, 빠르게 처리 가능\n",
    "\n",
    "packing : 여러 데이터를 하나의 변수로 패키징<br>unpacking : 집합 객체로부터 각각의 데이터 요소를 변수에 할당\n",
    "<br>\n",
    "<br>\n",
    "\n",
    "### Set\n",
    "<br>\n",
    "\n",
    "중복 데이터 요소를 저장하지 않음(저장된 순서대로 데이터를 꺼낼 수 없음)\n",
    "\n",
    "index 안씀\n",
    "\n",
    "데이터 요소는 삭제, 변경, update 가능, pop, update, clear....\n",
    "\n",
    "수학의 집합 연산(교,합,차집합)을 데이터에 적용하기 위한 객체\n",
    "\n",
    "union, intersection, difference, issuperset, issubset\n",
    "<br>\n",
    "|, -, &, >, >=, <, <=...\n",
    "\n",
    "dict에서 key로 사용 가능\n",
    "<br>\n",
    "<br>\n",
    "\n",
    "### Dict\n",
    "<br>\n",
    "\n",
    "key와 value를 한 쌍으로 저장 (변수 = {}, dict())"
   ]
  },
  {
   "cell_type": "markdown",
   "id": "21d620b3",
   "metadata": {},
   "source": [
    "---"
   ]
  },
  {
   "cell_type": "markdown",
   "id": "f579f158",
   "metadata": {},
   "source": [
    "# dictionary - 2\n",
    "<br>\n",
    "\n"
   ]
  },
  {
   "cell_type": "code",
   "execution_count": 9,
   "id": "3de4903c",
   "metadata": {},
   "outputs": [
    {
     "name": "stdout",
     "output_type": "stream",
     "text": [
      "{'a': 4, 'b': 2, 'c': 3, 'd': 5}\n",
      "\n",
      "{'a': None, 'b': None, 'c': None, 'd': None}\n",
      "{'a': 1, 'b': 1, 'c': 1, 'd': 1}\n",
      "\n",
      "2\n",
      "{'a': 1, 'c': 3}\n",
      "('c', 3)\n",
      "{'a': 1}\n"
     ]
    }
   ],
   "source": [
    "dic= {'a':1, 'b':2, 'c':3}\n",
    "dic.update({'a':4,'d':5})\n",
    "print(dic)\n",
    "print()\n",
    "\n",
    "k = ['a', 'b', 'c', 'd']\n",
    "dic1, dic2 = {}, {}\n",
    "dic1 = dic1.fromkeys(k)\n",
    "dic2 = dic2.fromkeys(k, 1)\n",
    "print(dic1)\n",
    "print(dic2)\n",
    "print()\n",
    "\n",
    "dic= {'a':1, 'b':2, 'c':3}\n",
    "print(dic.pop('b'))\n",
    "print(dic)                                        # pop(key) : 키를 통해 값을 반환 후 삭제\n",
    "print(dic.popitem())\n",
    "print(dic)                                        # popitem(): 키, 값의 쌍을 튜플로 반환 후 삭제"
   ]
  },
  {
   "cell_type": "markdown",
   "id": "bbfb9fce",
   "metadata": {},
   "source": [
    "Key에 리스트는 불가, 튜플은 가능\n",
    "\n",
    "Key로 Value얻을 때 get메서드\n",
    "\n",
    "딕셔너리 복사 : copy()\n",
    "\n",
    "```python\n",
    "\"Korea\" in country.code.keys()\n",
    "# True\n",
    "82 in country.code.values()\n",
    "# True\n",
    "```"
   ]
  },
  {
   "cell_type": "code",
   "execution_count": 11,
   "id": "037557df",
   "metadata": {},
   "outputs": [
    {
     "name": "stdout",
     "output_type": "stream",
     "text": [
      "pey\n"
     ]
    }
   ],
   "source": [
    "a = {'name':'pey','phone':'0119993323','birth':'1118'}\n",
    "\n",
    "print(a.get('name'))"
   ]
  },
  {
   "cell_type": "code",
   "execution_count": 15,
   "id": "f56341bc",
   "metadata": {},
   "outputs": [
    {
     "data": {
      "text/plain": [
       "True"
      ]
     },
     "execution_count": 15,
     "metadata": {},
     "output_type": "execute_result"
    }
   ],
   "source": [
    "# 해당 Key가 있는지 조사하는 함수 만들기\n",
    "\n",
    "def has_key(dic,k):\n",
    "    return k in dic.keys()\n",
    "\n",
    "has_key(a,'name')"
   ]
  },
  {
   "cell_type": "markdown",
   "id": "d98954e2",
   "metadata": {},
   "source": [
    "# collections 모듈\n",
    "<br>\n",
    "\n",
    "집합 자료형 : container datatype\n",
    "\n",
    "collections 모듈 : 다양한 자료구조인 리스트, 튜플, 딕셔너리 등을 확장하여 제작된 파이썬의 내장 모듈이다.\n",
    "\n",
    "collections 모듈은 deque, OrderedDict, defaultdict, Counter, namedtuple 등을 제공\n"
   ]
  },
  {
   "cell_type": "code",
   "execution_count": 17,
   "id": "dc31dba8",
   "metadata": {},
   "outputs": [],
   "source": [
    "from collections import deque\n",
    "from collections import OrderedDict\n",
    "from collections import defaultdict\n",
    "from collections import Counter\n",
    "from collections import namedtuple"
   ]
  },
  {
   "cell_type": "markdown",
   "id": "f9f0342b",
   "metadata": {},
   "source": [
    "### deque 모듈\n",
    "<br>\n",
    "\n",
    "스택과 큐를 모두 지원하는 모듈\n",
    "> Stack : LIFO <br> Queue : FIFO <br>\n",
    "deque는 양방향에서 입출력이 가능한 느낌?\n",
    "\n",
    "\n",
    "deque 모듈을 사용하기 위해서는 리스트와 비슷한 형식으로 데이터를 저장해야 함.\n",
    "\n",
    "append()함수를 사용하면 기존 리스트처럼 데이터가 인덱스 번호를 늘리면서 쌓이기 시작한다.\n"
   ]
  },
  {
   "cell_type": "code",
   "execution_count": 43,
   "id": "1598a60c",
   "metadata": {},
   "outputs": [
    {
     "name": "stdout",
     "output_type": "stream",
     "text": [
      "deque([0, 1, 2, 3, 4])\n"
     ]
    }
   ],
   "source": [
    "from collections import deque\n",
    "\n",
    "deque_list = deque()\n",
    "for i in range(5):\n",
    "    deque_list.append(i)\n",
    "    \n",
    "print(deque_list)"
   ]
  },
  {
   "cell_type": "code",
   "execution_count": 44,
   "id": "9368c467",
   "metadata": {
    "scrolled": true
   },
   "outputs": [
    {
     "name": "stdout",
     "output_type": "stream",
     "text": [
      "<class 'collections.deque'>\n",
      "['__add__', '__bool__', '__class__', '__contains__', '__copy__', '__delattr__', '__delitem__', '__dir__', '__doc__', '__eq__', '__format__', '__ge__', '__getattribute__', '__getitem__', '__gt__', '__hash__', '__iadd__', '__imul__', '__init__', '__init_subclass__', '__iter__', '__le__', '__len__', '__lt__', '__mul__', '__ne__', '__new__', '__reduce__', '__reduce_ex__', '__repr__', '__reversed__', '__rmul__', '__setattr__', '__setitem__', '__sizeof__', '__str__', '__subclasshook__', 'append', 'appendleft', 'clear', 'copy', 'count', 'extend', 'extendleft', 'index', 'insert', 'maxlen', 'pop', 'popleft', 'remove', 'reverse', 'rotate']\n"
     ]
    }
   ],
   "source": [
    "print(type(deque_list))\n",
    "print(dir(deque_list))"
   ]
  },
  {
   "cell_type": "markdown",
   "id": "b0b17cb5",
   "metadata": {},
   "source": [
    "• deque_list.pop()을 작성하면, 오른쪽 요소부터 하나씩 추출된다. 즉, 스택처럼 나중에 넣은 값부터 하나씩 추출할 수 있다\n",
    "\n",
    "• deque는 appendleft( ) 함수로 새로운 값을 왼쪽부터 입력되게 하여 먼저 들어간 값부터 출력될 수 있도록 할 수 있다.\n"
   ]
  },
  {
   "cell_type": "code",
   "execution_count": 45,
   "id": "0d0244f8",
   "metadata": {},
   "outputs": [
    {
     "data": {
      "text/plain": [
       "4"
      ]
     },
     "execution_count": 45,
     "metadata": {},
     "output_type": "execute_result"
    }
   ],
   "source": [
    "deque_list.pop()"
   ]
  },
  {
   "cell_type": "markdown",
   "id": "5cd2cdc0",
   "metadata": {},
   "source": [
    "deque 클래스의 장점 : deque는 연결 리스트의 특성을 지원.\n",
    "> 연결리스트 : 데이터를 저장할 때 요소의 값을 한 쪽 방향으로 연결한 후, **요소의 다음 값의 주소값을 저장하여 데이터를 연결하는 기법**\n",
    "\n",
    "• 연결 리스트는 다음 요소의 주소값을 저장하므로 데이터를 **원형으로 저장**할 수 있다. 또한, 마지막 요소에 첫 번째 값의 주소를 저장한다면 해당 값을 찾아갈 수 있다. \n",
    "\n",
    "• **rotate( )는** 기존 deque에 저장된 요소들의 값 인덱스를 바꾸는 기법이다. 연결 리스트는 양쪽 끝의 요소들을 연결할 수 있으므로 원형의 데이터 구조를 가질 수 있다. 이러한 특징을 이용하여 각 요소의 인덱스 번호를 하나씩 옮긴다면, 실제로 요소를 옮기지 않더라도 인덱스 번호를 바꿀 수 있다.\n"
   ]
  },
  {
   "cell_type": "code",
   "execution_count": 46,
   "id": "9e47370b",
   "metadata": {},
   "outputs": [
    {
     "name": "stdout",
     "output_type": "stream",
     "text": [
      "deque([0, 1, 2, 3, 4])\n",
      "deque([3, 4, 0, 1, 2])\n",
      "deque([1, 2, 3, 4, 0])\n"
     ]
    }
   ],
   "source": [
    "from collections import deque\n",
    "\n",
    "deque_list = deque()\n",
    "for i in range(5):\n",
    "    deque_list.append(i)\n",
    "\n",
    "print(deque_list)\n",
    "\n",
    "deque_list.rotate(2)\n",
    "print(deque_list)\n",
    "\n",
    "deque_list.rotate(2)\n",
    "print(deque_list)"
   ]
  },
  {
   "cell_type": "code",
   "execution_count": 47,
   "id": "be378209",
   "metadata": {},
   "outputs": [
    {
     "name": "stdout",
     "output_type": "stream",
     "text": [
      "deque([0, 4, 3, 2, 1])\n"
     ]
    }
   ],
   "source": [
    "print(deque(reversed(deque_list)))"
   ]
  },
  {
   "cell_type": "code",
   "execution_count": 48,
   "id": "fd8b9325",
   "metadata": {},
   "outputs": [
    {
     "name": "stdout",
     "output_type": "stream",
     "text": [
      "deque([1, 2, 3, 4, 0, 5, 6, 7])\n",
      "deque([7, 6, 5, 1, 2, 3, 4, 0, 5, 6, 7])\n"
     ]
    }
   ],
   "source": [
    "deque_list.extend([5,6,7])\n",
    "print(deque_list)\n",
    "\n",
    "deque_list.extendleft([5,6,7])\n",
    "print(deque_list)"
   ]
  },
  {
   "cell_type": "markdown",
   "id": "a90551f7",
   "metadata": {},
   "source": [
    "### OrderedDict 모듈\n",
    "<br>\n",
    "\n",
    "순서를 가진 딕셔너리 객체이다. 딕셔너리 파일을 저장하면 키는 저장 순서와 상관없이 저장된다."
   ]
  },
  {
   "cell_type": "code",
   "execution_count": 49,
   "id": "18025fd6",
   "metadata": {},
   "outputs": [
    {
     "name": "stdout",
     "output_type": "stream",
     "text": [
      "x 100\n",
      "l 500\n",
      "y 200\n",
      "z 300\n"
     ]
    }
   ],
   "source": [
    "d = {}\n",
    "d['x'] = 100\n",
    "d['l'] = 500\n",
    "d['y'] = 200\n",
    "d['z'] = 300\n",
    "\n",
    "for k,v in d.items():\n",
    "    print(k,v)"
   ]
  },
  {
   "cell_type": "code",
   "execution_count": 52,
   "id": "52c124f3",
   "metadata": {},
   "outputs": [
    {
     "name": "stdout",
     "output_type": "stream",
     "text": [
      "x 100\n",
      "y 200\n",
      "z 300\n",
      "l 500\n"
     ]
    }
   ],
   "source": [
    "from collections import OrderedDict\n",
    "\n",
    "d = OrderedDict()\n",
    "d['x'] = 100\n",
    "d['y'] = 200\n",
    "d['z'] = 300\n",
    "d['l'] = 500\n",
    "\n",
    "for k,v in d.items():\n",
    "    print(k,v)"
   ]
  },
  {
   "cell_type": "code",
   "execution_count": 57,
   "id": "b8771915",
   "metadata": {},
   "outputs": [
    {
     "name": "stdout",
     "output_type": "stream",
     "text": [
      "l 500\n",
      "x 100\n",
      "y 200\n",
      "z 300\n",
      "\n",
      "x 100\n",
      "y 200\n",
      "z 300\n",
      "l 500\n"
     ]
    }
   ],
   "source": [
    "def sort_by_key(t):\n",
    "    return t[0]\n",
    "\n",
    "def sort_by_value(t):\n",
    "    return t[1]\n",
    "\n",
    "from collections import OrderedDict\n",
    "\n",
    "d = dict()\n",
    "d['x'] = 100\n",
    "d['y'] = 200\n",
    "d['z'] = 300\n",
    "d['l'] = 500\n",
    "\n",
    "\n",
    "# 키로 정렬한 결과, OrderedDict(정렬할 기준)\n",
    "for k,v in OrderedDict(sorted(d.items(),key=sort_by_key)).items():\n",
    "    print(k,v)\n",
    "    \n",
    "print()\n",
    "\n",
    "# 값으로 정렬한 결과, OrderedDict(정렬할 기준)\n",
    "for k,v in OrderedDict(sorted(d.items(),key=sort_by_value)).items():\n",
    "    print(k,v)"
   ]
  },
  {
   "cell_type": "markdown",
   "id": "0ffa8163",
   "metadata": {},
   "source": [
    "### defaultdict 모듈\n",
    "<br>\n",
    "\n",
    "딕셔너리의 변수를 생성할 때 키에 기본 값을 지정하는 방법\n",
    "\n",
    "키를 생성하지 않고 해당 키의 값을 호출하려고 할 때, 오류 발생\n",
    "\n",
    "어떤 키가 들어오더라도 처음 값은 전부 0"
   ]
  },
  {
   "cell_type": "code",
   "execution_count": 58,
   "id": "00e33ffb",
   "metadata": {},
   "outputs": [
    {
     "ename": "KeyError",
     "evalue": "'first'",
     "output_type": "error",
     "traceback": [
      "\u001b[1;31m---------------------------------------------------------------------------\u001b[0m",
      "\u001b[1;31mKeyError\u001b[0m                                  Traceback (most recent call last)",
      "\u001b[1;32m~\\AppData\\Local\\Temp/ipykernel_11492/93095211.py\u001b[0m in \u001b[0;36m<module>\u001b[1;34m\u001b[0m\n\u001b[0;32m      1\u001b[0m \u001b[0md\u001b[0m \u001b[1;33m=\u001b[0m \u001b[0mdict\u001b[0m\u001b[1;33m(\u001b[0m\u001b[1;33m)\u001b[0m\u001b[1;33m\u001b[0m\u001b[1;33m\u001b[0m\u001b[0m\n\u001b[1;32m----> 2\u001b[1;33m \u001b[0mprint\u001b[0m\u001b[1;33m(\u001b[0m\u001b[0md\u001b[0m\u001b[1;33m[\u001b[0m\u001b[1;34m\"first\"\u001b[0m\u001b[1;33m]\u001b[0m\u001b[1;33m)\u001b[0m\u001b[1;33m\u001b[0m\u001b[1;33m\u001b[0m\u001b[0m\n\u001b[0m",
      "\u001b[1;31mKeyError\u001b[0m: 'first'"
     ]
    }
   ],
   "source": [
    "d = dict()\n",
    "print(d[\"first\"])"
   ]
  },
  {
   "cell_type": "code",
   "execution_count": 61,
   "id": "e3ea57b3",
   "metadata": {},
   "outputs": [
    {
     "name": "stdout",
     "output_type": "stream",
     "text": [
      "0\n"
     ]
    }
   ],
   "source": [
    "from collections import defaultdict\n",
    "\n",
    "d = defaultdict(lambda:0)\n",
    "print(d[\"first\"])\n",
    "\n",
    "\n",
    "# lambda : 1회성 함수, 받는 인수도 없음"
   ]
  },
  {
   "cell_type": "code",
   "execution_count": 64,
   "id": "dab29721",
   "metadata": {},
   "outputs": [
    {
     "name": "stdout",
     "output_type": "stream",
     "text": [
      "dict_items([('yellow', [1, 3]), ('blue', [2, 4]), ('red', [1])])\n"
     ]
    }
   ],
   "source": [
    "# defaultdict의 초깃값은 리스트 형태로도 저장 가능\n",
    "\n",
    "from collections import defaultdict\n",
    "\n",
    "\n",
    "# 업데이트가 안되고 리스트안에 저장됨\n",
    "s = [('yellow',1),('blue',2),('yellow',3),('blue',4),('red',1)]\n",
    "d = defaultdict(list)\n",
    "\n",
    "for k,v in s:\n",
    "    d[k].append(v)\n",
    "    \n",
    "print(d.items())\n",
    "# [('blue', [2, 4]), ('yellow', [1, 3]), ('red', [1])] ?"
   ]
  },
  {
   "cell_type": "markdown",
   "id": "ccaa8fb8",
   "metadata": {},
   "source": [
    "### Counter 모듈\n",
    "<br>\n",
    "\n",
    "Counter 모듈은 시퀀스자료형의 데이터 요소 개수를 딕셔너리 형태로 반환하는 자료구조\n",
    "> ex) 단어가 저장된 리스트 -> {'단어' : 개수, .... }\n",
    "\n",
    "리스트나 문자열과 같은 시퀀스 자료형 안의 요소 중 값이 같은 것이 몇 개 있는지 반환해준다."
   ]
  },
  {
   "cell_type": "code",
   "execution_count": 91,
   "id": "e6c7abb2",
   "metadata": {},
   "outputs": [
    {
     "name": "stdout",
     "output_type": "stream",
     "text": [
      "['g', 'a', 'l', 'l', 'a', 'h', 'a', 'd']\n",
      "\n",
      "Counter({'a': 3, 'l': 2, 'g': 1, 'h': 1, 'd': 1})\n"
     ]
    },
    {
     "data": {
      "text/plain": [
       "3"
      ]
     },
     "execution_count": 91,
     "metadata": {},
     "output_type": "execute_result"
    }
   ],
   "source": [
    "from collections import Counter\n",
    "\n",
    "text = list(\"gallahad\")\n",
    "print(text)\n",
    "print()\n",
    "\n",
    "c = Counter(text)\n",
    "print(c)\n",
    "c[\"a\"]"
   ]
  },
  {
   "cell_type": "code",
   "execution_count": 89,
   "id": "8928497f",
   "metadata": {},
   "outputs": [
    {
     "name": "stdout",
     "output_type": "stream",
     "text": [
      "Counter({'i': 12, 'to': 8, 'mm': 7, 'now': 5, 'yesterday.': 5, 'yesterday': 4, 'oh,': 4, 'she': 4, 'away.': 3, 'believe': 3, 'in': 3, 'a': 3, 'why': 2, 'had': 2, 'go,': 2, \"don't\": 2, 'know,': 2, \"wouldn't\": 2, 'say.': 2, 'said': 2, 'something': 2, 'wrong,': 2, 'long': 2, 'for': 2, 'love': 2, 'was': 2, 'such': 2, 'an': 2, 'easy': 2, 'game': 2, 'play.': 2, 'need': 2, 'place': 2, 'hide': 2, 'all': 1, 'my': 1, 'troubles': 1, 'seemed': 1, 'so': 1, 'far': 1, 'it': 1, 'looks': 1, 'as': 1, 'though': 1, \"they're\": 1, 'here': 1, 'stay.': 1, 'suddenly': 1, \"i'm\": 1, 'not': 1, 'half': 1, 'the': 1, 'man': 1, 'used': 1, 'be.': 1, \"there's\": 1, 'shadow': 1, 'hanging': 1, 'over': 1, 'me.': 1, 'came': 1, 'suddenly.': 1})\n"
     ]
    }
   ],
   "source": [
    "from collections import Counter\n",
    "\n",
    "f = open('yesterday.txt','r')\n",
    "text = f.read()\n",
    "text_edited = text.lower().split()\n",
    "\n",
    "f.close()\n",
    "print(Counter(text_edited))"
   ]
  },
  {
   "cell_type": "code",
   "execution_count": 94,
   "id": "0a96a88d",
   "metadata": {},
   "outputs": [
    {
     "name": "stdout",
     "output_type": "stream",
     "text": [
      "Counter({'red': 4, 'blue': 2})\n",
      "['red', 'red', 'red', 'red', 'blue', 'blue']\n"
     ]
    }
   ],
   "source": [
    "# elements( )함수를 사용하여, 각 요소의 개수만큼 리스트형의 결과를 출력\n",
    "\n",
    "from collections import Counter\n",
    "\n",
    "c = Counter({'red':4,'blue':2})\n",
    "\n",
    "print(c)\n",
    "\n",
    "print(list(c.elements()))"
   ]
  },
  {
   "cell_type": "code",
   "execution_count": 96,
   "id": "6e50da4d",
   "metadata": {},
   "outputs": [
    {
     "name": "stdout",
     "output_type": "stream",
     "text": [
      "Counter({'dogs': 8, 'cats': 4})\n",
      "['cats', 'cats', 'cats', 'cats', 'dogs', 'dogs', 'dogs', 'dogs', 'dogs', 'dogs', 'dogs', 'dogs']\n"
     ]
    }
   ],
   "source": [
    "# 키워드 형태의 매개변수를 사용하여 Counter를 생성하는 방법\n",
    "# 매개변수의 이름을 키(key)로, 실제 값을 값(value)으로 하여 Counter를 생성할 수 있다\n",
    "\n",
    "from collections import Counter\n",
    "\n",
    "c = Counter(cats=4, dogs=8)\n",
    "print(c)\n",
    "\n",
    "print(list(c.elements()))"
   ]
  },
  {
   "cell_type": "code",
   "execution_count": null,
   "id": "5c83a890",
   "metadata": {},
   "outputs": [],
   "source": [
    "# Counter는 사칙연산도 지원함\n",
    "\n",
    "from collections import Counter\n",
    "\n",
    "c = Counter(a=4, b=2, c=0, d=-2)\n",
    "d = Counter(a=1, b=2, c=3, d=4)\n",
    "\n",
    "c.subtract(d)       # c - d\n",
    "c"
   ]
  },
  {
   "cell_type": "markdown",
   "id": "91161e57",
   "metadata": {},
   "source": [
    "`+ 기호는 두 Counter 객체에 있는 각 요소를 더한 것\n",
    "\n",
    "& 기호는 두 객체에 같은 값이 있을 때, 즉 교집합의 경우에만 출력\n",
    "\n",
    "| 기호는 두 Counter 객체에서 하나가 포함되어 있다면, 그리고 좀 더 큰 값이 있다면 그 값으로 합집합"
   ]
  },
  {
   "cell_type": "code",
   "execution_count": 101,
   "id": "c34c5399",
   "metadata": {},
   "outputs": [
    {
     "name": "stdout",
     "output_type": "stream",
     "text": [
      "Counter({'a': 5, 'b': 4, 'c': 3, 'd': 2})\n",
      "Counter({'b': 2, 'a': 1})\n",
      "Counter({'a': 4, 'd': 4, 'c': 3, 'b': 2})\n"
     ]
    }
   ],
   "source": [
    "from collections import Counter\n",
    "\n",
    "c = Counter(a=4, b=2, c=0, d=-2)\n",
    "d = Counter(a=1, b=2, c=3, d=4)\n",
    "print(c+d)\n",
    "\n",
    "print(c&d)\n",
    "\n",
    "print(c|d)"
   ]
  },
  {
   "cell_type": "markdown",
   "id": "5efa5fe2",
   "metadata": {},
   "source": [
    "### namedtuple 모듈\n",
    "<br>\n",
    "\n",
    "namedtuple 모듈은 튜플의 형태로 데이터 구조체를 저장하는 방법이다.\n",
    "\n",
    "객체를 만들기 위한 설계도 class가 속성만 가지는 경우 = namedtuple"
   ]
  },
  {
   "cell_type": "code",
   "execution_count": 103,
   "id": "e383ec09",
   "metadata": {},
   "outputs": [],
   "source": [
    "#from collections import namedtuple\n",
    "\n",
    "#Point = namedtuple(\"Point\",['x','y'])\n",
    "#p = Point(11,y=22)"
   ]
  },
  {
   "cell_type": "code",
   "execution_count": 113,
   "id": "3df62e65",
   "metadata": {},
   "outputs": [
    {
     "name": "stdout",
     "output_type": "stream",
     "text": [
      "Counter({'i': 12, 'to': 8, 'mm': 7, 'now': 5, 'yesterday.': 5, 'yesterday': 4, 'oh,': 4, 'she': 4, 'away.': 3, 'believe': 3, 'in': 3, 'a': 3, 'why': 2, 'had': 2, 'go,': 2, \"don't\": 2, 'know,': 2, \"wouldn't\": 2, 'say.': 2, 'said': 2, 'something': 2, 'wrong,': 2, 'long': 2, 'for': 2, 'love': 2, 'was': 2, 'such': 2, 'an': 2, 'easy': 2, 'game': 2, 'play.': 2, 'need': 2, 'place': 2, 'hide': 2, 'all': 1, 'my': 1, 'troubles': 1, 'seemed': 1, 'so': 1, 'far': 1, 'it': 1, 'looks': 1, 'as': 1, 'though': 1, \"they're\": 1, 'here': 1, 'stay.': 1, 'suddenly': 1, \"i'm\": 1, 'not': 1, 'half': 1, 'the': 1, 'man': 1, 'used': 1, 'be.': 1, \"there's\": 1, 'shadow': 1, 'hanging': 1, 'over': 1, 'me.': 1, 'came': 1, 'suddenly.': 1})\n"
     ]
    }
   ],
   "source": [
    "from collections import Counter\n",
    "from collections import defaultdict\n",
    "\n",
    "\n",
    "f = open('yesterday.txt','r')\n",
    "text = f.read()\n",
    "text_edited = text.lower().split()\n",
    "\n",
    "f.close()\n",
    "print(Counter(text_edited))\n",
    "\n",
    "\n",
    "#d = defaultdict(list)\n",
    "\n",
    "#for k,v in edited:\n",
    "#    d[k].append(v)"
   ]
  },
  {
   "cell_type": "markdown",
   "id": "6621cdb5",
   "metadata": {},
   "source": [
    "---\n",
    "\n",
    "# 함수\n",
    "<br>\n",
    "\n",
    "프로젝트 중... 필요한 부분을 나누어 작성한 후 합치기 → 가장 일반적이고 많이 사용하는 방법"
   ]
  },
  {
   "cell_type": "markdown",
   "id": "dea0f428",
   "metadata": {},
   "source": [
    "### 함수(function) : 어떤 일을 수행하는 코드의 덩어리, 또는 코드의 묶음\n",
    "<br>\n",
    "\n",
    "일련의 코드 블록에 이름을 붙여 정의한 것\n",
    "\n",
    "자주 반복되는 코드 사용이 용이해짐, 호출문으로 실행\n",
    "\n",
    "함수의 장점\n",
    ">필요할 때마다 호출 가능 <br> 논리적인 단위로 분할 가능 <br> 코드의 캡슐화\n",
    "\n",
    "```python\n",
    "def 함수 이름 (매개변수 a, b ...):           # 매개변수에는 input data\n",
    "           수행문 1\n",
    "           수행문 2\n",
    "           return <반환값>\n",
    "```\n",
    "python의 모든 함수는 반드시 리턴, 단 명시되지 않았으면 None을 리턴\n"
   ]
  },
  {
   "cell_type": "markdown",
   "id": "e8d4cb4f",
   "metadata": {},
   "source": [
    "def : ‘definition’의 줄임말로, 함수를 정의하여 시작한다는 의미이다. \n",
    "\n",
    "함수 이름 : 함수 이름은 개발자가 마음대로 지정할 수 있지만, 파이썬에서의 Naming 규칙\n",
    ">• 소문자로 입력한다. <br>• 띄어쓰기를 할 경우에는 _ 기호를 사용한다. ex) save_model <br>• 행위를 기록하므로 동사와 명사를 함께 사용하는 경우가 많다. ex) find_number <br>• 외부에 공개하는 함수일 경우, 줄임말을 사용하지 않고 짧고 명료한 이름을 정한다.\n",
    "\n",
    "매개변수(parameter) : 함수에서 입력값으로 사용하는 변수를 의미하며, 1개 이상의 값을 적을 수 있다. \n",
    "\n",
    "수행문 : 수행문은 반드시 들여쓰기한 후 코드를 입력, 수행해야 하는 코드는 일반적으로 작성하는 코드와 같다. \n",
    "\n",
    "if나 for 같은 제어문을 사용할 수도 있고, 고급 프로그래밍을 하게 되면 함수 안에 함수를 사용하기도"
   ]
  },
  {
   "cell_type": "markdown",
   "id": "3987a032",
   "metadata": {},
   "source": [
    "형식 인수 : 함수 정의문의 인수\n",
    "\n",
    "실 인수 : 함수 호출문에서 전달하는 인수"
   ]
  },
  {
   "cell_type": "code",
   "execution_count": 118,
   "id": "7b048780",
   "metadata": {},
   "outputs": [],
   "source": [
    "# 두개의 수치 데이터와 하나의 산술연산자를 입력받아 결과를 출력하는 함수를 정의\n",
    "def calc(num1, num2, op):\n",
    "    result = 0\n",
    "    if op == \"+\":\n",
    "        result = (num1 + num2)\n",
    "    elif op == \"-\":\n",
    "        result = (num1 - num2)\n",
    "    elif op == \"/\":\n",
    "        result = (num1 / num2)\n",
    "    elif op == \"*\":\n",
    "        result = (num1 * num2)\n",
    "    print(num1, op, num2, \"=\", result)"
   ]
  },
  {
   "cell_type": "code",
   "execution_count": 119,
   "id": "fee79360",
   "metadata": {},
   "outputs": [],
   "source": [
    "# 두개의 수치 데이터와 하나의 산술연산자를 입력받아 결과를 반환하는 함수를 정의\n",
    "def calc1(num1, num2, op):\n",
    "    result = 0\n",
    "    if op == \"+\":\n",
    "        result = (num1 + num2)\n",
    "    elif op == \"-\":\n",
    "        result = (num1 - num2)\n",
    "    elif op == \"/\":\n",
    "        result = (num1 / num2)\n",
    "    elif op == \"*\":\n",
    "        result = (num1 * num2)\n",
    "    return result"
   ]
  },
  {
   "cell_type": "code",
   "execution_count": 121,
   "id": "bdf2264c",
   "metadata": {},
   "outputs": [
    {
     "name": "stdout",
     "output_type": "stream",
     "text": [
      "33 + 77 = 110\n"
     ]
    },
    {
     "data": {
      "text/plain": [
       "110"
      ]
     },
     "execution_count": 121,
     "metadata": {},
     "output_type": "execute_result"
    }
   ],
   "source": [
    "calc(33,77,\"+\")\n",
    "calc1(33,77,\"+\")"
   ]
  },
  {
   "cell_type": "code",
   "execution_count": 123,
   "id": "34df7f11",
   "metadata": {},
   "outputs": [
    {
     "name": "stdout",
     "output_type": "stream",
     "text": [
      "110\n"
     ]
    }
   ],
   "source": [
    "returnValue = calc1(33,77,\"+\")\n",
    "print(returnValue)"
   ]
  },
  {
   "cell_type": "code",
   "execution_count": 124,
   "id": "f32f055c",
   "metadata": {},
   "outputs": [],
   "source": [
    "def calculate_rectangle_area(x,y):\n",
    "    return x * y\n",
    "\n",
    "rectangle_x = 10\n",
    "rectangle_y = 20\n"
   ]
  },
  {
   "cell_type": "markdown",
   "id": "1a14216d",
   "metadata": {},
   "source": [
    "#### 함수적 프로그래밍 언어\n",
    "<br>\n",
    "\n",
    "함수 definition을 변수에 저장할 수 있음\n",
    "\n",
    "함수의 매개인수(parameter)로 다른/같은 함수를 전달할 수 있음 \n",
    "> 전달되는 함수는 Callback함수이며 전달되는 함수는 함수 내부에서 호출되어 사용함."
   ]
  },
  {
   "cell_type": "code",
   "execution_count": 128,
   "id": "54f207ae",
   "metadata": {},
   "outputs": [
    {
     "name": "stdout",
     "output_type": "stream",
     "text": [
      "151\n"
     ]
    }
   ],
   "source": [
    "def f(x):\n",
    "    return 2 * x + 7\n",
    "\n",
    "def g(x):\n",
    "    return x ** 2\n",
    "\n",
    "x = 2\n",
    "print(f(x) + g(x) + f(g(x)) + g(f(x)))"
   ]
  },
  {
   "cell_type": "markdown",
   "id": "9aa27ba2",
   "metadata": {},
   "source": [
    "#### 함수의 호출 방식\n",
    "<br>\n",
    "\n",
    "값에 의한 호출\n",
    "> 함수에 인수를 넘길 때 값만 넘김 <br> 함수 안의 인수값 변경 시, 호출된 변수에 영향을 안 줌 <br>\n",
    "함수 호출시 기본 데이터 방식일때\n",
    "\n",
    "참조 호출\n",
    "> 함수에 인수를 넘길 때 메모리 주소를 넘김 <br> 함수 안의 인수값 변경 시, 호출된 변수값도 변경됨 <br> 함수 호출시 집합 데이터 방식일때"
   ]
  },
  {
   "cell_type": "code",
   "execution_count": 131,
   "id": "40400189",
   "metadata": {},
   "outputs": [
    {
     "name": "stdout",
     "output_type": "stream",
     "text": [
      "9\n",
      "3\n"
     ]
    }
   ],
   "source": [
    "def f(x):\n",
    "    y = x\n",
    "    x = 5            # 지역변수\n",
    "    return y * y\n",
    "\n",
    "x = 3                # 전역변수\n",
    "print(f(x))\n",
    "print(x)"
   ]
  },
  {
   "cell_type": "markdown",
   "id": "042f7398",
   "metadata": {},
   "source": [
    "#### 함수의 호출 방식\n",
    "<br>\n",
    "\n",
    "• 파이썬은 객체의 주소가 함수로 넘어간다는 뜻으로, 객체 호출(call by object reference) 로 명명되는 방식을 사용한다. \n",
    "\n",
    "• 파이썬에서는 새로운 값을 할당하거나 해당 객체를 지울 때는 영향을 주지 않고, 단순히 해당 객체에 값을 추가할 때는 영향을 준다"
   ]
  },
  {
   "cell_type": "code",
   "execution_count": 133,
   "id": "24c1149a",
   "metadata": {},
   "outputs": [
    {
     "name": "stdout",
     "output_type": "stream",
     "text": [
      "[0, 1]\n"
     ]
    }
   ],
   "source": [
    "def spam(eggs):\n",
    "    eggs.append(1)\n",
    "    \n",
    "ham = [0]\n",
    "spam(ham)\n",
    "print(ham)"
   ]
  },
  {
   "cell_type": "code",
   "execution_count": 134,
   "id": "80c3bbe0",
   "metadata": {},
   "outputs": [
    {
     "name": "stdout",
     "output_type": "stream",
     "text": [
      "I love London!\n",
      "I love Paris\n"
     ]
    }
   ],
   "source": [
    "def f():\n",
    "    s = \"I love London!\"\n",
    "    print(s)\n",
    "    \n",
    "s = \"I love Paris\"\n",
    "f()\n",
    "print(s)"
   ]
  },
  {
   "cell_type": "code",
   "execution_count": null,
   "id": "0b1a3ca8",
   "metadata": {},
   "outputs": [],
   "source": [
    "# 함수 내에서 전역 변수로 선언된 변수를 사용하기 위해서는 global"
   ]
  },
  {
   "cell_type": "code",
   "execution_count": 135,
   "id": "6a2ade40",
   "metadata": {},
   "outputs": [
    {
     "name": "stdout",
     "output_type": "stream",
     "text": [
      "I love London!\n",
      "I love London!\n"
     ]
    }
   ],
   "source": [
    "def f():\n",
    "    global s\n",
    "    s = \"I love London!\"\n",
    "    print(s)\n",
    "    \n",
    "s = \"I love Paris\"\n",
    "f()\n",
    "print(s)"
   ]
  },
  {
   "cell_type": "markdown",
   "id": "6819ef83",
   "metadata": {},
   "source": [
    "#### 재귀 함수 \n",
    "<br>\n",
    "\n",
    "함수가 자기 자신을 다시 부르는 함수"
   ]
  },
  {
   "cell_type": "code",
   "execution_count": 139,
   "id": "b941894e",
   "metadata": {},
   "outputs": [
    {
     "name": "stdout",
     "output_type": "stream",
     "text": [
      "Input Number for Factorial Calculation5\n",
      "120\n"
     ]
    }
   ],
   "source": [
    "def factorial(n):\n",
    "    if n == 1 :\n",
    "        return 1\n",
    "    else:\n",
    "        return n * factorial(n-1)\n",
    "    \n",
    "print(factorial(int(input(\"Input Number for Factorial Calculation\"))))"
   ]
  },
  {
   "cell_type": "markdown",
   "id": "3a2bf7a2",
   "metadata": {},
   "source": [
    "#### 함수의 인수\n",
    "<br>\n",
    "\n",
    "1. 가변 인수 : 함수의 인터페이스에 지정된 변수 이외의 추가 변수를 함수에 입력할 수 있게 지원하는 방법\n",
    "\n",
    "2. 키워드 인수 : 함수에 입력되는 매개변수의 변수명을 사용하여 함수의 인수를 지정하는 방법\n",
    "\n",
    "3. 디폴트 인수 : 매개변수에 기본값을 지정하여 사용하고, 아무런 값도 인수로 넘기지 않으면 지정된 기본값을 사용\n",
    "\n",
    "4. 키워드 가변인수 : asterisk 2개 붙임\n",
    "\n",
    "\n",
    "**일반 인수와 가변 인수를 함께 정의할때 일반, 가변, 키워드 인수 순으로 정의해야함.**"
   ]
  },
  {
   "cell_type": "code",
   "execution_count": 1,
   "id": "315df8e5",
   "metadata": {},
   "outputs": [
    {
     "ename": "TypeError",
     "evalue": "plus() missing 2 required positional arguments: 'c' and 'd'",
     "output_type": "error",
     "traceback": [
      "\u001b[1;31m---------------------------------------------------------------------------\u001b[0m",
      "\u001b[1;31mTypeError\u001b[0m                                 Traceback (most recent call last)",
      "\u001b[1;32m~\\AppData\\Local\\Temp/ipykernel_944/3658863143.py\u001b[0m in \u001b[0;36m<module>\u001b[1;34m\u001b[0m\n\u001b[0;32m      6\u001b[0m     \u001b[0mprint\u001b[0m\u001b[1;33m(\u001b[0m\u001b[0ma\u001b[0m\u001b[1;33m,\u001b[0m\u001b[0mb\u001b[0m\u001b[1;33m,\u001b[0m\u001b[0mc\u001b[0m\u001b[1;33m,\u001b[0m\u001b[0md\u001b[0m\u001b[1;33m)\u001b[0m\u001b[1;33m\u001b[0m\u001b[1;33m\u001b[0m\u001b[0m\n\u001b[0;32m      7\u001b[0m \u001b[1;33m\u001b[0m\u001b[0m\n\u001b[1;32m----> 8\u001b[1;33m \u001b[0mplus\u001b[0m\u001b[1;33m(\u001b[0m\u001b[1;36m4\u001b[0m\u001b[1;33m,\u001b[0m\u001b[1;36m2\u001b[0m\u001b[1;33m)\u001b[0m                        \u001b[1;31m# 제일 마지막에 정의된 함수만 정의 된다. 파이썬 쓰레기\u001b[0m\u001b[1;33m\u001b[0m\u001b[1;33m\u001b[0m\u001b[0m\n\u001b[0m\u001b[0;32m      9\u001b[0m \u001b[1;33m\u001b[0m\u001b[0m\n\u001b[0;32m     10\u001b[0m \u001b[1;31m# 동일한 이름을 사용하는 overload함수를 지원하지 않고 가변인수를 사용해서 하나의 함수에서 인수 개수에 따라 동작하도록 할수 있다.\u001b[0m\u001b[1;33m\u001b[0m\u001b[1;33m\u001b[0m\u001b[1;33m\u001b[0m\u001b[0m\n",
      "\u001b[1;31mTypeError\u001b[0m: plus() missing 2 required positional arguments: 'c' and 'd'"
     ]
    }
   ],
   "source": [
    "def plus(a,b):                   # 중복 정의된 함수\n",
    "    print(a,b)\n",
    "def plus(a,b,c):\n",
    "    print(a,b,c)\n",
    "def plus(a,b,c,d):\n",
    "    print(a,b,c,d)\n",
    "    \n",
    "plus(4,2)                        # 제일 마지막에 정의된 함수만 정의 된다. 파이썬 쓰레기\n",
    "\n",
    "# 동일한 이름을 사용하는 overload함수를 지원하지 않고 가변인수를 사용해서 하나의 함수에서 인수 개수에 따라 동작하도록 할수 있다."
   ]
  },
  {
   "cell_type": "code",
   "execution_count": 3,
   "id": "0e796683",
   "metadata": {
    "scrolled": true
   },
   "outputs": [
    {
     "name": "stdout",
     "output_type": "stream",
     "text": [
      "<class 'tuple'>\n",
      "['__add__', '__class__', '__contains__', '__delattr__', '__dir__', '__doc__', '__eq__', '__format__', '__ge__', '__getattribute__', '__getitem__', '__getnewargs__', '__gt__', '__hash__', '__init__', '__init_subclass__', '__iter__', '__le__', '__len__', '__lt__', '__mul__', '__ne__', '__new__', '__reduce__', '__reduce_ex__', '__repr__', '__rmul__', '__setattr__', '__sizeof__', '__str__', '__subclasshook__', 'count', 'index']\n"
     ]
    }
   ],
   "source": [
    "def plus(*a):\n",
    "    print(type(a))\n",
    "    print(dir(a))\n",
    "    \n",
    "plus(3,4,5,6,7,8)"
   ]
  },
  {
   "cell_type": "code",
   "execution_count": 11,
   "id": "282f5693",
   "metadata": {},
   "outputs": [
    {
     "name": "stdout",
     "output_type": "stream",
     "text": [
      "(3, 4, [5])\n"
     ]
    }
   ],
   "source": [
    "def asterisk_test_2(*args):\n",
    "    x, y, *z = args           # unpacking할때 앞의 asterisk는 ?\n",
    "    return x,y,z\n",
    "\n",
    "print(asterisk_test_2(3,4,5))"
   ]
  },
  {
   "cell_type": "code",
   "execution_count": 6,
   "id": "2068e8a8",
   "metadata": {},
   "outputs": [
    {
     "name": "stdout",
     "output_type": "stream",
     "text": [
      "Hello TEAMLAB, My name is Sungchul\n",
      "Hello TEAMLAB, My name is Sungchul\n"
     ]
    }
   ],
   "source": [
    "def print_something(my_name,your_name):\n",
    "    print(\"Hello {0}, My name is {1}\".format(your_name,my_name))\n",
    "    \n",
    "print_something(\"Sungchul\",\"TEAMLAB\")                           # positional parameter 전달방식\n",
    "print_something(your_name = \"TEAMLAB\", my_name = \"Sungchul\")    # named parameter 전달방식 \n",
    "\n",
    "# positional parameter 은 주로 정적타입 언어, 컴파일 언어\n",
    "# named parameter 은 주로 동적타입 언어, 인터프리터 언어 지원"
   ]
  },
  {
   "cell_type": "code",
   "execution_count": 8,
   "id": "16aff2f7",
   "metadata": {},
   "outputs": [
    {
     "name": "stdout",
     "output_type": "stream",
     "text": [
      "Hello TEAMLAB, My name is Sungchul\n",
      "Hello TEAMLAB, My name is Sungchul\n"
     ]
    }
   ],
   "source": [
    "def print_something_2(my_name,your_name = \"TEAMLAB\"):\n",
    "    print(\"Hello {0}, My name is {1}\".format(your_name,my_name))\n",
    "    \n",
    "print_something_2(\"Sungchul\",\"TEAMLAB\")                          \n",
    "print_something_2(\"Sungchul\") "
   ]
  },
  {
   "cell_type": "code",
   "execution_count": 16,
   "id": "2f229331",
   "metadata": {},
   "outputs": [
    {
     "name": "stdout",
     "output_type": "stream",
     "text": [
      "{'first': 3, 'second': 4, 'third': 5}\n",
      "First value is 3\n",
      "Second value is 4\n",
      "Third value is 5\n"
     ]
    }
   ],
   "source": [
    "def kwargs_test(**kwargs):\n",
    "#    print(type(kwargs))\n",
    "    print(kwargs)\n",
    "    print(\"First value is {first}\".format(**kwargs))      # unpacking 하겠다??\n",
    "    print(\"Second value is {second}\".format(**kwargs))\n",
    "    print(\"Third value is {third}\".format(**kwargs))\n",
    "\n",
    "kwargs_test(first=3,second=4,third=5)"
   ]
  },
  {
   "cell_type": "code",
   "execution_count": 18,
   "id": "9232f06b",
   "metadata": {},
   "outputs": [],
   "source": [
    "def calcsum(n):\n",
    "    \"\"\"1~n까지의 합계를 구해 리턴한다.\"\"\"        # docstring, 실행에 영향 X\n",
    "    sum = 0\n",
    "    for i in range(n+1):\n",
    "        sum += 1\n",
    "    return sum"
   ]
  },
  {
   "cell_type": "code",
   "execution_count": 40,
   "id": "ba68e496",
   "metadata": {
    "scrolled": false
   },
   "outputs": [
    {
     "name": "stdout",
     "output_type": "stream",
     "text": [
      "정수를 입력하세요121\n",
      "정수를 입력하세요5454\n",
      "정수를 입력하세요921\n",
      "세 정수의 곱은 : 607799214\n",
      "숫자의 개수는 : {'0': 1, '1': 1, '2': 1, '4': 1, '6': 1, '7': 2, '9': 2}\n"
     ]
    }
   ],
   "source": [
    "# Q3 \n",
    "\n",
    "from collections import Counter\n",
    "\n",
    "a = int(input(\"정수를 입력하세요\"))\n",
    "b = int(input(\"정수를 입력하세요\"))\n",
    "c = int(input(\"정수를 입력하세요\"))\n",
    "\n",
    "result = a * b * c\n",
    "s = list(str(result))\n",
    "s_sorted = sorted(s)\n",
    "\n",
    "\n",
    "print(\"세 정수의 곱은 :\",result)\n",
    "print(\"숫자의 개수는 :\", dict(Counter(s_sorted)))"
   ]
  },
  {
   "cell_type": "code",
   "execution_count": 51,
   "id": "c38f4121",
   "metadata": {
    "scrolled": true
   },
   "outputs": [
    {
     "name": "stdout",
     "output_type": "stream",
     "text": [
      "36\n"
     ]
    }
   ],
   "source": [
    "# Q4\n",
    "\n",
    "def calc(a,b):\n",
    "    if a > b:\n",
    "        return a*a - b*b\n",
    "    elif a < b:\n",
    "        return b*b - a*a\n",
    "    else:\n",
    "        return \"0\"\n",
    "    \n",
    "print(calc(8,10))"
   ]
  },
  {
   "cell_type": "markdown",
   "id": "618bf3b4",
   "metadata": {},
   "source": [
    "Q5>주민번호를 입력하면 유효한지 유효하지 않은지 bool값으로 반환하는 함수를 정의하고 함수를 실행시켜서 결과를 출력하시오\n",
    "/*\n",
    " * 사용자로부터 주민번호 입력 받음 : 000000-0000000 (문자열로 읽어들임)\n",
    "\t\t-을 제외시키고 한문자 한문자를 정수로 변환해서 int[] 에 저장 (배열의 크기는 13)\n",
    "\t\t주민번호 체크 :\n",
    "\t\t주민번호 앞에서부터 12자리의 각 자리의 수에 가중치 \n",
    "\t\t{ 2, 3, 4, 5, 6, 7, 8, 9, 2, 3, 4, 5 }를 곱합니다.\n",
    "\t\t곱한수를 모두 더하여 총합을 구합니다.\t\t \n",
    "\t\t총합을 11로 나눈 나머지를 구합니다.\n",
    "\t\t그 나머지를 11에서 뺀 결과가 CHECK DIGIT 입니다.\n",
    "\t\t뺀 결과가 2자리수인 경우에는 2자리수를 10으로 나눈 나머지가 CHECK DIGIT가 됩니다.\n",
    "\t\tCHECK DIGIT의 값이 입력 숫자 스트링의 13번째 숫자와 같으면 \"CORRECT\", 다르면 \"INCORRECT\"를 출력합니다.\n",
    "\t\tHINT> (11-나머지)%10 또는 (11-total%11)%10\n",
    " */\n",
    "\n",
    "123456-1234567\n",
    "234567 892345\n"
   ]
  },
  {
   "cell_type": "code",
   "execution_count": 31,
   "id": "a16c74ee",
   "metadata": {},
   "outputs": [
    {
     "ename": "SyntaxError",
     "evalue": "invalid syntax (Temp/ipykernel_16116/1080354429.py, line 17)",
     "output_type": "error",
     "traceback": [
      "\u001b[1;36m  File \u001b[1;32m\"C:\\Users\\neimb\\AppData\\Local\\Temp/ipykernel_16116/1080354429.py\"\u001b[1;36m, line \u001b[1;32m17\u001b[0m\n\u001b[1;33m    으악 모르겠따\u001b[0m\n\u001b[1;37m       ^\u001b[0m\n\u001b[1;31mSyntaxError\u001b[0m\u001b[1;31m:\u001b[0m invalid syntax\n"
     ]
    }
   ],
   "source": [
    "\n",
    "def p_number():\n",
    "    a = str(input(\"주민등록번호를 입력해주세요\"))\n",
    "    l_a = list(a)\n",
    "\n",
    "    if len(l_a) != 14 or l_a[6] != '-':\n",
    "        print(\"다시 입력해주세요\")\n",
    "    \n",
    "    i_a = ''\n",
    "    for i in l_a:\n",
    "        if not i.isdigit():\n",
    "            continue\n",
    "        i_a += i\n",
    "    \n",
    "    int_list = list(int(i_a))\n",
    "    \n",
    "    for i in int_list:\n",
    "        으악 모르겠따\n",
    "    \n",
    "    print(type(i_a),i_a)\n",
    "    "
   ]
  },
  {
   "cell_type": "code",
   "execution_count": 30,
   "id": "3f8134de",
   "metadata": {},
   "outputs": [
    {
     "name": "stdout",
     "output_type": "stream",
     "text": [
      "주민등록번호를 입력해주세요151515-4848515\n",
      "<class 'str'> 1515154848515\n"
     ]
    }
   ],
   "source": [
    "p_number()"
   ]
  },
  {
   "cell_type": "code",
   "execution_count": 14,
   "id": "a56dc0b6",
   "metadata": {},
   "outputs": [],
   "source": [
    "def check_jumin():\n",
    "    jumin_str = input('주민번호 입력(000000-0000000) :')\n",
    "    jumin_nums = []\n",
    "    \n",
    "    for s in jumin_str:\n",
    "        if s == '-' :\n",
    "            continue\n",
    "        else:\n",
    "            jumin_nums.append(int(s))\n",
    "            \n",
    "    digit = 2 \n",
    "    total = 0\n",
    "    for idx in range(len(jumin_nums)-1):\n",
    "        if digit == 10:\n",
    "            digit = 2\n",
    "        total += jumin_nums[idx]*digit\n",
    "        digit += 1\n",
    "        \n",
    "    check_digit = (11 -total%11)%10\n",
    "    if (check_digit == jumin_nums[-1]):\n",
    "        print(\"CORRECT\")\n",
    "    else:\n",
    "        print(\"INCORRECT\")"
   ]
  },
  {
   "cell_type": "code",
   "execution_count": 15,
   "id": "c65244d8",
   "metadata": {},
   "outputs": [
    {
     "name": "stdout",
     "output_type": "stream",
     "text": [
      "주민번호 입력(000000-0000000) :990612-1491011\n",
      "CORRECT\n"
     ]
    }
   ],
   "source": [
    "check_jumin()"
   ]
  },
  {
   "cell_type": "code",
   "execution_count": null,
   "id": "9ba6b160",
   "metadata": {},
   "outputs": [],
   "source": []
  },
  {
   "cell_type": "code",
   "execution_count": null,
   "id": "fda18b40",
   "metadata": {},
   "outputs": [],
   "source": []
  }
 ],
 "metadata": {
  "kernelspec": {
   "display_name": "Python 3 (ipykernel)",
   "language": "python",
   "name": "python3"
  },
  "language_info": {
   "codemirror_mode": {
    "name": "ipython",
    "version": 3
   },
   "file_extension": ".py",
   "mimetype": "text/x-python",
   "name": "python",
   "nbconvert_exporter": "python",
   "pygments_lexer": "ipython3",
   "version": "3.8.11"
  }
 },
 "nbformat": 4,
 "nbformat_minor": 5
}
