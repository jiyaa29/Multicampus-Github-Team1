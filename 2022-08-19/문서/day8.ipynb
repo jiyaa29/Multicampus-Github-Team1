{
 "cells": [
  {
   "cell_type": "markdown",
   "id": "fb43e883",
   "metadata": {},
   "source": [
    "# 파이썬 스타일 코드\n",
    "<br>\n",
    "\n",
    "파이썬 스타일의 코드 작성 기법\n",
    "\n",
    "---\n",
    "\n",
    "파이썬 스타일 코드를 사용하는 이유\n",
    "\n",
    "• 파이썬은 코드상으로 사람이 해야 하는 일을 최대한 줄이면서 같은 목표를 달성할 수 있는 문법 체계를 가지고 있다.\n",
    "\n",
    "• 파이썬 스타일 코드를 사용하면 다른 사람이 작성한 코드를 쉽게 이해할 수 있다.\n",
    "\n",
    "• 파이썬 스타일 코드가 익숙해지면 코드 자체도 간결해지고 코드 작성 시간도 줄일 수 있다"
   ]
  },
  {
   "cell_type": "code",
   "execution_count": 1,
   "id": "47cf358f",
   "metadata": {},
   "outputs": [
    {
     "name": "stdout",
     "output_type": "stream",
     "text": [
      "redbluegreenyellow\n"
     ]
    }
   ],
   "source": [
    "colors = ['red','blue','green','yellow']\n",
    "result = ''\n",
    "for s in colors:\n",
    "    result += s\n",
    "\n",
    "print(result)"
   ]
  },
  {
   "cell_type": "code",
   "execution_count": 2,
   "id": "6b986d4d",
   "metadata": {},
   "outputs": [
    {
     "name": "stdout",
     "output_type": "stream",
     "text": [
      "redbluegreenyellow\n"
     ]
    }
   ],
   "source": [
    "# 비교\n",
    "\n",
    "colors = ['red','blue','green','yellow']\n",
    "result = ''.join(colors)\n",
    "print(result)"
   ]
  },
  {
   "cell_type": "markdown",
   "id": "2272a0d7",
   "metadata": {},
   "source": [
    "# 문자열 분리 및 결합"
   ]
  },
  {
   "cell_type": "code",
   "execution_count": 8,
   "id": "c00e3c20",
   "metadata": {},
   "outputs": [
    {
     "name": "stdout",
     "output_type": "stream",
     "text": [
      "['python', 'jquery', 'javascript']\n",
      "redbluegreenyellow\n"
     ]
    }
   ],
   "source": [
    "example = 'python,jquery,javascript'\n",
    "print(example.split(\",\"))\n",
    "\n",
    "colors = ['red','blue','green','yellow']\n",
    "result = ''.join(colors)\n",
    "print(result)"
   ]
  },
  {
   "cell_type": "markdown",
   "id": "77144b69",
   "metadata": {},
   "source": [
    "# 리스트 컴프리헨션\n",
    "<br>\n",
    "\n",
    "기존 리스트형을 사용하여 간단하게 새로운 리스트를 만드는 기법\n",
    "\n",
    "리스트와 for문을 한 줄에 사용할 수 있는 장점"
   ]
  },
  {
   "cell_type": "code",
   "execution_count": 12,
   "id": "a3fcaf81",
   "metadata": {},
   "outputs": [
    {
     "name": "stdout",
     "output_type": "stream",
     "text": [
      "[0, 1, 2, 3, 4, 5, 6, 7, 8, 9]\n",
      "[0, 1, 2, 3, 4, 5, 6, 7, 8, 9]\n"
     ]
    }
   ],
   "source": [
    "# 기존\n",
    "\n",
    "result = []\n",
    "for i in range(10):\n",
    "    result.append(i)\n",
    "    \n",
    "print(result)\n",
    "\n",
    "# 리스트 컴프리헨션\n",
    "\n",
    "result = [i for i in range(10)]\n",
    "print(result)"
   ]
  },
  {
   "cell_type": "code",
   "execution_count": 15,
   "id": "8364725e",
   "metadata": {},
   "outputs": [
    {
     "name": "stdout",
     "output_type": "stream",
     "text": [
      "[0, 2, 4, 6, 8]\n",
      "[0, 2, 4, 6, 8]\n"
     ]
    }
   ],
   "source": [
    "# 리스트 컴프리센션 - 필터링\n",
    "\n",
    "# 기본\n",
    "\n",
    "result = []\n",
    "for i in range(10):\n",
    "    if i % 2 == 0:\n",
    "        result.append(i)\n",
    "print(result)\n",
    "\n",
    "# 리스트 컴프리헨션 (True만 있을때는 if문을 뒤에 씀)\n",
    "\n",
    "result = [i for i in range(10) if i % 2 == 0]\n",
    "print(result)"
   ]
  },
  {
   "cell_type": "code",
   "execution_count": 14,
   "id": "334cc488",
   "metadata": {},
   "outputs": [
    {
     "data": {
      "text/plain": [
       "[0, 10, 2, 10, 4, 10, 6, 10, 8, 10]"
      ]
     },
     "execution_count": 14,
     "metadata": {},
     "output_type": "execute_result"
    }
   ],
   "source": [
    "# if문에 Else문까지 있을 때 (True와 False 가 있을 때는 if문을 앞에다가 씀)\n",
    "\n",
    "result = [i if i % 2 == 0 else 10 for i in range(10)]\n",
    "result"
   ]
  },
  {
   "cell_type": "code",
   "execution_count": 18,
   "id": "d9fce9cd",
   "metadata": {},
   "outputs": [
    {
     "name": "stdout",
     "output_type": "stream",
     "text": [
      "['HW', 'Ho', 'Hr', 'Hl', 'Hd', 'eW', 'eo', 'er', 'el', 'ed', 'lW', 'lo', 'lr', 'll', 'ld', 'lW', 'lo', 'lr', 'll', 'ld', 'oW', 'oo', 'or', 'ol', 'od']\n",
      "['AD', 'AE', 'BD', 'BE', 'BA', 'CD', 'CE', 'CA']\n"
     ]
    }
   ],
   "source": [
    "# 리스트 컴프리헨션 - 중첩 반복문\n",
    "\n",
    "word_1 = \"Hello\"\n",
    "word_2 = \"World\"\n",
    "result = [i+j for i in word_1 for j in word_2]\n",
    "print(result)\n",
    "\n",
    "# 중첩반복문에 필터링\n",
    "\n",
    "case_1 = ['A','B','C']\n",
    "case_2 = ['D','E','A']\n",
    "result = [i+j for i in case_1 for j in case_2 if not (i==j)]\n",
    "print(result)"
   ]
  },
  {
   "cell_type": "code",
   "execution_count": 22,
   "id": "56173107",
   "metadata": {},
   "outputs": [
    {
     "name": "stdout",
     "output_type": "stream",
     "text": [
      "['The', 'quick', 'brown', 'fox', 'jumps', 'over', 'the', 'lazy', 'dog']\n",
      "['THE', 'the', 3]\n",
      "['QUICK', 'quick', 5]\n",
      "['BROWN', 'brown', 5]\n",
      "['FOX', 'fox', 3]\n",
      "['JUMPS', 'jumps', 5]\n",
      "['OVER', 'over', 4]\n",
      "['THE', 'the', 3]\n",
      "['LAZY', 'lazy', 4]\n",
      "['DOG', 'dog', 3]\n"
     ]
    }
   ],
   "source": [
    "# 리스트 컴프리헨션 - 이차원 리스트\n",
    "\n",
    "words = 'The quick brown fox jumps over the lazy dog'.split()    # 토크나이징\n",
    "print(words)\n",
    "\n",
    "stuff = [[w.upper(), w.lower(), len(w)] for w in words]          # 대괄호 2개, 이차원리스트\n",
    "for i in stuff:                                                  # 보기좋게 반복문 돌려 출력\n",
    "    print(i)"
   ]
  },
  {
   "cell_type": "code",
   "execution_count": 24,
   "id": "5dcec02e",
   "metadata": {},
   "outputs": [
    {
     "name": "stdout",
     "output_type": "stream",
     "text": [
      "['AD', 'AE', 'AA', 'BD', 'BE', 'BA', 'CD', 'CE', 'CA']\n",
      "[['AD', 'BD', 'CD'], ['AE', 'BE', 'CE'], ['AA', 'BA', 'CA']]\n"
     ]
    }
   ],
   "source": [
    "# for문이 여러개 있을 때 대괄호의 위치에 따라 실행 결과가 달라짐\n",
    "# 앞에 있는 for문이 먼저 실행\n",
    "\n",
    "case_1 = ['A','B','C']\n",
    "case_2 = ['D','E','A']\n",
    "result = [i+j for i in case_1 for j in case_2]     # 앞의 for문이 먼저 실행\n",
    "print(result)\n",
    "\n",
    "\n",
    "# 이차원 리스트는 대괄호가 하나 더 써야함 = 먼저 작동하는 for문의 순서가 달라짐\n",
    "result = [[i+j for i in case_1] for j in case_2]   # 뒤에 for문이 고정되서 뒤의 for문이 먼저 실행\n",
    "print(result)"
   ]
  },
  {
   "cell_type": "code",
   "execution_count": 39,
   "id": "396c2f2c",
   "metadata": {},
   "outputs": [
    {
     "name": "stderr",
     "output_type": "stream",
     "text": [
      "UsageError: Line magic function `%%time` not found.\n"
     ]
    }
   ],
   "source": [
    "def sclar_vector_product(scalar,vector):\n",
    "    result = []\n",
    "    for value in vector:\n",
    "        result.append(scalar * value)\n",
    "    return result\n",
    "\n",
    "iteration_max = 10000\n",
    "\n",
    "vector = list(range(iteration_max))\n",
    "scalar = 2 \n",
    "\n",
    "\n",
    "for _ in range(iteration_max):\n",
    "    sclar_vector_product(scalar,vector)"
   ]
  },
  {
   "cell_type": "code",
   "execution_count": 50,
   "id": "32c687af",
   "metadata": {},
   "outputs": [],
   "source": [
    "# 컴프리헨션 버전, 위 코드보다 시간, 성능 good\n",
    "\n",
    "iteration_max = 10000\n",
    "\n",
    "vector = list(range(iteration_max))\n",
    "scalar = 2 \n",
    "\n",
    "\n",
    "for _ in range(iteration_max):\n",
    "    [scalar * value for value in range(iteration_max)]"
   ]
  },
  {
   "cell_type": "code",
   "execution_count": 51,
   "id": "a7019f7b",
   "metadata": {},
   "outputs": [
    {
     "name": "stdout",
     "output_type": "stream",
     "text": [
      "Wall time: 7.97 s\n"
     ]
    }
   ],
   "source": [
    "%%time\n",
    "for _ in range(iteration_max):\n",
    "    sclar_vector_product(scalar,vector)"
   ]
  },
  {
   "cell_type": "code",
   "execution_count": 52,
   "id": "19be03c5",
   "metadata": {},
   "outputs": [
    {
     "name": "stdout",
     "output_type": "stream",
     "text": [
      "Wall time: 6 s\n"
     ]
    }
   ],
   "source": [
    "%%time\n",
    "for _ in range(iteration_max):\n",
    "    [scalar * value for value in range(iteration_max)]"
   ]
  },
  {
   "cell_type": "markdown",
   "id": "26802671",
   "metadata": {},
   "source": [
    "# 다양한 방식의 리스트값 출력"
   ]
  },
  {
   "cell_type": "code",
   "execution_count": 55,
   "id": "164f1c91",
   "metadata": {},
   "outputs": [
    {
     "name": "stdout",
     "output_type": "stream",
     "text": [
      "0 tic\n",
      "1 tac\n",
      "2 tok\n"
     ]
    }
   ],
   "source": [
    "# 리스트값에 인덱스도 같이 출력 : enumerate()\n",
    "\n",
    "for i,v in enumerate(['tic','tac','tok']):\n",
    "    print(i,v)"
   ]
  },
  {
   "cell_type": "code",
   "execution_count": 59,
   "id": "2caa1fbd",
   "metadata": {},
   "outputs": [
    {
     "data": {
      "text/plain": [
       "{0: 'TEAMLAB',\n",
       " 1: 'is',\n",
       " 2: 'an',\n",
       " 3: 'academic',\n",
       " 4: 'institute',\n",
       " 5: 'located',\n",
       " 6: 'in',\n",
       " 7: 'South',\n",
       " 8: 'Korea.'}"
      ]
     },
     "execution_count": 59,
     "metadata": {},
     "output_type": "execute_result"
    }
   ],
   "source": [
    "# 주로 딕셔너리형에서 사용\n",
    "# 인덱스를 키, 단어를 값으로 쌍으로 묶어 결과 출력\n",
    "\n",
    "{i:j for i, j in enumerate('TEAMLAB is an academic institute located in South Korea.'.split())}\n",
    "# {} 로 dictionary 생성, i = index(key), j = splited data(value)"
   ]
  },
  {
   "cell_type": "code",
   "execution_count": 64,
   "id": "0b96a584",
   "metadata": {},
   "outputs": [
    {
     "name": "stdout",
     "output_type": "stream",
     "text": [
      "a1 b1\n",
      "a2 b2\n",
      "a3 b3\n",
      "a1 b1\n",
      "a2 b2\n"
     ]
    }
   ],
   "source": [
    "# 리스트값을 병렬로 묶어 출력 : zip()\n",
    "# 1개 이상의 리스트가 있을 때, 그 리스트들의 같은 인덱스에 있는 data를 병렬로 묶는 함수\n",
    "\n",
    "alist = ['a1','a2','a3']\n",
    "blist = ['b1','b2','b3']\n",
    "for a,b in zip(alist, blist):\n",
    "    print(a,b)\n",
    "\n",
    "    \n",
    "# 값이 부족하거나 많으면 걍 생략 \n",
    "alist = ['a1','a2']\n",
    "blist = ['b1','b2','b3']\n",
    "for a,b in zip(alist, blist):\n",
    "    print(a,b)"
   ]
  },
  {
   "cell_type": "code",
   "execution_count": 65,
   "id": "07912003",
   "metadata": {},
   "outputs": [
    {
     "name": "stdout",
     "output_type": "stream",
     "text": [
      "(1, 10, 100) (2, 20, 200) (3, 30, 300)\n"
     ]
    },
    {
     "data": {
      "text/plain": [
       "[111, 222, 333]"
      ]
     },
     "execution_count": 65,
     "metadata": {},
     "output_type": "execute_result"
    }
   ],
   "source": [
    "# zip안에 Tuple을 넘겼을 때\n",
    "a,b,c = zip((1,2,3),(10,20,30),(100,200,300))\n",
    "print(a,b,c)\n",
    "\n",
    "[sum(x) for x in zip((1,2,3),(10,20,30),(100,200,300))]\n",
    "# 1 + 10 + 100 (index 0 인 애들), 2 + 20 + 200...."
   ]
  },
  {
   "cell_type": "code",
   "execution_count": 67,
   "id": "1294cda9",
   "metadata": {},
   "outputs": [
    {
     "name": "stdout",
     "output_type": "stream",
     "text": [
      "0 a1 b1\n",
      "1 a2 b2\n",
      "2 a3 b3\n"
     ]
    }
   ],
   "source": [
    "alist = ['a1','a2','a3']\n",
    "blist = ['b1','b2','b3']\n",
    "for i, (a,b) in enumerate(zip(alist,blist)):\n",
    "    print(i,a,b,)\n",
    "    \n",
    "# enumerate() 의 첫번째 인수 = (i)는 인덱스를 반환해주고, (a,b)는 걍 데이터 출력한거라고 보면댐"
   ]
  },
  {
   "cell_type": "markdown",
   "id": "17f5ea59",
   "metadata": {},
   "source": [
    "# 람다 함수\n",
    "<br>\n",
    "\n",
    "함수의 이름 없이, 함수처럼 사용할 수 있는 익명의 함수\n",
    "\n",
    "람다 함수는 별도의 def나 return을 작성하지 않는다."
   ]
  },
  {
   "cell_type": "code",
   "execution_count": 72,
   "id": "526783d8",
   "metadata": {},
   "outputs": [
    {
     "name": "stdout",
     "output_type": "stream",
     "text": [
      "5\n",
      "5\n",
      "6\n"
     ]
    }
   ],
   "source": [
    "# 일반 함수\n",
    "\n",
    "def f(x,y):\n",
    "    return x+y\n",
    "print(f(1,4))\n",
    "\n",
    "# 람다 함수\n",
    "\n",
    "f = lambda x, y : x + y\n",
    "print(f(1,4))\n",
    "\n",
    "# 람다함수 쓰면서 바로 호출까지 하는.. 즉시 실행 함수\n",
    "print((lambda x:x +1)(5))"
   ]
  },
  {
   "cell_type": "code",
   "execution_count": 77,
   "id": "09e1f7ca",
   "metadata": {},
   "outputs": [
    {
     "name": "stdout",
     "output_type": "stream",
     "text": [
      "5\n",
      "9\n",
      "1.5\n"
     ]
    },
    {
     "ename": "TypeError",
     "evalue": "<lambda>() takes 1 positional argument but 2 were given",
     "output_type": "error",
     "traceback": [
      "\u001b[1;31m---------------------------------------------------------------------------\u001b[0m",
      "\u001b[1;31mTypeError\u001b[0m                                 Traceback (most recent call last)",
      "\u001b[1;32m~\\AppData\\Local\\Temp/ipykernel_14512/2582766603.py\u001b[0m in \u001b[0;36m<module>\u001b[1;34m\u001b[0m\n\u001b[0;32m     10\u001b[0m \u001b[1;33m\u001b[0m\u001b[0m\n\u001b[0;32m     11\u001b[0m \u001b[1;31m# 인수 하나넣어야하는데 2개 넣으면 에러\u001b[0m\u001b[1;33m\u001b[0m\u001b[1;33m\u001b[0m\u001b[1;33m\u001b[0m\u001b[0m\n\u001b[1;32m---> 12\u001b[1;33m \u001b[0mf\u001b[0m\u001b[1;33m(\u001b[0m\u001b[1;36m3\u001b[0m\u001b[1;33m,\u001b[0m\u001b[1;36m5\u001b[0m\u001b[1;33m)\u001b[0m\u001b[1;33m\u001b[0m\u001b[1;33m\u001b[0m\u001b[0m\n\u001b[0m",
      "\u001b[1;31mTypeError\u001b[0m: <lambda>() takes 1 positional argument but 2 were given"
     ]
    }
   ],
   "source": [
    "f = lambda x,y : x + y\n",
    "print(f(1,4))\n",
    "\n",
    "f = lambda x : x ** 2\n",
    "print(f(3))\n",
    "\n",
    "f = lambda x : x / 2\n",
    "print(f(3))\n",
    "\n",
    "\n",
    "# 인수 하나넣어야하는데 2개 넣으면 에러\n",
    "f(3,5)"
   ]
  },
  {
   "cell_type": "markdown",
   "id": "29d9a144",
   "metadata": {},
   "source": [
    "# 맵리듀스\n",
    "<br>\n",
    "\n",
    "Map : java같은 경우는 key, value 를 쓰는 객체가 있음, 가공되지 않은 데이터를 새로운 구조로 만드는 것 \n",
    "\n",
    "reduce : 그 데이터를 집계, summary, 불어난 데이터의 양이 줄어듬\n",
    "\n",
    "---\n",
    "\n",
    "map( ) 함수 : 연속 데이터를 저장하는 시퀀스형에서 **요소마다 같은 기능을 적용**할 때 사용.\n",
    "\n",
    "\n",
    "일반적으로 리스트나 튜플처럼 요소가 있는 시퀀스 자료형에 사용됨"
   ]
  },
  {
   "cell_type": "markdown",
   "id": "25a62eea",
   "metadata": {},
   "source": [
    "파이썬 3.x 버전에서는 반드시 list(map(f,ex))처럼 list를 붙어야 리스트로 반환됨\n",
    "> **제너레이터?** 라는 개념이 강화되면서 생긴 추가 코드 "
   ]
  },
  {
   "cell_type": "markdown",
   "id": "735801d9",
   "metadata": {},
   "source": [
    "BUT 최근에는 람다나 map()을 개발에 별로 안씀.. 리스트 컴프리헨션으로 얼마든지 짧게 만듬"
   ]
  },
  {
   "cell_type": "code",
   "execution_count": 87,
   "id": "7be373db",
   "metadata": {},
   "outputs": [
    {
     "name": "stdout",
     "output_type": "stream",
     "text": [
      "[1, 4, 9, 16, 25]\n",
      "\n",
      "1\n",
      "4\n",
      "9\n",
      "16\n",
      "25\n"
     ]
    },
    {
     "data": {
      "text/plain": [
       "[1, 4, 9, 16, 25]"
      ]
     },
     "execution_count": 87,
     "metadata": {},
     "output_type": "execute_result"
    }
   ],
   "source": [
    "# list 붙인거\n",
    "\n",
    "ex = [1,2,3,4,5]\n",
    "f = lambda x:x ** 2\n",
    "print(list(map(f,ex)))\n",
    "\n",
    "\n",
    "print()\n",
    "# list 안붙인거\n",
    "ex = [1,2,3,4,5]\n",
    "f = lambda x:x ** 2\n",
    "for value in map(f,ex):\n",
    "    print(value)\n",
    "    \n",
    "# 리스트 컴프리헨션  \n",
    "ex = [1,2,3,4,5]\n",
    "[x **2 for x in ex]"
   ]
  },
  {
   "cell_type": "code",
   "execution_count": 90,
   "id": "e8e43bae",
   "metadata": {},
   "outputs": [
    {
     "name": "stdout",
     "output_type": "stream",
     "text": [
      "[2, 4, 6, 8, 10]\n",
      "[2, 4, 6, 8, 10]\n"
     ]
    }
   ],
   "source": [
    "ex = [1,2,3,4,5]\n",
    "f = lambda x,y : x + y\n",
    "print(list(map(f,ex,ex)))\n",
    "\n",
    "# 리스트 컴프리헨션\n",
    "print([x+y for x,y in zip(ex,ex)])"
   ]
  },
  {
   "cell_type": "code",
   "execution_count": 89,
   "id": "e82a76b5",
   "metadata": {},
   "outputs": [
    {
     "name": "stdout",
     "output_type": "stream",
     "text": [
      "[1, 4, 3, 16, 5]\n",
      "[1, 4, 3, 16, 5]\n"
     ]
    }
   ],
   "source": [
    "# map() 필터링 기능\n",
    "\n",
    "print(list(map(lambda x:x**2 if x % 2 == 0 else x, ex)))\n",
    "\n",
    "# 리스트 컴프리헨션\n",
    "print([x**2 if x % 2 == 0 else x for x in ex])"
   ]
  },
  {
   "cell_type": "markdown",
   "id": "9b693851",
   "metadata": {},
   "source": [
    "## reduce()\n",
    "<br>\n",
    "\n",
    "리스트와 같은 시퀀스 자료형에 차례대로 함수를 적용하여 모든 값을 통합하는 함수이다. \n",
    "\n",
    "람다 함수와 맵리듀스는 파이썬 2.x 버전에서 매우 많이 사용하던 함수이다.\n",
    "\n",
    "최근에는 그 문법의 복잡성 때문에 권장하지 않지만, 여전히 기존 코드와 새롭게 만들어지는 코드에서는 많이 사용하고 있으므로 알아둘 필요가 있다"
   ]
  },
  {
   "cell_type": "code",
   "execution_count": 92,
   "id": "6fa8093f",
   "metadata": {},
   "outputs": [
    {
     "name": "stdout",
     "output_type": "stream",
     "text": [
      "15\n"
     ]
    }
   ],
   "source": [
    "from functools import reduce\n",
    "print(reduce(lambda x,y : x+y, [1,2,3,4,5]))"
   ]
  },
  {
   "cell_type": "code",
   "execution_count": null,
   "id": "4e640cb8",
   "metadata": {},
   "outputs": [],
   "source": []
  },
  {
   "cell_type": "code",
   "execution_count": 100,
   "id": "298d8ffc",
   "metadata": {
    "scrolled": true
   },
   "outputs": [
    {
     "name": "stdout",
     "output_type": "stream",
     "text": [
      "[7, 10]\n",
      "[7, 10]\n",
      "[7, 10]\n"
     ]
    },
    {
     "data": {
      "text/plain": [
       "[7, 10]"
      ]
     },
     "execution_count": 100,
     "metadata": {},
     "output_type": "execute_result"
    }
   ],
   "source": [
    "u = [2,2]\n",
    "v = [2,3]\n",
    "z = [3,5]\n",
    "result = []\n",
    "\n",
    "for i in range(len(u)):\n",
    "    result.append(u[i]+v[i]+z[i])\n",
    "\n",
    "print(result)\n",
    "\n",
    "\n",
    "# 리스트 컴프리헨션\n",
    "\n",
    "u = [2,2]\n",
    "v = [2,3]\n",
    "z = [3,5]\n",
    "\n",
    "result = [sum(t) for t in zip(u,v,z)]\n",
    "print(result)\n",
    "\n",
    "\n",
    "# 별표를 사용한 함수화\n",
    "\n",
    "def vector_addition(*args):\n",
    "    return [sum(t) for t in zip(*args)]\n",
    "\n",
    "print(vector_addition(u,v,z))\n",
    "\n",
    "row_vectors = [[2,2],[2,3],[3,5]]\n",
    "vector_addition(*row_vectors)"
   ]
  },
  {
   "cell_type": "markdown",
   "id": "9010a5d8",
   "metadata": {},
   "source": [
    "### 스칼라-벡터 연산\n",
    "<br>\n",
    "\n",
    "스칼라와 벡터는 곱셈 연산이 가능, 분배 법칙 적용 ok\n",
    "\n",
    "행렬도 벡터와 마찬가지로 리스트, 튜플, 딕셔너리 등을 사용하여 파이썬 스타일 코드로 표현할 수 있다. \n",
    "\n",
    "이차원의 정보를 행렬이라고 한다. 이 행렬은 일차원의 벡터 정보를 모아 이차원 형태로 표현한 것으로, 벡터의 정보를 모아 표현할 수 있다."
   ]
  },
  {
   "cell_type": "code",
   "execution_count": 103,
   "id": "5ec68e45",
   "metadata": {},
   "outputs": [
    {
     "data": {
      "text/plain": [
       "[10, 12, 14]"
      ]
     },
     "execution_count": 103,
     "metadata": {},
     "output_type": "execute_result"
    }
   ],
   "source": [
    "u = [1,2,3]\n",
    "v = [4,4,4]\n",
    "alpha = 2\n",
    "\n",
    "result = [alpha * sum(t) for t in zip(u,v)]\n",
    "result"
   ]
  },
  {
   "cell_type": "code",
   "execution_count": 106,
   "id": "b059d96e",
   "metadata": {},
   "outputs": [
    {
     "data": {
      "text/plain": [
       "{(0, 0): 3, (0, 1): 6, (1, 0): 4, (1, 1): 5}"
      ]
     },
     "execution_count": 106,
     "metadata": {},
     "output_type": "execute_result"
    }
   ],
   "source": [
    "# 행렬도 벡터와 마찬가지로 리스트, 튜플, 딕셔너리 등으로 다양하게 표현 가능\n",
    "\n",
    "matrix_a = [[3,6],[4,5]]\n",
    "matrix_b = [(3,6),(4,5)]\n",
    "matrix_c = {(0,0):3,(0,1):6,(1,0):4,(1,1):5}\n",
    "\n"
   ]
  },
  {
   "cell_type": "markdown",
   "id": "b91b6b3f",
   "metadata": {},
   "source": [
    "2개 이상의 행렬을 연산하기 위해 각 행렬의 크기는 같아야 한다. \n",
    "> 즉, A가 ‘2×2 행렬’이라면 B도 같은 ‘2×2 행렬’이어야한다. \n",
    "\n",
    "행렬의 가장 기본적인 연산은 덧셈과 뺄셈의 경우, 인덱스가 같은 값끼리 연산이 일어난다. "
   ]
  },
  {
   "cell_type": "code",
   "execution_count": 109,
   "id": "5a0c314c",
   "metadata": {},
   "outputs": [
    {
     "name": "stdout",
     "output_type": "stream",
     "text": [
      "[[8, 14], [10, 12]]\n"
     ]
    }
   ],
   "source": [
    "matrix_a = [[3,6],[4,5]]\n",
    "matrix_b = [[5,8],[6,7]]\n",
    "result = [[sum(row) for row in zip(*t)] for t in zip(matrix_a,matrix_b)]\n",
    "\n",
    "print(result)"
   ]
  },
  {
   "cell_type": "code",
   "execution_count": 111,
   "id": "810df282",
   "metadata": {},
   "outputs": [
    {
     "data": {
      "text/plain": [
       "[([3, 6], [5, 8]), ([4, 5], [6, 7])]"
      ]
     },
     "execution_count": 111,
     "metadata": {},
     "output_type": "execute_result"
    }
   ],
   "source": [
    "[t for t in zip(matrix_a,matrix_b)]"
   ]
  },
  {
   "cell_type": "markdown",
   "id": "4d27223c",
   "metadata": {},
   "source": [
    "## 행렬의 동치\n",
    "<br>\n",
    "\n",
    "2개의 행렬이 서로 같은지를 나타내는 표현\n",
    "\n",
    "all( ) 함수와 any( ) 함수는 리스트형과 튜플형에서 내부 값이 and 조건이나 or 조건으로 참인지 거짓인지를 반환하는 함수\n"
   ]
  },
  {
   "cell_type": "code",
   "execution_count": 118,
   "id": "60fdbe7c",
   "metadata": {},
   "outputs": [
    {
     "name": "stdout",
     "output_type": "stream",
     "text": [
      "True\n",
      "([1, 1], [1, 1]) <class 'tuple'>\n",
      "(1, 1) <class 'tuple'>\n",
      "1\n",
      "1\n",
      "(1, 1) <class 'tuple'>\n",
      "1\n",
      "1\n",
      "([1, 1], [1, 1]) <class 'tuple'>\n",
      "(1, 1) <class 'tuple'>\n",
      "1\n",
      "1\n",
      "(1, 1) <class 'tuple'>\n",
      "1\n",
      "1\n",
      "False\n"
     ]
    }
   ],
   "source": [
    "matrix_a = [[1,1],[1,1]]\n",
    "matrix_b = [[1,1],[1,1]]\n",
    "\n",
    "print(all([row[0] == value for t in zip(matrix_a,matrix_b) for row in zip(*t) for value in row]))\n",
    "\n",
    "# 기존에 배운 대로..\n",
    "for t in zip(matrix_a,matrix_b):\n",
    "    print(t,type(t))\n",
    "    for row in zip(*t):\n",
    "        print(row,type(row))\n",
    "        for value in row:\n",
    "            print(value)\n",
    "            row[0] == value\n",
    "\n",
    "# matrix_b의 값이 달라지면?\n",
    "matrix_b = [[5,8],[6,7]]\n",
    "\n",
    "print(all([row[0] == value for t in zip(matrix_a,matrix_b) for row in zip(*t) for value in row]))  "
   ]
  },
  {
   "cell_type": "markdown",
   "id": "5a792333",
   "metadata": {},
   "source": [
    "#### 결과 분석\n",
    "\n",
    "```python\n",
    "([1, 1], [1, 1]) <class 'tuple'>\n",
    "(1, 1) <class 'tuple'>                  # unpacking 해서 첫번째 인덱스 인애들이 (1,1)로 추출됨\n",
    "1\n",
    "1\n",
    "(1, 1) <class 'tuple'>\n",
    "1\n",
    "1\n",
    "([1, 1], [1, 1]) <class 'tuple'>\n",
    "(1, 1) <class 'tuple'>\n",
    "1\n",
    "1\n",
    "(1, 1) <class 'tuple'>\n",
    "1\n",
    "1\n",
    "```"
   ]
  },
  {
   "cell_type": "code",
   "execution_count": 119,
   "id": "9890f1d9",
   "metadata": {},
   "outputs": [
    {
     "name": "stdout",
     "output_type": "stream",
     "text": [
      "False\n",
      "True\n",
      "False\n",
      "True\n"
     ]
    }
   ],
   "source": [
    "# all, any함수\n",
    "\n",
    "print(any([False,False,False]))\n",
    "print(any([False,True,False]))\n",
    "print(all([False,True,True]))\n",
    "print(all([True,True,True]))"
   ]
  },
  {
   "cell_type": "code",
   "execution_count": 122,
   "id": "eeb94a23",
   "metadata": {},
   "outputs": [
    {
     "data": {
      "text/plain": [
       "[[True, False], [True, False], [True, False], [True, False]]"
      ]
     },
     "execution_count": 122,
     "metadata": {},
     "output_type": "execute_result"
    }
   ],
   "source": [
    "# 파이썬 스타일 코드를 이용한 행렬의 동치 확인\n",
    "matrix_a = [[1,1],[1,1]]\n",
    "matrix_b = [[5,8],[6,7]]\n",
    "\n",
    "\n",
    "[[row[0] == value for value in row] for t in zip(matrix_a,matrix_b) for row in zip(*t)]"
   ]
  },
  {
   "cell_type": "markdown",
   "id": "a2a5f099",
   "metadata": {},
   "source": [
    "### 전치행렬\n",
    "<br>\n",
    "\n",
    "행과 열을 바꿔만든 행렬\n",
    "\n",
    "전치행렬을 구현하기 위해 행과 열의 값을 변경해야 한다. \n",
    "\n",
    "별표와 zip( ) 함수로 각 행의 같은 위치의 인덱스값을 추출한 후, 이 값으로 리스트를 새롭게 구성"
   ]
  },
  {
   "cell_type": "code",
   "execution_count": 124,
   "id": "a6b9b6a6",
   "metadata": {},
   "outputs": [
    {
     "data": {
      "text/plain": [
       "[[1, 4], [2, 5], [3, 6]]"
      ]
     },
     "execution_count": 124,
     "metadata": {},
     "output_type": "execute_result"
    }
   ],
   "source": [
    "matrix_a = [[1,2,3],[4,5,6]]\n",
    "result = [[element for element in t] for t in zip(*matrix_a)]\n",
    "result"
   ]
  },
  {
   "cell_type": "markdown",
   "id": "cae8e5a8",
   "metadata": {},
   "source": [
    "## 행렬의 곱셈\n",
    "<br>\n",
    "\n",
    "행렬의 곱셈은 앞 행렬의 행과 뒤 행렬의 열을 선형 결합하면 된다\n",
    "\n",
    "앞 행렬의 열과 뒤 행렬의 행의 크기가 같아야 한다. 행렬의 곱셈을 위한 조건을 만족하여야 연산이 된다."
   ]
  },
  {
   "cell_type": "code",
   "execution_count": 129,
   "id": "f8287c63",
   "metadata": {},
   "outputs": [
    {
     "data": {
      "text/plain": [
       "[[5, 8], [5, 6]]"
      ]
     },
     "execution_count": 129,
     "metadata": {},
     "output_type": "execute_result"
    }
   ],
   "source": [
    "matrix_a = [[1,1,2],[2,1,1]]\n",
    "matrix_b = [[1,1],[2,1],[1,3]]\n",
    "result = [[sum(a * b for a, b in zip(row_a, column_b)) for column_b in zip(*matrix_b)] for row_a in matrix_a]\n",
    "result"
   ]
  },
  {
   "cell_type": "code",
   "execution_count": null,
   "id": "d197dcb4",
   "metadata": {},
   "outputs": [],
   "source": []
  },
  {
   "cell_type": "code",
   "execution_count": null,
   "id": "cbfc5815",
   "metadata": {},
   "outputs": [],
   "source": []
  },
  {
   "cell_type": "code",
   "execution_count": null,
   "id": "8c894667",
   "metadata": {},
   "outputs": [],
   "source": []
  }
 ],
 "metadata": {
  "kernelspec": {
   "display_name": "Python 3 (ipykernel)",
   "language": "python",
   "name": "python3"
  },
  "language_info": {
   "codemirror_mode": {
    "name": "ipython",
    "version": 3
   },
   "file_extension": ".py",
   "mimetype": "text/x-python",
   "name": "python",
   "nbconvert_exporter": "python",
   "pygments_lexer": "ipython3",
   "version": "3.8.11"
  }
 },
 "nbformat": 4,
 "nbformat_minor": 5
}
