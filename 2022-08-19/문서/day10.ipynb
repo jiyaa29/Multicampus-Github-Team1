{
 "cells": [
  {
   "cell_type": "markdown",
   "id": "3efb897b",
   "metadata": {},
   "source": [
    "# 패키지 네임스페이스\n",
    "<br>\n",
    "\n",
    "절대참조?\n",
    "```python\n",
    "from roboadvisor.analysis import statics\n",
    "```\n",
    "\n",
    "상대참조\n",
    "```python\n",
    "from .statics import statics_test\n",
    "from .crawling parser import parser_test\n",
    "```"
   ]
  },
  {
   "cell_type": "markdown",
   "id": "a0226baf",
   "metadata": {},
   "source": [
    "# 가상환경\n",
    "<br>\n",
    "\n",
    "프로젝트를 수행할 때 파이썬 코드를 수행할 기본 인터프리터에서 추가로 프로젝트별로 필요한 패키지 설치\n",
    "\n",
    ">virtualenv +pip, conda..\n",
    "\n",
    "---\n",
    "\n",
    "#### 가상환경 명령어\n",
    "\n",
    "```python\n",
    "conda create -n my_project pyhton = 3.4\n",
    "activate my_project\n",
    "\n",
    "where python             # 현재 실행되는 파이썬의 위치 출력\n",
    "\n",
    "conda install matplolib  # 패키지 설치\n",
    "deactivate\n",
    "```"
   ]
  },
  {
   "cell_type": "markdown",
   "id": "6ab6f066",
   "metadata": {},
   "source": [
    "# 예외처리\n",
    "<br>\n",
    "\n",
    "예측 가능한 예외 : 발생 여부를 개발자가 사전에 인지할 수 있는 예외\n",
    "\n",
    "예측 불가능한 예외 : 매우 많은 파일을 처리할 때 문제가 발생\n",
    "\n",
    "---\n",
    "\n",
    "예외 처리 구문 : try - except 문\n",
    "\n",
    "```python\n",
    "try:\n",
    "    예외 발생 가능 코드\n",
    "except 예외 타입:\n",
    "    예외 발생시 실행되는 코드\n",
    "```\n",
    "\n",
    "예외의 발생은 예상 가능하므로 try문으로 대비할 수 있음.\n",
    "\n",
    "---\n",
    "\n",
    "예외 종류\n",
    "1. IndexError : 리스트의 인덱스범위를 넘어갈 때\n",
    "2. NameError : 존재하지 않는 변수를 호출할 때\n",
    "3. ZeroDivisionError : 0으로 숫자를 나눌 때\n",
    "4. ValueError : 변환할수 없는 문자/숫자를 반환할 때\n",
    "5. FileNotFoundError : 존재하지 않는 파일을 호출할 때\n",
    "\n",
    "\n",
    "---\n",
    "\n",
    "예외 처리 : 오류에 강한 프로그램 구현을 위해 필요함\n",
    "\n",
    "다양한 데이터들은 파일로 저장되어 있고 제공받음, file로부터 데이터를 읽을 수 있어야함"
   ]
  },
  {
   "cell_type": "code",
   "execution_count": 7,
   "id": "539c56f1",
   "metadata": {},
   "outputs": [
    {
     "name": "stdout",
     "output_type": "stream",
     "text": [
      "Not divided by 0\n",
      "10.0\n",
      "5.0\n",
      "3.3333333333333335\n",
      "2.5\n",
      "2.0\n",
      "1.6666666666666667\n",
      "1.4285714285714286\n",
      "1.25\n",
      "1.1111111111111112\n"
     ]
    }
   ],
   "source": [
    "for i in range(10):\n",
    "    try:\n",
    "        print(10/i)\n",
    "    except ZeroDivisionError:\n",
    "        print(\"Not divided by 0\")"
   ]
  },
  {
   "cell_type": "code",
   "execution_count": 8,
   "id": "286a15a6",
   "metadata": {},
   "outputs": [
    {
     "name": "stdout",
     "output_type": "stream",
     "text": [
      "division by zero\n",
      "Not divided by 0\n",
      "10.0\n",
      "5.0\n",
      "3.3333333333333335\n",
      "2.5\n",
      "2.0\n",
      "1.6666666666666667\n",
      "1.4285714285714286\n",
      "1.25\n",
      "1.1111111111111112\n"
     ]
    }
   ],
   "source": [
    "# 예외 에러 메시지\n",
    "\n",
    "for i in range(10):\n",
    "    try:\n",
    "        print(10/i)\n",
    "    except ZeroDivisionError as e:\n",
    "        print(e)\n",
    "        print(\"Not divided by 0\")"
   ]
  },
  {
   "cell_type": "markdown",
   "id": "6a6ac2f5",
   "metadata": {},
   "source": [
    "#### try - except - else문\n",
    "<br>\n",
    "\n",
    "if - else문과 비슷한데, 예외가 발생하지 않을 경우 수행할 코드를 else문에 작성\n",
    "\n",
    "---\n",
    "\n",
    "#### try - except - finally문\n",
    "<br>\n",
    "\n",
    "예외 발생 여부와 상관없이 실행되는 코드\n",
    "\n",
    "사용했던 자원들을 정리 작업\n",
    "\n",
    "---\n",
    "\n",
    "#### raise문\n",
    "<br>\n",
    "\n",
    "예외를 의도적으로 발생시키는 구문\n",
    "\n",
    "---\n",
    "\n",
    "#### assert문\n",
    "<br>\n",
    "\n",
    "미리 알아야 할 예외 정보가 조건에 만족하지 않을 경우 예외 발생"
   ]
  },
  {
   "cell_type": "code",
   "execution_count": 10,
   "id": "42b94e4c",
   "metadata": {},
   "outputs": [
    {
     "name": "stdout",
     "output_type": "stream",
     "text": [
      "Not divided by 0\n",
      "10.0\n",
      "5.0\n",
      "3.3333333333333335\n",
      "2.5\n",
      "2.0\n",
      "1.6666666666666667\n",
      "1.4285714285714286\n",
      "1.25\n",
      "1.1111111111111112\n"
     ]
    }
   ],
   "source": [
    "for i in range(10):\n",
    "    try:\n",
    "        result = 10 / i\n",
    "    except ZeroDivisionError:\n",
    "        print(\"Not divided by 0\")\n",
    "    else:\n",
    "        print(10/i)"
   ]
  },
  {
   "cell_type": "code",
   "execution_count": 55,
   "id": "99dbef72",
   "metadata": {},
   "outputs": [
    {
     "name": "stdout",
     "output_type": "stream",
     "text": [
      "정수 입력4\n",
      "짝수 입니다.\n"
     ]
    }
   ],
   "source": [
    "def number():\n",
    "    try:\n",
    "        num = int(input(\"정수 입력\"))\n",
    "    except ValueError as e:\n",
    "        print(e)\n",
    "    else:\n",
    "        if num % 2 == 0:\n",
    "            print(\"짝수 입니다.\")\n",
    "        else: \n",
    "            print(\"홀수 입니다.\")\n",
    "\n",
    "            \n",
    "number()"
   ]
  },
  {
   "cell_type": "code",
   "execution_count": 56,
   "id": "5564c31c",
   "metadata": {},
   "outputs": [
    {
     "name": "stdout",
     "output_type": "stream",
     "text": [
      "10\n",
      "5\n",
      "3\n",
      "2\n",
      "2\n",
      "1\n",
      "1\n",
      "1\n",
      "1\n",
      "종료되었다.\n"
     ]
    }
   ],
   "source": [
    "try:\n",
    "    for i in range(1,10):\n",
    "        result = 10 // i\n",
    "        print(result)\n",
    "except ZeroDivisionError:\n",
    "    print(\"Not divided by 0\")\n",
    "finally:\n",
    "    print(\"종료되었다.\")"
   ]
  },
  {
   "cell_type": "code",
   "execution_count": 59,
   "id": "9df4b8f2",
   "metadata": {},
   "outputs": [
    {
     "name": "stdout",
     "output_type": "stream",
     "text": [
      "변환할 정수값을 입력해 주세요. :4564891651\n",
      "정수값으로 변환된 숫자 - 4564891651\n",
      "변환할 정수값을 입력해 주세요. :244212.1.153484\n"
     ]
    },
    {
     "ename": "ValueError",
     "evalue": "숫자값을 입력하지 않았습니다.",
     "output_type": "error",
     "traceback": [
      "\u001b[1;31m---------------------------------------------------------------------------\u001b[0m",
      "\u001b[1;31mValueError\u001b[0m                                Traceback (most recent call last)",
      "\u001b[1;32m~\\AppData\\Local\\Temp/ipykernel_14172/4273082067.py\u001b[0m in \u001b[0;36m<module>\u001b[1;34m\u001b[0m\n\u001b[0;32m      3\u001b[0m     \u001b[1;32mfor\u001b[0m \u001b[0mdigit\u001b[0m \u001b[1;32min\u001b[0m \u001b[0mvalue\u001b[0m\u001b[1;33m:\u001b[0m\u001b[1;33m\u001b[0m\u001b[1;33m\u001b[0m\u001b[0m\n\u001b[0;32m      4\u001b[0m         \u001b[1;32mif\u001b[0m \u001b[0mdigit\u001b[0m \u001b[1;32mnot\u001b[0m \u001b[1;32min\u001b[0m \u001b[1;34m\"0123456789\"\u001b[0m\u001b[1;33m:\u001b[0m\u001b[1;33m\u001b[0m\u001b[1;33m\u001b[0m\u001b[0m\n\u001b[1;32m----> 5\u001b[1;33m             \u001b[1;32mraise\u001b[0m \u001b[0mValueError\u001b[0m\u001b[1;33m(\u001b[0m\u001b[1;34m\"숫자값을 입력하지 않았습니다.\"\u001b[0m\u001b[1;33m)\u001b[0m\u001b[1;33m\u001b[0m\u001b[1;33m\u001b[0m\u001b[0m\n\u001b[0m\u001b[0;32m      6\u001b[0m     \u001b[0mprint\u001b[0m\u001b[1;33m(\u001b[0m\u001b[1;34m\"정수값으로 변환된 숫자 -\"\u001b[0m\u001b[1;33m,\u001b[0m \u001b[0mint\u001b[0m\u001b[1;33m(\u001b[0m\u001b[0mvalue\u001b[0m\u001b[1;33m)\u001b[0m\u001b[1;33m)\u001b[0m\u001b[1;33m\u001b[0m\u001b[1;33m\u001b[0m\u001b[0m\n",
      "\u001b[1;31mValueError\u001b[0m: 숫자값을 입력하지 않았습니다."
     ]
    }
   ],
   "source": [
    "while True:\n",
    "    value = input(\"변환할 정수값을 입력해 주세요. :\")\n",
    "    for digit in value:\n",
    "        if digit not in \"0123456789\":\n",
    "            raise ValueError(\"숫자값을 입력하지 않았습니다.\")\n",
    "    print(\"정수값으로 변환된 숫자 -\", int(value))"
   ]
  },
  {
   "cell_type": "code",
   "execution_count": 65,
   "id": "78f63e92",
   "metadata": {},
   "outputs": [
    {
     "name": "stdout",
     "output_type": "stream",
     "text": [
      "0b1010\n"
     ]
    },
    {
     "ename": "AssertionError",
     "evalue": "정수가 아니야",
     "output_type": "error",
     "traceback": [
      "\u001b[1;31m---------------------------------------------------------------------------\u001b[0m",
      "\u001b[1;31mAssertionError\u001b[0m                            Traceback (most recent call last)",
      "\u001b[1;32m~\\AppData\\Local\\Temp/ipykernel_14172/3859988103.py\u001b[0m in \u001b[0;36m<module>\u001b[1;34m\u001b[0m\n\u001b[0;32m      4\u001b[0m \u001b[1;33m\u001b[0m\u001b[0m\n\u001b[0;32m      5\u001b[0m \u001b[0mprint\u001b[0m\u001b[1;33m(\u001b[0m\u001b[0mget_binary_number\u001b[0m\u001b[1;33m(\u001b[0m\u001b[1;36m10\u001b[0m\u001b[1;33m)\u001b[0m\u001b[1;33m)\u001b[0m\u001b[1;33m\u001b[0m\u001b[1;33m\u001b[0m\u001b[0m\n\u001b[1;32m----> 6\u001b[1;33m \u001b[0mprint\u001b[0m\u001b[1;33m(\u001b[0m\u001b[0mget_binary_number\u001b[0m\u001b[1;33m(\u001b[0m\u001b[1;34m'10'\u001b[0m\u001b[1;33m)\u001b[0m\u001b[1;33m)\u001b[0m\u001b[1;33m\u001b[0m\u001b[1;33m\u001b[0m\u001b[0m\n\u001b[0m",
      "\u001b[1;32m~\\AppData\\Local\\Temp/ipykernel_14172/3859988103.py\u001b[0m in \u001b[0;36mget_binary_number\u001b[1;34m(decimal_number)\u001b[0m\n\u001b[0;32m      1\u001b[0m \u001b[1;32mdef\u001b[0m \u001b[0mget_binary_number\u001b[0m\u001b[1;33m(\u001b[0m\u001b[0mdecimal_number\u001b[0m\u001b[1;33m)\u001b[0m\u001b[1;33m:\u001b[0m\u001b[1;33m\u001b[0m\u001b[1;33m\u001b[0m\u001b[0m\n\u001b[1;32m----> 2\u001b[1;33m     \u001b[1;32massert\u001b[0m \u001b[0misinstance\u001b[0m\u001b[1;33m(\u001b[0m\u001b[0mdecimal_number\u001b[0m\u001b[1;33m,\u001b[0m\u001b[0mint\u001b[0m\u001b[1;33m)\u001b[0m\u001b[1;33m,\u001b[0m \u001b[1;34m'정수가 아니야'\u001b[0m\u001b[1;33m\u001b[0m\u001b[1;33m\u001b[0m\u001b[0m\n\u001b[0m\u001b[0;32m      3\u001b[0m     \u001b[1;32mreturn\u001b[0m \u001b[0mbin\u001b[0m\u001b[1;33m(\u001b[0m\u001b[0mdecimal_number\u001b[0m\u001b[1;33m)\u001b[0m\u001b[1;33m\u001b[0m\u001b[1;33m\u001b[0m\u001b[0m\n\u001b[0;32m      4\u001b[0m \u001b[1;33m\u001b[0m\u001b[0m\n\u001b[0;32m      5\u001b[0m \u001b[0mprint\u001b[0m\u001b[1;33m(\u001b[0m\u001b[0mget_binary_number\u001b[0m\u001b[1;33m(\u001b[0m\u001b[1;36m10\u001b[0m\u001b[1;33m)\u001b[0m\u001b[1;33m)\u001b[0m\u001b[1;33m\u001b[0m\u001b[1;33m\u001b[0m\u001b[0m\n",
      "\u001b[1;31mAssertionError\u001b[0m: 정수가 아니야"
     ]
    }
   ],
   "source": [
    "def get_binary_number(decimal_number):\n",
    "    assert isinstance(decimal_number,int), '정수가 아니야'\n",
    "    return bin(decimal_number)\n",
    "\n",
    "print(get_binary_number(10))\n",
    "print(get_binary_number('10'))"
   ]
  },
  {
   "cell_type": "code",
   "execution_count": 79,
   "id": "39192308",
   "metadata": {},
   "outputs": [],
   "source": [
    "talls = [150,155.5,148,117,161,163.5,185,164,170,169,159,152]\n",
    "\n",
    "class OutOfRangeTallError(Exception):\n",
    "    def __init__(self,message):\n",
    "        self.tall = 160.5\n",
    "        self.message = message\n",
    "        \n",
    "    def __str__(self):\n",
    "        return self.message\n",
    "    \n",
    "    \n",
    "# 파라미터값의 범위가 130이상 180이하가 아니면 예외(OutOfRangeTall) 발생\n",
    "def checkTallValue(tall):\n",
    "    if tall < 130:\n",
    "        raise OutOfRangeTallError(\"중학생 평균 키 범위는 130 이상이어야합니다.\")\n",
    "    elif tall > 180:\n",
    "        raise OutOfRangeTallError(\"중학생 평균 키 범위는 180 이하이어야합니다.\")\n",
    "        \n",
    "# 중학생 키 값\n",
    "def getMiddleTallAvg(talls):\n",
    "    for idx, t in enumerate(talls):\n",
    "        try:\n",
    "            checkTallValue(t)\n",
    "        except OutOfRangeTallError as e :\n",
    "            print(e)\n",
    "            print(\"작년도 중학생 키 평균값으로 보정합니다\")\n",
    "            talls[idx] = e.tall\n",
    "    return sum(talls)/len(talls)"
   ]
  },
  {
   "cell_type": "code",
   "execution_count": 80,
   "id": "9b5c64cb",
   "metadata": {},
   "outputs": [
    {
     "name": "stdout",
     "output_type": "stream",
     "text": [
      "중학생 평균 키 범위는 130 이상이어야합니다.\n",
      "작년도 중학생 키 평균값으로 보정합니다\n",
      "중학생 평균 키 범위는 180 이하이어야합니다.\n",
      "작년도 중학생 키 평균값으로 보정합니다\n",
      "2022년도 중학생 평균 키 : 159.41666666666666\n"
     ]
    }
   ],
   "source": [
    "print(\"2022년도 중학생 평균 키 :\",getMiddleTallAvg(talls))"
   ]
  },
  {
   "cell_type": "markdown",
   "id": "51d424dd",
   "metadata": {},
   "source": [
    "# 파일 다루기\n",
    "<br>\n",
    "\n",
    "파일 : 컴퓨터를 실행할 때 가장 기본이 되는 단위\n",
    "\n",
    "바이너리 파일 : 컴퓨터만 이해할 수 있는 2진법으로 저장, 메모장으로 열면 깨짐\n",
    "\n",
    "텍스트 파일 : 사람도 이해할 수 있는 문자열으로 저장, 메모장으로 열면 확인 가능"
   ]
  },
  {
   "cell_type": "code",
   "execution_count": 93,
   "id": "46220a95",
   "metadata": {},
   "outputs": [
    {
     "name": "stdout",
     "output_type": "stream",
     "text": [
      "I have a dream a song to sing\n",
      "to help me cope with anything\n",
      "if you see the wonder of a fairy tale\n",
      "you can take the future even\n",
      "if you fail I believe in angels\n",
      "something good in everything\n",
      "\n"
     ]
    }
   ],
   "source": [
    "f = open('dream.txt','r')\n",
    "contents = f.read()\n",
    "print(contents)\n",
    "f.close()"
   ]
  },
  {
   "cell_type": "code",
   "execution_count": 94,
   "id": "f9aaa7c7",
   "metadata": {},
   "outputs": [
    {
     "name": "stdout",
     "output_type": "stream",
     "text": [
      "<class 'str'> I have a dream a song to sing\n",
      "to help me cope with anything\n",
      "if you see the wonder of a fairy tale\n",
      "you can take the future even\n",
      "if you fail I believe in angels\n",
      "something good in everything\n",
      "\n"
     ]
    }
   ],
   "source": [
    "# close()를 까먹으니깐....\n",
    "\n",
    "with open(\"dream.txt\",'r') as my_file:\n",
    "    contents = my_file.read()\n",
    "    print(type(contents),contents)\n",
    "    \n",
    "# with 문은 런타임이 자동으로 open한 파일 close해줌."
   ]
  },
  {
   "cell_type": "code",
   "execution_count": 95,
   "id": "bf03582f",
   "metadata": {},
   "outputs": [
    {
     "name": "stdout",
     "output_type": "stream",
     "text": [
      "<class 'list'>\n",
      "['I have a dream a song to sing\\n', 'to help me cope with anything\\n', 'if you see the wonder of a fairy tale\\n', 'you can take the future even\\n', 'if you fail I believe in angels\\n', 'something good in everything\\n']\n"
     ]
    }
   ],
   "source": [
    "# 한 줄씩 읽어서 리스트형으로 전환\n",
    "\n",
    "with open(\"dream.txt\",'r') as my_file:\n",
    "    content_list = my_file.readlines()\n",
    "    print(type(content_list))\n",
    "    print(content_list)"
   ]
  },
  {
   "cell_type": "code",
   "execution_count": 96,
   "id": "cf2de343",
   "metadata": {},
   "outputs": [
    {
     "name": "stdout",
     "output_type": "stream",
     "text": [
      "0===I have a dream a song to sing\n",
      "1===to help me cope with anything\n",
      "2===if you see the wonder of a fairy tale\n",
      "3===you can take the future even\n",
      "4===if you fail I believe in angels\n",
      "5===something good in everything\n"
     ]
    }
   ],
   "source": [
    "# 한 줄씩 읽어오기\n",
    "\n",
    "with open(\"dream.txt\",'r') as my_file:\n",
    "    i = 0\n",
    "    while 1:\n",
    "        line = my_file.readline()\n",
    "        if not line:\n",
    "            break\n",
    "        print(str(i)+ \"===\" +line.replace(\"\\n\",\"\"))\n",
    "        i = i + 1"
   ]
  },
  {
   "cell_type": "code",
   "execution_count": 97,
   "id": "32ceac1d",
   "metadata": {},
   "outputs": [
    {
     "name": "stdout",
     "output_type": "stream",
     "text": [
      "총 글자의 수 : 188\n",
      "총 단어의 수 : 35\n",
      "총 줄의 수 : 7\n"
     ]
    }
   ],
   "source": [
    "# 파일 안 글자의 통계 정보 출력하기\n",
    "\n",
    "with open(\"dream.txt\",'r') as my_file:\n",
    "    contents = my_file.read()\n",
    "    word_list = contents.split(\" \")\n",
    "    line_list = contents.split(\"\\n\")\n",
    "    \n",
    "print(\"총 글자의 수 :\", len(contents))\n",
    "print(\"총 단어의 수 :\", len(word_list))\n",
    "print(\"총 줄의 수 :\", len(line_list))"
   ]
  },
  {
   "cell_type": "code",
   "execution_count": 99,
   "id": "0de315cf",
   "metadata": {},
   "outputs": [],
   "source": [
    "# 텍스트 파일 저장시 표준 지정 - encoding\n",
    "\n",
    "f = open(\"count_log.txt\",'w',encoding='utf8')\n",
    "for i in range(1,11):\n",
    "    data = \"%d번째 줄이다.\\n\" % i\n",
    "    f.write(data)   \n",
    "f.close()"
   ]
  },
  {
   "cell_type": "code",
   "execution_count": 100,
   "id": "9d794c66",
   "metadata": {},
   "outputs": [],
   "source": [
    "# 파일 열기 모드 a로 새로운 글 추가하기\n",
    "\n",
    "with open(\"count_log.txt\",'a',encoding = 'utf8') as f:\n",
    "    for i in range(1,11):\n",
    "        data = \"%d번째 줄이다.\\n\" % i\n",
    "        f.write(data)"
   ]
  },
  {
   "cell_type": "code",
   "execution_count": 102,
   "id": "b60bbee2",
   "metadata": {},
   "outputs": [
    {
     "ename": "FileExistsError",
     "evalue": "[WinError 183] 파일이 이미 있으므로 만들 수 없습니다: 'log'",
     "output_type": "error",
     "traceback": [
      "\u001b[1;31m---------------------------------------------------------------------------\u001b[0m",
      "\u001b[1;31mFileExistsError\u001b[0m                           Traceback (most recent call last)",
      "\u001b[1;32m~\\AppData\\Local\\Temp/ipykernel_14172/428752494.py\u001b[0m in \u001b[0;36m<module>\u001b[1;34m\u001b[0m\n\u001b[0;32m      2\u001b[0m \u001b[1;33m\u001b[0m\u001b[0m\n\u001b[0;32m      3\u001b[0m \u001b[1;32mimport\u001b[0m \u001b[0mos\u001b[0m\u001b[1;33m\u001b[0m\u001b[1;33m\u001b[0m\u001b[0m\n\u001b[1;32m----> 4\u001b[1;33m \u001b[0mos\u001b[0m\u001b[1;33m.\u001b[0m\u001b[0mmkdir\u001b[0m\u001b[1;33m(\u001b[0m\u001b[1;34m\"log\"\u001b[0m\u001b[1;33m)\u001b[0m\u001b[1;33m\u001b[0m\u001b[1;33m\u001b[0m\u001b[0m\n\u001b[0m",
      "\u001b[1;31mFileExistsError\u001b[0m: [WinError 183] 파일이 이미 있으므로 만들 수 없습니다: 'log'"
     ]
    }
   ],
   "source": [
    "# 디렉터리 만들기\n",
    "\n",
    "import os\n",
    "os.mkdir(\"log\")\n",
    "\n",
    "# 이미 같은 파일명(폴더명)이 있다면 FileExistsError 발생."
   ]
  },
  {
   "cell_type": "code",
   "execution_count": 103,
   "id": "79bcb67c",
   "metadata": {},
   "outputs": [
    {
     "ename": "FileExistsError",
     "evalue": "[WinError 183] 파일이 이미 있으므로 만들 수 없습니다: 'log'",
     "output_type": "error",
     "traceback": [
      "\u001b[1;31m---------------------------------------------------------------------------\u001b[0m",
      "\u001b[1;31mFileExistsError\u001b[0m                           Traceback (most recent call last)",
      "\u001b[1;32m~\\AppData\\Local\\Temp/ipykernel_14172/1115520295.py\u001b[0m in \u001b[0;36m<module>\u001b[1;34m\u001b[0m\n\u001b[0;32m      2\u001b[0m \u001b[1;33m\u001b[0m\u001b[0m\n\u001b[0;32m      3\u001b[0m \u001b[1;32mimport\u001b[0m \u001b[0mos\u001b[0m\u001b[1;33m\u001b[0m\u001b[1;33m\u001b[0m\u001b[0m\n\u001b[1;32m----> 4\u001b[1;33m \u001b[0mos\u001b[0m\u001b[1;33m.\u001b[0m\u001b[0mmkdir\u001b[0m\u001b[1;33m(\u001b[0m\u001b[1;34m\"log\"\u001b[0m\u001b[1;33m)\u001b[0m\u001b[1;33m\u001b[0m\u001b[1;33m\u001b[0m\u001b[0m\n\u001b[0m\u001b[0;32m      5\u001b[0m \u001b[1;33m\u001b[0m\u001b[0m\n\u001b[0;32m      6\u001b[0m \u001b[1;32mif\u001b[0m \u001b[1;32mnot\u001b[0m \u001b[0mos\u001b[0m\u001b[1;33m.\u001b[0m\u001b[0mpath\u001b[0m\u001b[1;33m.\u001b[0m\u001b[0misdir\u001b[0m\u001b[1;33m(\u001b[0m\u001b[1;34m\"log\"\u001b[0m\u001b[1;33m)\u001b[0m\u001b[1;33m:\u001b[0m\u001b[1;33m\u001b[0m\u001b[1;33m\u001b[0m\u001b[0m\n",
      "\u001b[1;31mFileExistsError\u001b[0m: [WinError 183] 파일이 이미 있으므로 만들 수 없습니다: 'log'"
     ]
    }
   ],
   "source": [
    "# 이미 있나 없나 존재 여부 확인하기\n",
    "\n",
    "import os\n",
    "os.mkdir(\"log\")\n",
    "\n",
    "if not os.path.isdir(\"log\"):\n",
    "    os.mkdir(\"log\")"
   ]
  },
  {
   "cell_type": "code",
   "execution_count": 104,
   "id": "b9aa595e",
   "metadata": {},
   "outputs": [],
   "source": [
    "# 로그 파일 만들기\n",
    "\n",
    "import os\n",
    "\n",
    "if not os.path.isdir(\"log\"):\n",
    "    os.mkdir(\"log\")\n",
    "\n",
    "if not os.path.exists(\"log/count_log.txt\"):\n",
    "    f = open(\"log/count_log.txt\",'w',encoding=\"utf8\")\n",
    "    f.write(\"기록이 시작된다.\\n\")\n",
    "    f.close()\n",
    "    \n",
    "with open(\"log/count_log.txt\",'a',encoding=\"utf8\") as f:\n",
    "    import random, datetime\n",
    "    for i in range(1,11):\n",
    "        stamp = str(datetime.datetime.now())\n",
    "        value = random.random() * 1000000\n",
    "        log_line = stamp + \"\\t\" + str(value) + \"값이 생성되었다.\" + \"\\n\"\n",
    "        f.write(log_line)"
   ]
  },
  {
   "cell_type": "markdown",
   "id": "f2c1e7aa",
   "metadata": {},
   "source": [
    "# pickle 모듈\n",
    "<br>\n",
    "\n",
    "메모리에 로딩된 객체를 영속화? 할 수 있도록 지원\n",
    "\n",
    "객체를 저장할 수 있는 파일을 열고 저장하고자 하는 객체를 넘기는 것(dump)\n",
    "\n",
    "파일을 열때 'wb'로 열어야 함, binary 파일\n",
    "\n",
    "dump()의 인수에는 저장할 객체, 저장될 파일 객체..."
   ]
  },
  {
   "cell_type": "code",
   "execution_count": 108,
   "id": "24aa31a0",
   "metadata": {},
   "outputs": [],
   "source": [
    "import pickle\n",
    "\n",
    "f= open(\"list.pickle\",\"wb\")\n",
    "test = [1,2,3,4,5]\n",
    "pickle.dump(test,f)\n",
    "f.close()"
   ]
  },
  {
   "cell_type": "code",
   "execution_count": 109,
   "id": "df82cde6",
   "metadata": {},
   "outputs": [
    {
     "name": "stdout",
     "output_type": "stream",
     "text": [
      "[1, 2, 3, 4, 5]\n"
     ]
    }
   ],
   "source": [
    "# 저장된 pickle 파일을 불러오는 프로세스\n",
    "# rb로 불어온후 파일의 객체를 pickle.load()를 이용해 가져왔다.\n",
    "\n",
    "f = open(\"list.pickle\",'rb')\n",
    "test_pickle = pickle.load(f)\n",
    "print(test_pickle)\n",
    "f.close()"
   ]
  },
  {
   "cell_type": "code",
   "execution_count": 114,
   "id": "63a8fafb",
   "metadata": {},
   "outputs": [
    {
     "data": {
      "text/plain": [
       "50"
      ]
     },
     "execution_count": 114,
     "metadata": {},
     "output_type": "execute_result"
    }
   ],
   "source": [
    "# 단순히 생성된 객체만 저장하는게 아니고, 사용자가 직접 생성한 클래스의 객체도 저장함\n",
    "# 우선 클래스와 객체 만들기\n",
    "\n",
    "class Multiply(object):\n",
    "    \n",
    "    def __init__(self,multiplier):\n",
    "        self.multiplier = multiplier\n",
    "        \n",
    "    def multiply(self,number):\n",
    "        return number * self.multiplier\n",
    "\n",
    "muliply = Multiply(5)\n",
    "muliply.multiply(10)"
   ]
  },
  {
   "cell_type": "code",
   "execution_count": 119,
   "id": "5fd10ef6",
   "metadata": {},
   "outputs": [
    {
     "data": {
      "text/plain": [
       "25"
      ]
     },
     "execution_count": 119,
     "metadata": {},
     "output_type": "execute_result"
    }
   ],
   "source": [
    "# 먼저 pickle.dump를 이용해 multiply.object.pickle 파일을 만들고\n",
    "# 다시 열어서 내가 만든 클래스안의 객체를 쓰는 프로세스.\n",
    "\n",
    "import pickle \n",
    "\n",
    "f = open(\"multiply.object.pickle\",'wb')\n",
    "pickle.dump(muliply,f)\n",
    "f.close()\n",
    "\n",
    "f = open(\"multiply.object.pickle\",'rb')\n",
    "multiply_pickle = pickle.load(f)\n",
    "\n",
    "multiply_pickle.multiply(5)"
   ]
  },
  {
   "cell_type": "markdown",
   "id": "f6f0ddc3",
   "metadata": {},
   "source": [
    "# CSV\n",
    "<br>\n",
    "\n",
    "CSV(Comma Separate Values) : 콤마 구분자, 텍스트 형식의 파읾"
   ]
  },
  {
   "cell_type": "code",
   "execution_count": 131,
   "id": "fdd6334f",
   "metadata": {},
   "outputs": [
    {
     "name": "stdout",
     "output_type": "stream",
     "text": [
      "Header : ['customerNumber', 'customerName', 'contactLastName', 'contactFirstName', 'phone', 'addressLine1', 'addressLine2', 'city', 'state', 'postalCode', 'country', 'salesRepEmployeeNumber', 'creditLimit\\n']\n",
      "data size(rows) 122\n",
      "0  :  ['103', 'Atelier graphique', 'Schmitt', 'Carine ', '40.32.2555', '\"54', ' rue Royale\"', 'NULL', 'Nantes', 'NULL', '44000', 'France', '1370', '21000\\n']\n",
      "\n",
      "1  :  ['112', 'Signal Gift Stores', 'King', 'Jean', '7025551838', '8489 Strong St.', 'NULL', 'Las Vegas', 'NV', '83030', 'USA', '1166', '71800\\n']\n",
      "\n",
      "2  :  ['114', '\"Australian Collectors', ' Co.\"', 'Ferguson', 'Peter', '03 9520 4555', '636 St Kilda Road', 'Level 3', 'Melbourne', 'Victoria', '3004', 'Australia', '1611', '117300\\n']\n",
      "\n",
      "3  :  ['119', 'La Rochelle Gifts', 'Labrune', 'Janine ', '40.67.8555', '\"67', ' rue des Cinquante Otages\"', 'NULL', 'Nantes', 'NULL', '44000', 'France', '1370', '118200\\n']\n",
      "\n",
      "4  :  ['121', 'Baane Mini Imports', 'Bergulfsen', 'Jonas ', '07-98 9555', 'Erling Skakkes gate 78', 'NULL', 'Stavern', 'NULL', '4110', 'Norway', '1504', '81700\\n']\n",
      "\n",
      "file 저장 완료\n"
     ]
    }
   ],
   "source": [
    "lines = 0                                            # 데이터의 행수를 저장할 변수 (열제목 행수 포함)\n",
    "header = []                                          # 열제목 저장할 리스트 객체\n",
    "customer_datas = []                                  # 데이터를 행단위로 저장할 리스트 객체\n",
    "\n",
    "with open(\"customers.csv\") as f:                     # 파일 열고\n",
    "    while True:\n",
    "        data = f.readline()                          # 라인 단위로 읽기\n",
    "        if not data:                                 # 더 이상 읽은 내용이 업으면 None 반환, 무한루프 탈출\n",
    "            break                                       \n",
    "        if lines == 0:                               # 첫번째 열제목 줄을 읽어서 header 리스트에 저장\n",
    "            header = data.split(',')\n",
    "        else :                                       # data를 행 단위로 읽어서 customer_datas 리스트에 저장\n",
    "            customer_datas.append(data.split(\",\"))\n",
    "        lines += 1                                   # 한 행 읽은 후에 읽은 행수 증가\n",
    "\n",
    "        \n",
    "print(\"Header :\", header)\n",
    "print(\"data size(rows)\", len(customer_datas))\n",
    "\n",
    "# 1~5번째 줄 출력\n",
    "for idx in range(5):\n",
    "    print(idx, \" : \", customer_datas[idx],end=\"\\n\\n\")\n",
    "    \n",
    "# 읽어들인 데이터를 csv파일 생성, 저장\n",
    "with open(\"customer5.csv\",\"w\") as f:\n",
    "    for customer in customer_datas:\n",
    "        f.write(\",\".join(customer).strip('\\n') + '\\n')\n",
    "\n",
    "print(\"file 저장 완료\")"
   ]
  },
  {
   "cell_type": "markdown",
   "id": "0a86e9c3",
   "metadata": {},
   "source": [
    "### csv 관련 함수\n",
    "<br>\n",
    "\n",
    "csv모듈.reader(TextIOWrapper, delimiter= , qutoechar= , quoting = )\n",
    "\n",
    "> delimiter = 데이터를 분리하는 기준\n",
    "\n",
    "> qutoechar = 데이터를 묶을 때 사용하는 문자\n",
    "\n",
    "> quoting = 데이터를 묶는 기준\n",
    "\n",
    "csv모듈.writer"
   ]
  },
  {
   "cell_type": "code",
   "execution_count": 141,
   "id": "10a83365",
   "metadata": {},
   "outputs": [],
   "source": [
    "import csv\n",
    "\n",
    "rownum = 0\n",
    "header = []\n",
    "datas = []\n",
    "\n",
    "with open(\"korea_population_data.csv\",\"r\",encoding=\"cp949\") as f:\n",
    "    data = csv.reader(f)\n",
    "    for row in data:\n",
    "        if rownum == 0:\n",
    "            header = row\n",
    "        area = row[1]\n",
    "        if area.find('김포')!= -1:\n",
    "            datas.append(row)\n",
    "        rownum += 1\n",
    "        \n",
    "with open(\"kimpo_population_data.csv\",\"w\",encoding='utf8') as f:\n",
    "    writer = csv.writer(f, delimiter = '\\t', quotechar = \"'\", quoting = csv.QUOTE_ALL)\n",
    "    writer.writerow(header)\n",
    "    for row in datas:\n",
    "        writer.writerow(row)"
   ]
  },
  {
   "cell_type": "markdown",
   "id": "f4474f96",
   "metadata": {},
   "source": [
    "### 이게 뭐지\n",
    "<br>\n",
    "\n",
    "이기종간 (hardware, os가 서로 다른 경우)의 데이터 교환 전송방식 : xml > json\n",
    "\n",
    "---\n",
    "\n",
    "html : 100여개의 태그가 존재 \n",
    "```html\n",
    "<tag>blabla</tag>\n",
    "<명령어> blabla </명령어>\n",
    "```\n",
    "xml : 확장 가능한 마크업 언어\n",
    "\n",
    "파싱? \n",
    "\n",
    "> DOM parser(객체 트리구조로 메모리에 생성, 랜덤하게 읽고 쓸 수 있음)\n",
    "\n",
    "> SAX parser(1번 순차적으로 읽으면서 이벤트 기반으로 데이터 읽음)\n",
    "\n",
    "```xml\n",
    "<books>\n",
    "<book>\n",
    "<title>python</title>\n",
    "<publisher>멀티캠퍼스</publisher>\n",
    "<price>20000<price>\n",
    "</book>\n",
    "<book>\n",
    "<title>db</title>\n",
    "<publisher>오라클</publisher>\n",
    "<price>30000<price>\n",
    "</book>\n",
    "</books>\n",
    "```\n",
    "\n",
    "json : 자바 스크립트 객체를 정의하는 형식\n",
    "\n",
    "이기종간 (hardware, os가 서로 다른 경우)의 데이터 교환 전송방식\n",
    "\n",
    "xml보다 경량, 호환성 좋음\n",
    "\n",
    "```json\n",
    "[{\"title\" : \"python\", \"publisher\" : \"멀티캠퍼스\", \"price\" : 20000},\n",
    " {\"title\" : \"db\", \"publisher\" : \"오라클\", \"price\" : 30000}]\n",
    "```"
   ]
  },
  {
   "cell_type": "markdown",
   "id": "ecce071b",
   "metadata": {},
   "source": [
    "# json\n",
    "<br>\n",
    "\n",
    "dumps() : python 객체를 json 데이터로 쓸때 직렬화\n",
    "> dict => object, list, tuple => array, str => string, int, float => number\n",
    "\n",
    "loads() : json포맷의 데이터를 python 객체로 읽을 때 역직렬화\n",
    "\n",
    "메모리에 캐시되어 있는 json object를 python객체로 읽으려면 json.loads(json객체)"
   ]
  },
  {
   "cell_type": "code",
   "execution_count": 11,
   "id": "2cc71e44",
   "metadata": {
    "scrolled": true
   },
   "outputs": [
    {
     "name": "stdout",
     "output_type": "stream",
     "text": [
      "<class 'dict'>\n",
      "파일에 기록함\n"
     ]
    }
   ],
   "source": [
    "import json\n",
    "\n",
    "dict_data = {\"Name\" : \"kim\", \"Age\" : 20, \"Class\" : \"First\"}\n",
    "print(type(dict_data))\n",
    "with open(\"data.json\",\"w\") as f:\n",
    "    json.dump(dict_data,f)               # 메모리에 json object로 생성함\n",
    "    print(\"파일에 기록함\")"
   ]
  },
  {
   "cell_type": "code",
   "execution_count": 14,
   "id": "7c3c2fe1",
   "metadata": {},
   "outputs": [
    {
     "name": "stdout",
     "output_type": "stream",
     "text": [
      "<class 'str'> {\"Name\": \"kim\", \"Age\": 20, \"Class\": \"First\"}\n"
     ]
    }
   ],
   "source": [
    "json_obj = json.dumps(dict_data)         # 파이썬 객체를 직렬화해서 메모리에 json object로 생성\n",
    "print(type(json_obj),json_obj)"
   ]
  },
  {
   "cell_type": "code",
   "execution_count": 15,
   "id": "fa5455d8",
   "metadata": {},
   "outputs": [
    {
     "name": "stdout",
     "output_type": "stream",
     "text": [
      "<class 'dict'> {'Name': 'kim', 'Age': 20, 'Class': 'First'}\n"
     ]
    }
   ],
   "source": [
    "with open(\"data.json\",\"r\") as f:\n",
    "    pyobject = json.load(f)\n",
    "    print(type(pyobject),pyobject)"
   ]
  },
  {
   "cell_type": "code",
   "execution_count": 16,
   "id": "c18ffac7",
   "metadata": {},
   "outputs": [
    {
     "name": "stdout",
     "output_type": "stream",
     "text": [
      "<class 'dict'> {'Name': 'kim', 'Age': 20, 'Class': 'First'}\n"
     ]
    }
   ],
   "source": [
    "# 메모리에 캐시되어 있는 json object를 python객체로 읽으려면\n",
    "\n",
    "py_object = json.loads(json_obj)\n",
    "print(type(py_object),py_object)"
   ]
  },
  {
   "cell_type": "code",
   "execution_count": 48,
   "id": "66b7af7c",
   "metadata": {},
   "outputs": [],
   "source": [
    "# 실습\n",
    "\n",
    "class Array():\n",
    "\n",
    "    def __init__(self):\n",
    "        self.list2d = [[0,0,0,0],[0,0,0,0],[0,0,0,0]]\n",
    "        #self.2dlist = None\n",
    "        \n",
    "    def makeListData(self):\n",
    "        \n",
    "        import random\n",
    "        for row in range(3):\n",
    "            for col in range(4):\n",
    "                self.list2d[row][col] = random.randint(1,12)\n",
    "                \n",
    "    def printList(self):\n",
    "        for row in range(3):\n",
    "            for col in range(4):\n",
    "                print(self.list2d[row][col], end = ' ')\n",
    "            print()\n",
    "        \n",
    "        \n",
    "    def findMatchNumber(self, compare):\n",
    "        print(\"#일치하는 숫자:\", end = \" \")\n",
    "        cnt = 0\n",
    "        for row in range(3):\n",
    "            for col in range(4):\n",
    "                if self.list2d[row][col] == compare.list2d[row][col] :\n",
    "                    cnt += 1\n",
    "                    print(\"[\", row, \"]\", \"[\", col, \"]\", \"=\", self.list2d[row][col], end = ' ' )\n",
    "        \n",
    "        print()\n",
    "        print(\"일치하는 숫자 개수 :\", cnt)"
   ]
  },
  {
   "cell_type": "code",
   "execution_count": 139,
   "id": "c2df5c38",
   "metadata": {},
   "outputs": [
    {
     "name": "stdout",
     "output_type": "stream",
     "text": [
      "## 첫번째 Array 출력\n",
      "6 1 6 7 \n",
      "11 4 1 8 \n",
      "10 9 10 10 \n",
      "## 두번째 Array 출력\n",
      "4 1 7 7 \n",
      "1 11 8 8 \n",
      "5 5 12 2 \n",
      "#일치하는 숫자: [ 0 ] [ 1 ] = 1 [ 0 ] [ 3 ] = 7 [ 1 ] [ 3 ] = 8 \n",
      "일치하는 숫자 개수 : 3\n"
     ]
    }
   ],
   "source": [
    "array1 = Array()\n",
    "print(\"## 첫번째 Array 출력\")\n",
    "array1.makeListData()\n",
    "array1.printList()\n",
    "array2 = Array()\n",
    "print(\"## 두번째 Array 출력\")\n",
    "array2.makeListData()\n",
    "array2.printList()\n",
    "\n",
    "array1.findMatchNumber(array2)"
   ]
  },
  {
   "cell_type": "code",
   "execution_count": null,
   "id": "358ca37a",
   "metadata": {},
   "outputs": [],
   "source": []
  },
  {
   "cell_type": "code",
   "execution_count": null,
   "id": "64bacc70",
   "metadata": {},
   "outputs": [],
   "source": []
  }
 ],
 "metadata": {
  "kernelspec": {
   "display_name": "Python 3 (ipykernel)",
   "language": "python",
   "name": "python3"
  },
  "language_info": {
   "codemirror_mode": {
    "name": "ipython",
    "version": 3
   },
   "file_extension": ".py",
   "mimetype": "text/x-python",
   "name": "python",
   "nbconvert_exporter": "python",
   "pygments_lexer": "ipython3",
   "version": "3.8.11"
  }
 },
 "nbformat": 4,
 "nbformat_minor": 5
}
